{
  "cells": [
    {
      "cell_type": "code",
      "execution_count": 1,
      "metadata": {
        "id": "PnPzxg5zKyWC"
      },
      "outputs": [],
      "source": [
        "import pandas as pd\n",
        "import numpy as np"
      ]
    },
    {
      "cell_type": "markdown",
      "metadata": {
        "id": "LRzfzRBLTT6R"
      },
      "source": [
        "1. Identificação do Jogo:\n",
        "  * Name - Nome do Jogo\n",
        "  * Platform - Plataforma em que o jogo foi lançada\n",
        "  * Year_of_Release - Ano do lançamento\n",
        "  * Genre - Genero do Jogo\n",
        "  * Publisher - Quem esta publicando o jogo\n",
        "\n",
        "2. Vendas:\n",
        "  * NA_Sales - Venda na América do Norte\n",
        "  * EU_Sales - Vendas na União Europeia\n",
        "  * JP_Sales - Venda no Japão\n",
        "  * Other_Sales - Soma  das vendas em outros locais\n",
        "  * Global_Sales - Soma das vendas globais\n",
        "\n",
        "3. Avaliações:\n",
        "  * Critic_Score - Nota dos Críticos\n",
        "  * Critic_Count - Quantidade de críticos que votaram\n",
        "  * User_Score - Notas dos Usuários\n",
        "  * User_Count - Quantidade de usuários que votaram\n",
        "\n",
        "4. Informações Adicionais:\n",
        "  * Developer - Quem desenvolveu o jogo\n",
        "  * Rating - Classificação etária do jogo"
      ]
    },
    {
      "cell_type": "code",
      "execution_count": 2,
      "metadata": {
        "id": "BZiBm2hGL170"
      },
      "outputs": [],
      "source": [
        "video_games=pd.read_csv('./data/Video_Games.csv')"
      ]
    },
    {
      "cell_type": "code",
      "execution_count": 3,
      "metadata": {
        "colab": {
          "base_uri": "https://localhost:8080/",
          "height": 276
        },
        "collapsed": true,
        "id": "ADrfRsjCMBsi",
        "outputId": "217dc8f0-e1fa-4d6b-d1e9-cf90d55f2eb1"
      },
      "outputs": [
        {
          "data": {
            "text/html": [
              "<div>\n",
              "<style scoped>\n",
              "    .dataframe tbody tr th:only-of-type {\n",
              "        vertical-align: middle;\n",
              "    }\n",
              "\n",
              "    .dataframe tbody tr th {\n",
              "        vertical-align: top;\n",
              "    }\n",
              "\n",
              "    .dataframe thead th {\n",
              "        text-align: right;\n",
              "    }\n",
              "</style>\n",
              "<table border=\"1\" class=\"dataframe\">\n",
              "  <thead>\n",
              "    <tr style=\"text-align: right;\">\n",
              "      <th></th>\n",
              "      <th>Name</th>\n",
              "      <th>Platform</th>\n",
              "      <th>Year_of_Release</th>\n",
              "      <th>Genre</th>\n",
              "      <th>Publisher</th>\n",
              "      <th>NA_Sales</th>\n",
              "      <th>EU_Sales</th>\n",
              "      <th>JP_Sales</th>\n",
              "      <th>Other_Sales</th>\n",
              "      <th>Global_Sales</th>\n",
              "      <th>Critic_Score</th>\n",
              "      <th>Critic_Count</th>\n",
              "      <th>User_Score</th>\n",
              "      <th>User_Count</th>\n",
              "      <th>Developer</th>\n",
              "      <th>Rating</th>\n",
              "    </tr>\n",
              "  </thead>\n",
              "  <tbody>\n",
              "    <tr>\n",
              "      <th>0</th>\n",
              "      <td>Wii Sports</td>\n",
              "      <td>Wii</td>\n",
              "      <td>2006.0</td>\n",
              "      <td>Sports</td>\n",
              "      <td>Nintendo</td>\n",
              "      <td>41.36</td>\n",
              "      <td>28.96</td>\n",
              "      <td>3.77</td>\n",
              "      <td>8.45</td>\n",
              "      <td>82.53</td>\n",
              "      <td>76.0</td>\n",
              "      <td>51.0</td>\n",
              "      <td>8</td>\n",
              "      <td>322.0</td>\n",
              "      <td>Nintendo</td>\n",
              "      <td>E</td>\n",
              "    </tr>\n",
              "    <tr>\n",
              "      <th>1</th>\n",
              "      <td>Super Mario Bros.</td>\n",
              "      <td>NES</td>\n",
              "      <td>1985.0</td>\n",
              "      <td>Platform</td>\n",
              "      <td>Nintendo</td>\n",
              "      <td>29.08</td>\n",
              "      <td>3.58</td>\n",
              "      <td>6.81</td>\n",
              "      <td>0.77</td>\n",
              "      <td>40.24</td>\n",
              "      <td>NaN</td>\n",
              "      <td>NaN</td>\n",
              "      <td>NaN</td>\n",
              "      <td>NaN</td>\n",
              "      <td>NaN</td>\n",
              "      <td>NaN</td>\n",
              "    </tr>\n",
              "    <tr>\n",
              "      <th>2</th>\n",
              "      <td>Mario Kart Wii</td>\n",
              "      <td>Wii</td>\n",
              "      <td>2008.0</td>\n",
              "      <td>Racing</td>\n",
              "      <td>Nintendo</td>\n",
              "      <td>15.68</td>\n",
              "      <td>12.76</td>\n",
              "      <td>3.79</td>\n",
              "      <td>3.29</td>\n",
              "      <td>35.52</td>\n",
              "      <td>82.0</td>\n",
              "      <td>73.0</td>\n",
              "      <td>8.3</td>\n",
              "      <td>709.0</td>\n",
              "      <td>Nintendo</td>\n",
              "      <td>E</td>\n",
              "    </tr>\n",
              "    <tr>\n",
              "      <th>3</th>\n",
              "      <td>Wii Sports Resort</td>\n",
              "      <td>Wii</td>\n",
              "      <td>2009.0</td>\n",
              "      <td>Sports</td>\n",
              "      <td>Nintendo</td>\n",
              "      <td>15.61</td>\n",
              "      <td>10.93</td>\n",
              "      <td>3.28</td>\n",
              "      <td>2.95</td>\n",
              "      <td>32.77</td>\n",
              "      <td>80.0</td>\n",
              "      <td>73.0</td>\n",
              "      <td>8</td>\n",
              "      <td>192.0</td>\n",
              "      <td>Nintendo</td>\n",
              "      <td>E</td>\n",
              "    </tr>\n",
              "    <tr>\n",
              "      <th>4</th>\n",
              "      <td>Pokemon Red/Pokemon Blue</td>\n",
              "      <td>GB</td>\n",
              "      <td>1996.0</td>\n",
              "      <td>Role-Playing</td>\n",
              "      <td>Nintendo</td>\n",
              "      <td>11.27</td>\n",
              "      <td>8.89</td>\n",
              "      <td>10.22</td>\n",
              "      <td>1.00</td>\n",
              "      <td>31.37</td>\n",
              "      <td>NaN</td>\n",
              "      <td>NaN</td>\n",
              "      <td>NaN</td>\n",
              "      <td>NaN</td>\n",
              "      <td>NaN</td>\n",
              "      <td>NaN</td>\n",
              "    </tr>\n",
              "  </tbody>\n",
              "</table>\n",
              "</div>"
            ],
            "text/plain": [
              "                       Name Platform  Year_of_Release         Genre Publisher  \\\n",
              "0                Wii Sports      Wii           2006.0        Sports  Nintendo   \n",
              "1         Super Mario Bros.      NES           1985.0      Platform  Nintendo   \n",
              "2            Mario Kart Wii      Wii           2008.0        Racing  Nintendo   \n",
              "3         Wii Sports Resort      Wii           2009.0        Sports  Nintendo   \n",
              "4  Pokemon Red/Pokemon Blue       GB           1996.0  Role-Playing  Nintendo   \n",
              "\n",
              "   NA_Sales  EU_Sales  JP_Sales  Other_Sales  Global_Sales  Critic_Score  \\\n",
              "0     41.36     28.96      3.77         8.45         82.53          76.0   \n",
              "1     29.08      3.58      6.81         0.77         40.24           NaN   \n",
              "2     15.68     12.76      3.79         3.29         35.52          82.0   \n",
              "3     15.61     10.93      3.28         2.95         32.77          80.0   \n",
              "4     11.27      8.89     10.22         1.00         31.37           NaN   \n",
              "\n",
              "   Critic_Count User_Score  User_Count Developer Rating  \n",
              "0          51.0          8       322.0  Nintendo      E  \n",
              "1           NaN        NaN         NaN       NaN    NaN  \n",
              "2          73.0        8.3       709.0  Nintendo      E  \n",
              "3          73.0          8       192.0  Nintendo      E  \n",
              "4           NaN        NaN         NaN       NaN    NaN  "
            ]
          },
          "execution_count": 3,
          "metadata": {},
          "output_type": "execute_result"
        }
      ],
      "source": [
        "video_games.head(5)"
      ]
    },
    {
      "cell_type": "code",
      "execution_count": 4,
      "metadata": {
        "colab": {
          "base_uri": "https://localhost:8080/",
          "height": 300
        },
        "collapsed": true,
        "id": "Qku38ms_T-OR",
        "outputId": "9b6c4d2e-090f-4275-f722-642b3d21b690"
      },
      "outputs": [
        {
          "data": {
            "text/html": [
              "<div>\n",
              "<style scoped>\n",
              "    .dataframe tbody tr th:only-of-type {\n",
              "        vertical-align: middle;\n",
              "    }\n",
              "\n",
              "    .dataframe tbody tr th {\n",
              "        vertical-align: top;\n",
              "    }\n",
              "\n",
              "    .dataframe thead th {\n",
              "        text-align: right;\n",
              "    }\n",
              "</style>\n",
              "<table border=\"1\" class=\"dataframe\">\n",
              "  <thead>\n",
              "    <tr style=\"text-align: right;\">\n",
              "      <th></th>\n",
              "      <th>Year_of_Release</th>\n",
              "      <th>NA_Sales</th>\n",
              "      <th>EU_Sales</th>\n",
              "      <th>JP_Sales</th>\n",
              "      <th>Other_Sales</th>\n",
              "      <th>Global_Sales</th>\n",
              "      <th>Critic_Score</th>\n",
              "      <th>Critic_Count</th>\n",
              "      <th>User_Count</th>\n",
              "    </tr>\n",
              "  </thead>\n",
              "  <tbody>\n",
              "    <tr>\n",
              "      <th>count</th>\n",
              "      <td>16450.000000</td>\n",
              "      <td>16719.000000</td>\n",
              "      <td>16719.000000</td>\n",
              "      <td>16719.000000</td>\n",
              "      <td>16719.000000</td>\n",
              "      <td>16719.000000</td>\n",
              "      <td>8137.000000</td>\n",
              "      <td>8137.000000</td>\n",
              "      <td>7590.000000</td>\n",
              "    </tr>\n",
              "    <tr>\n",
              "      <th>mean</th>\n",
              "      <td>2006.487356</td>\n",
              "      <td>0.263330</td>\n",
              "      <td>0.145025</td>\n",
              "      <td>0.077602</td>\n",
              "      <td>0.047332</td>\n",
              "      <td>0.533543</td>\n",
              "      <td>68.967679</td>\n",
              "      <td>26.360821</td>\n",
              "      <td>162.229908</td>\n",
              "    </tr>\n",
              "    <tr>\n",
              "      <th>std</th>\n",
              "      <td>5.878995</td>\n",
              "      <td>0.813514</td>\n",
              "      <td>0.503283</td>\n",
              "      <td>0.308818</td>\n",
              "      <td>0.186710</td>\n",
              "      <td>1.547935</td>\n",
              "      <td>13.938165</td>\n",
              "      <td>18.980495</td>\n",
              "      <td>561.282326</td>\n",
              "    </tr>\n",
              "    <tr>\n",
              "      <th>min</th>\n",
              "      <td>1980.000000</td>\n",
              "      <td>0.000000</td>\n",
              "      <td>0.000000</td>\n",
              "      <td>0.000000</td>\n",
              "      <td>0.000000</td>\n",
              "      <td>0.010000</td>\n",
              "      <td>13.000000</td>\n",
              "      <td>3.000000</td>\n",
              "      <td>4.000000</td>\n",
              "    </tr>\n",
              "    <tr>\n",
              "      <th>25%</th>\n",
              "      <td>2003.000000</td>\n",
              "      <td>0.000000</td>\n",
              "      <td>0.000000</td>\n",
              "      <td>0.000000</td>\n",
              "      <td>0.000000</td>\n",
              "      <td>0.060000</td>\n",
              "      <td>60.000000</td>\n",
              "      <td>12.000000</td>\n",
              "      <td>10.000000</td>\n",
              "    </tr>\n",
              "    <tr>\n",
              "      <th>50%</th>\n",
              "      <td>2007.000000</td>\n",
              "      <td>0.080000</td>\n",
              "      <td>0.020000</td>\n",
              "      <td>0.000000</td>\n",
              "      <td>0.010000</td>\n",
              "      <td>0.170000</td>\n",
              "      <td>71.000000</td>\n",
              "      <td>21.000000</td>\n",
              "      <td>24.000000</td>\n",
              "    </tr>\n",
              "    <tr>\n",
              "      <th>75%</th>\n",
              "      <td>2010.000000</td>\n",
              "      <td>0.240000</td>\n",
              "      <td>0.110000</td>\n",
              "      <td>0.040000</td>\n",
              "      <td>0.030000</td>\n",
              "      <td>0.470000</td>\n",
              "      <td>79.000000</td>\n",
              "      <td>36.000000</td>\n",
              "      <td>81.000000</td>\n",
              "    </tr>\n",
              "    <tr>\n",
              "      <th>max</th>\n",
              "      <td>2020.000000</td>\n",
              "      <td>41.360000</td>\n",
              "      <td>28.960000</td>\n",
              "      <td>10.220000</td>\n",
              "      <td>10.570000</td>\n",
              "      <td>82.530000</td>\n",
              "      <td>98.000000</td>\n",
              "      <td>113.000000</td>\n",
              "      <td>10665.000000</td>\n",
              "    </tr>\n",
              "  </tbody>\n",
              "</table>\n",
              "</div>"
            ],
            "text/plain": [
              "       Year_of_Release      NA_Sales      EU_Sales      JP_Sales  \\\n",
              "count     16450.000000  16719.000000  16719.000000  16719.000000   \n",
              "mean       2006.487356      0.263330      0.145025      0.077602   \n",
              "std           5.878995      0.813514      0.503283      0.308818   \n",
              "min        1980.000000      0.000000      0.000000      0.000000   \n",
              "25%        2003.000000      0.000000      0.000000      0.000000   \n",
              "50%        2007.000000      0.080000      0.020000      0.000000   \n",
              "75%        2010.000000      0.240000      0.110000      0.040000   \n",
              "max        2020.000000     41.360000     28.960000     10.220000   \n",
              "\n",
              "        Other_Sales  Global_Sales  Critic_Score  Critic_Count    User_Count  \n",
              "count  16719.000000  16719.000000   8137.000000   8137.000000   7590.000000  \n",
              "mean       0.047332      0.533543     68.967679     26.360821    162.229908  \n",
              "std        0.186710      1.547935     13.938165     18.980495    561.282326  \n",
              "min        0.000000      0.010000     13.000000      3.000000      4.000000  \n",
              "25%        0.000000      0.060000     60.000000     12.000000     10.000000  \n",
              "50%        0.010000      0.170000     71.000000     21.000000     24.000000  \n",
              "75%        0.030000      0.470000     79.000000     36.000000     81.000000  \n",
              "max       10.570000     82.530000     98.000000    113.000000  10665.000000  "
            ]
          },
          "execution_count": 4,
          "metadata": {},
          "output_type": "execute_result"
        }
      ],
      "source": [
        "# Resumo estatístico para variáveis numéricas\n",
        "video_games.describe(include=[np.number])\n"
      ]
    },
    {
      "cell_type": "code",
      "execution_count": 5,
      "metadata": {
        "colab": {
          "base_uri": "https://localhost:8080/"
        },
        "collapsed": true,
        "id": "XQh__berMZlo",
        "outputId": "af2f2cf7-0f55-4aa7-f53f-e03760ad856e"
      },
      "outputs": [
        {
          "name": "stdout",
          "output_type": "stream",
          "text": [
            "<class 'pandas.core.frame.DataFrame'>\n",
            "RangeIndex: 16719 entries, 0 to 16718\n",
            "Data columns (total 16 columns):\n",
            " #   Column           Non-Null Count  Dtype  \n",
            "---  ------           --------------  -----  \n",
            " 0   Name             16717 non-null  object \n",
            " 1   Platform         16719 non-null  object \n",
            " 2   Year_of_Release  16450 non-null  float64\n",
            " 3   Genre            16717 non-null  object \n",
            " 4   Publisher        16665 non-null  object \n",
            " 5   NA_Sales         16719 non-null  float64\n",
            " 6   EU_Sales         16719 non-null  float64\n",
            " 7   JP_Sales         16719 non-null  float64\n",
            " 8   Other_Sales      16719 non-null  float64\n",
            " 9   Global_Sales     16719 non-null  float64\n",
            " 10  Critic_Score     8137 non-null   float64\n",
            " 11  Critic_Count     8137 non-null   float64\n",
            " 12  User_Score       10015 non-null  object \n",
            " 13  User_Count       7590 non-null   float64\n",
            " 14  Developer        10096 non-null  object \n",
            " 15  Rating           9950 non-null   object \n",
            "dtypes: float64(9), object(7)\n",
            "memory usage: 2.0+ MB\n"
          ]
        }
      ],
      "source": [
        "video_games.info()"
      ]
    },
    {
      "cell_type": "code",
      "execution_count": 6,
      "metadata": {
        "colab": {
          "base_uri": "https://localhost:8080/",
          "height": 586
        },
        "collapsed": true,
        "id": "BH2b09PiNpWr",
        "outputId": "7e44449e-b7e4-465d-9451-747ea26b305f"
      },
      "outputs": [
        {
          "data": {
            "text/plain": [
              "Name                  2\n",
              "Platform              0\n",
              "Year_of_Release     269\n",
              "Genre                 2\n",
              "Publisher            54\n",
              "NA_Sales              0\n",
              "EU_Sales              0\n",
              "JP_Sales              0\n",
              "Other_Sales           0\n",
              "Global_Sales          0\n",
              "Critic_Score       8582\n",
              "Critic_Count       8582\n",
              "User_Score         6704\n",
              "User_Count         9129\n",
              "Developer          6623\n",
              "Rating             6769\n",
              "dtype: int64"
            ]
          },
          "execution_count": 6,
          "metadata": {},
          "output_type": "execute_result"
        }
      ],
      "source": [
        "video_games.isnull().sum()"
      ]
    },
    {
      "cell_type": "markdown",
      "metadata": {
        "id": "2oUu4Gu4USuG"
      },
      "source": [
        "Identificamos as seguintes colunas com valores nulos:\n",
        "\n",
        "* Colunas com poucos valores ausentes:\n",
        "  * Name: 2 valores nulos\n",
        "  * Genre: 2 valores nulos\n",
        "  * Publisher: 54 valores nulos\n",
        "  * Year_of_Release: 269 valores nulos\n",
        "\n",
        "* Colunas com uma quantidade significativa de valores ausentes:\n",
        "  * Critic_Score e Critic_Count: 8.582 valores nulos\n",
        "  * User_Score e User_Count: 6.704 e 9.129 valores nulos, respectivamente\n",
        "  * Developer: 6.623 valores nulos\n",
        "  * Rating: 6.769 valores nulos"
      ]
    },
    {
      "cell_type": "code",
      "execution_count": 7,
      "metadata": {
        "colab": {
          "base_uri": "https://localhost:8080/",
          "height": 147
        },
        "collapsed": true,
        "id": "J2xmwJitVkD4",
        "outputId": "4c8c02bc-f338-48c1-9ae6-30ba2107635c"
      },
      "outputs": [
        {
          "data": {
            "text/html": [
              "<div>\n",
              "<style scoped>\n",
              "    .dataframe tbody tr th:only-of-type {\n",
              "        vertical-align: middle;\n",
              "    }\n",
              "\n",
              "    .dataframe tbody tr th {\n",
              "        vertical-align: top;\n",
              "    }\n",
              "\n",
              "    .dataframe thead th {\n",
              "        text-align: right;\n",
              "    }\n",
              "</style>\n",
              "<table border=\"1\" class=\"dataframe\">\n",
              "  <thead>\n",
              "    <tr style=\"text-align: right;\">\n",
              "      <th></th>\n",
              "      <th>Name</th>\n",
              "      <th>Platform</th>\n",
              "      <th>Year_of_Release</th>\n",
              "      <th>Genre</th>\n",
              "      <th>Publisher</th>\n",
              "      <th>NA_Sales</th>\n",
              "      <th>EU_Sales</th>\n",
              "      <th>JP_Sales</th>\n",
              "      <th>Other_Sales</th>\n",
              "      <th>Global_Sales</th>\n",
              "      <th>Critic_Score</th>\n",
              "      <th>Critic_Count</th>\n",
              "      <th>User_Score</th>\n",
              "      <th>User_Count</th>\n",
              "      <th>Developer</th>\n",
              "      <th>Rating</th>\n",
              "    </tr>\n",
              "  </thead>\n",
              "  <tbody>\n",
              "    <tr>\n",
              "      <th>659</th>\n",
              "      <td>NaN</td>\n",
              "      <td>GEN</td>\n",
              "      <td>1993.0</td>\n",
              "      <td>NaN</td>\n",
              "      <td>Acclaim Entertainment</td>\n",
              "      <td>1.78</td>\n",
              "      <td>0.53</td>\n",
              "      <td>0.00</td>\n",
              "      <td>0.08</td>\n",
              "      <td>2.39</td>\n",
              "      <td>NaN</td>\n",
              "      <td>NaN</td>\n",
              "      <td>NaN</td>\n",
              "      <td>NaN</td>\n",
              "      <td>NaN</td>\n",
              "      <td>NaN</td>\n",
              "    </tr>\n",
              "    <tr>\n",
              "      <th>14246</th>\n",
              "      <td>NaN</td>\n",
              "      <td>GEN</td>\n",
              "      <td>1993.0</td>\n",
              "      <td>NaN</td>\n",
              "      <td>Acclaim Entertainment</td>\n",
              "      <td>0.00</td>\n",
              "      <td>0.00</td>\n",
              "      <td>0.03</td>\n",
              "      <td>0.00</td>\n",
              "      <td>0.03</td>\n",
              "      <td>NaN</td>\n",
              "      <td>NaN</td>\n",
              "      <td>NaN</td>\n",
              "      <td>NaN</td>\n",
              "      <td>NaN</td>\n",
              "      <td>NaN</td>\n",
              "    </tr>\n",
              "  </tbody>\n",
              "</table>\n",
              "</div>"
            ],
            "text/plain": [
              "      Name Platform  Year_of_Release Genre              Publisher  NA_Sales  \\\n",
              "659    NaN      GEN           1993.0   NaN  Acclaim Entertainment      1.78   \n",
              "14246  NaN      GEN           1993.0   NaN  Acclaim Entertainment      0.00   \n",
              "\n",
              "       EU_Sales  JP_Sales  Other_Sales  Global_Sales  Critic_Score  \\\n",
              "659        0.53      0.00         0.08          2.39           NaN   \n",
              "14246      0.00      0.03         0.00          0.03           NaN   \n",
              "\n",
              "       Critic_Count User_Score  User_Count Developer Rating  \n",
              "659             NaN        NaN         NaN       NaN    NaN  \n",
              "14246           NaN        NaN         NaN       NaN    NaN  "
            ]
          },
          "execution_count": 7,
          "metadata": {},
          "output_type": "execute_result"
        }
      ],
      "source": [
        "video_games[video_games['Name'].isnull()]"
      ]
    },
    {
      "cell_type": "code",
      "execution_count": 8,
      "metadata": {
        "collapsed": true,
        "id": "dVoML89TWEjr"
      },
      "outputs": [],
      "source": [
        "# removendo as linhas com valores nulos na coluna Name e Genre, são as mesmas linhas, são apenas duas e essenciais.\n",
        "video_games = video_games.drop(659)\n",
        "video_games = video_games.drop(14246)"
      ]
    },
    {
      "cell_type": "code",
      "execution_count": 9,
      "metadata": {
        "colab": {
          "base_uri": "https://localhost:8080/",
          "height": 586
        },
        "id": "l335jWg7YkC9",
        "outputId": "c4715959-c6a7-4379-8ecd-ee1a2d769410"
      },
      "outputs": [
        {
          "data": {
            "text/plain": [
              "Name                  0\n",
              "Platform              0\n",
              "Year_of_Release     269\n",
              "Genre                 0\n",
              "Publisher            54\n",
              "NA_Sales              0\n",
              "EU_Sales              0\n",
              "JP_Sales              0\n",
              "Other_Sales           0\n",
              "Global_Sales          0\n",
              "Critic_Score       8580\n",
              "Critic_Count       8580\n",
              "User_Score         6702\n",
              "User_Count         9127\n",
              "Developer          6621\n",
              "Rating             6767\n",
              "dtype: int64"
            ]
          },
          "execution_count": 9,
          "metadata": {},
          "output_type": "execute_result"
        }
      ],
      "source": [
        "video_games.isnull().sum()"
      ]
    },
    {
      "cell_type": "code",
      "execution_count": 10,
      "metadata": {
        "collapsed": true,
        "id": "XiSLEi85Uo63"
      },
      "outputs": [],
      "source": [
        "# Preenche valores ausentes com a moda na coluna Rating\n",
        "mode_value = video_games['Rating'].mode()[0]\n",
        "video_games.fillna({'Rating': mode_value}, inplace=True)"
      ]
    },
    {
      "cell_type": "code",
      "execution_count": 11,
      "metadata": {
        "id": "qw59lP6yVTOf"
      },
      "outputs": [],
      "source": [
        "# Cria o dicionário de mapeamento dos valores categóricos para valores discretos\n",
        "rating_mapping = {\n",
        "    'E': 0,    # Everyone\n",
        "    'M': 1,    # Mature\n",
        "    'T': 2,    # Teen\n",
        "    'E10+': 3, # Everyone 10+\n",
        "    'K-A': 4,  # Kids to Adults\n",
        "    'EC': 5,   # Early Childhood\n",
        "    'RP': 6,    # Rating Pending\n",
        "    'AO': 7    # Adults Only\n",
        "}\n",
        "# Aplica a conversão da coluna 'Rating' para valores discretos\n",
        "video_games['Rating'] = video_games['Rating'].map(rating_mapping)"
      ]
    },
    {
      "cell_type": "code",
      "execution_count": 12,
      "metadata": {
        "colab": {
          "base_uri": "https://localhost:8080/",
          "height": 586
        },
        "id": "dpdXk4h0YyEe",
        "outputId": "464b7caa-d4f2-4ba6-9780-64e1cf88aab9"
      },
      "outputs": [
        {
          "data": {
            "text/plain": [
              "Name                  0\n",
              "Platform              0\n",
              "Year_of_Release     269\n",
              "Genre                 0\n",
              "Publisher            54\n",
              "NA_Sales              0\n",
              "EU_Sales              0\n",
              "JP_Sales              0\n",
              "Other_Sales           0\n",
              "Global_Sales          0\n",
              "Critic_Score       8580\n",
              "Critic_Count       8580\n",
              "User_Score         6702\n",
              "User_Count         9127\n",
              "Developer          6621\n",
              "Rating                0\n",
              "dtype: int64"
            ]
          },
          "execution_count": 12,
          "metadata": {},
          "output_type": "execute_result"
        }
      ],
      "source": [
        "video_games.isnull().sum()"
      ]
    },
    {
      "cell_type": "code",
      "execution_count": 13,
      "metadata": {
        "id": "KzFMxitzVbWH"
      },
      "outputs": [],
      "source": [
        "# Remove as colunas que contém diversos faltantes e que não são interessante para a análise de vendas\n",
        "video_games = video_games.drop(['Critic_Score', 'Critic_Count', 'User_Score', 'User_Count'], axis=1)"
      ]
    },
    {
      "cell_type": "code",
      "execution_count": 14,
      "metadata": {
        "colab": {
          "base_uri": "https://localhost:8080/",
          "height": 460
        },
        "id": "1FfSv7rsVokf",
        "outputId": "d8c3945e-304d-402c-cf98-3be6d6c1e9c8"
      },
      "outputs": [
        {
          "data": {
            "text/plain": [
              "Name                  0\n",
              "Platform              0\n",
              "Year_of_Release     269\n",
              "Genre                 0\n",
              "Publisher            54\n",
              "NA_Sales              0\n",
              "EU_Sales              0\n",
              "JP_Sales              0\n",
              "Other_Sales           0\n",
              "Global_Sales          0\n",
              "Developer          6621\n",
              "Rating                0\n",
              "dtype: int64"
            ]
          },
          "execution_count": 14,
          "metadata": {},
          "output_type": "execute_result"
        }
      ],
      "source": [
        "video_games.isnull().sum()"
      ]
    },
    {
      "cell_type": "code",
      "execution_count": 15,
      "metadata": {
        "colab": {
          "base_uri": "https://localhost:8080/",
          "height": 1000
        },
        "collapsed": true,
        "id": "1ugfwCcEYanR",
        "outputId": "8e78c510-550f-432e-b46c-38705095fd2a"
      },
      "outputs": [
        {
          "data": {
            "text/html": [
              "<div>\n",
              "<style scoped>\n",
              "    .dataframe tbody tr th:only-of-type {\n",
              "        vertical-align: middle;\n",
              "    }\n",
              "\n",
              "    .dataframe tbody tr th {\n",
              "        vertical-align: top;\n",
              "    }\n",
              "\n",
              "    .dataframe thead th {\n",
              "        text-align: right;\n",
              "    }\n",
              "</style>\n",
              "<table border=\"1\" class=\"dataframe\">\n",
              "  <thead>\n",
              "    <tr style=\"text-align: right;\">\n",
              "      <th></th>\n",
              "      <th>Name</th>\n",
              "      <th>Platform</th>\n",
              "      <th>Year_of_Release</th>\n",
              "      <th>Genre</th>\n",
              "      <th>Publisher</th>\n",
              "      <th>NA_Sales</th>\n",
              "      <th>EU_Sales</th>\n",
              "      <th>JP_Sales</th>\n",
              "      <th>Other_Sales</th>\n",
              "      <th>Global_Sales</th>\n",
              "      <th>Developer</th>\n",
              "      <th>Rating</th>\n",
              "    </tr>\n",
              "  </thead>\n",
              "  <tbody>\n",
              "    <tr>\n",
              "      <th>475</th>\n",
              "      <td>wwe Smackdown vs. Raw 2006</td>\n",
              "      <td>PS2</td>\n",
              "      <td>NaN</td>\n",
              "      <td>Fighting</td>\n",
              "      <td>NaN</td>\n",
              "      <td>1.57</td>\n",
              "      <td>1.02</td>\n",
              "      <td>0.00</td>\n",
              "      <td>0.41</td>\n",
              "      <td>3.00</td>\n",
              "      <td>NaN</td>\n",
              "      <td>0</td>\n",
              "    </tr>\n",
              "    <tr>\n",
              "      <th>1301</th>\n",
              "      <td>Triple Play 99</td>\n",
              "      <td>PS</td>\n",
              "      <td>NaN</td>\n",
              "      <td>Sports</td>\n",
              "      <td>NaN</td>\n",
              "      <td>0.81</td>\n",
              "      <td>0.55</td>\n",
              "      <td>0.00</td>\n",
              "      <td>0.10</td>\n",
              "      <td>1.46</td>\n",
              "      <td>NaN</td>\n",
              "      <td>0</td>\n",
              "    </tr>\n",
              "    <tr>\n",
              "      <th>1667</th>\n",
              "      <td>Shrek / Shrek 2 2-in-1 Gameboy Advance Video</td>\n",
              "      <td>GBA</td>\n",
              "      <td>2007.0</td>\n",
              "      <td>Misc</td>\n",
              "      <td>NaN</td>\n",
              "      <td>0.87</td>\n",
              "      <td>0.32</td>\n",
              "      <td>0.00</td>\n",
              "      <td>0.02</td>\n",
              "      <td>1.21</td>\n",
              "      <td>NaN</td>\n",
              "      <td>0</td>\n",
              "    </tr>\n",
              "    <tr>\n",
              "      <th>2212</th>\n",
              "      <td>Bentley's Hackpack</td>\n",
              "      <td>GBA</td>\n",
              "      <td>2005.0</td>\n",
              "      <td>Misc</td>\n",
              "      <td>NaN</td>\n",
              "      <td>0.67</td>\n",
              "      <td>0.25</td>\n",
              "      <td>0.00</td>\n",
              "      <td>0.02</td>\n",
              "      <td>0.93</td>\n",
              "      <td>NaN</td>\n",
              "      <td>0</td>\n",
              "    </tr>\n",
              "    <tr>\n",
              "      <th>3148</th>\n",
              "      <td>Nicktoons Collection: Game Boy Advance Video V...</td>\n",
              "      <td>GBA</td>\n",
              "      <td>2004.0</td>\n",
              "      <td>Misc</td>\n",
              "      <td>NaN</td>\n",
              "      <td>0.46</td>\n",
              "      <td>0.17</td>\n",
              "      <td>0.00</td>\n",
              "      <td>0.01</td>\n",
              "      <td>0.64</td>\n",
              "      <td>NaN</td>\n",
              "      <td>0</td>\n",
              "    </tr>\n",
              "    <tr>\n",
              "      <th>3159</th>\n",
              "      <td>SpongeBob SquarePants: Game Boy Advance Video ...</td>\n",
              "      <td>GBA</td>\n",
              "      <td>2004.0</td>\n",
              "      <td>Misc</td>\n",
              "      <td>NaN</td>\n",
              "      <td>0.46</td>\n",
              "      <td>0.17</td>\n",
              "      <td>0.00</td>\n",
              "      <td>0.01</td>\n",
              "      <td>0.64</td>\n",
              "      <td>NaN</td>\n",
              "      <td>0</td>\n",
              "    </tr>\n",
              "    <tr>\n",
              "      <th>3755</th>\n",
              "      <td>SpongeBob SquarePants: Game Boy Advance Video ...</td>\n",
              "      <td>GBA</td>\n",
              "      <td>2004.0</td>\n",
              "      <td>Misc</td>\n",
              "      <td>NaN</td>\n",
              "      <td>0.38</td>\n",
              "      <td>0.14</td>\n",
              "      <td>0.00</td>\n",
              "      <td>0.01</td>\n",
              "      <td>0.53</td>\n",
              "      <td>NaN</td>\n",
              "      <td>0</td>\n",
              "    </tr>\n",
              "    <tr>\n",
              "      <th>4127</th>\n",
              "      <td>Sonic the Hedgehog</td>\n",
              "      <td>PS3</td>\n",
              "      <td>NaN</td>\n",
              "      <td>Platform</td>\n",
              "      <td>NaN</td>\n",
              "      <td>0.00</td>\n",
              "      <td>0.48</td>\n",
              "      <td>0.00</td>\n",
              "      <td>0.00</td>\n",
              "      <td>0.48</td>\n",
              "      <td>Sonic Team</td>\n",
              "      <td>3</td>\n",
              "    </tr>\n",
              "    <tr>\n",
              "      <th>4508</th>\n",
              "      <td>The Fairly Odd Parents: Game Boy Advance Video...</td>\n",
              "      <td>GBA</td>\n",
              "      <td>2004.0</td>\n",
              "      <td>Misc</td>\n",
              "      <td>NaN</td>\n",
              "      <td>0.31</td>\n",
              "      <td>0.11</td>\n",
              "      <td>0.00</td>\n",
              "      <td>0.01</td>\n",
              "      <td>0.43</td>\n",
              "      <td>NaN</td>\n",
              "      <td>0</td>\n",
              "    </tr>\n",
              "    <tr>\n",
              "      <th>4615</th>\n",
              "      <td>The Fairly Odd Parents: Game Boy Advance Video...</td>\n",
              "      <td>GBA</td>\n",
              "      <td>2004.0</td>\n",
              "      <td>Misc</td>\n",
              "      <td>NaN</td>\n",
              "      <td>0.30</td>\n",
              "      <td>0.11</td>\n",
              "      <td>0.00</td>\n",
              "      <td>0.01</td>\n",
              "      <td>0.42</td>\n",
              "      <td>NaN</td>\n",
              "      <td>0</td>\n",
              "    </tr>\n",
              "    <tr>\n",
              "      <th>5294</th>\n",
              "      <td>Dragon Ball Z: Budokai Tenkaichi 2 (JP sales)</td>\n",
              "      <td>Wii</td>\n",
              "      <td>NaN</td>\n",
              "      <td>Action</td>\n",
              "      <td>NaN</td>\n",
              "      <td>0.15</td>\n",
              "      <td>0.05</td>\n",
              "      <td>0.14</td>\n",
              "      <td>0.01</td>\n",
              "      <td>0.35</td>\n",
              "      <td>NaN</td>\n",
              "      <td>0</td>\n",
              "    </tr>\n",
              "    <tr>\n",
              "      <th>5633</th>\n",
              "      <td>Cartoon Network Collection: Game Boy Advance V...</td>\n",
              "      <td>GBA</td>\n",
              "      <td>2005.0</td>\n",
              "      <td>Misc</td>\n",
              "      <td>NaN</td>\n",
              "      <td>0.23</td>\n",
              "      <td>0.08</td>\n",
              "      <td>0.00</td>\n",
              "      <td>0.01</td>\n",
              "      <td>0.32</td>\n",
              "      <td>NaN</td>\n",
              "      <td>0</td>\n",
              "    </tr>\n",
              "    <tr>\n",
              "      <th>6256</th>\n",
              "      <td>The Legend of Zelda: The Minish Cap(weekly JP ...</td>\n",
              "      <td>GBA</td>\n",
              "      <td>NaN</td>\n",
              "      <td>Action</td>\n",
              "      <td>NaN</td>\n",
              "      <td>0.00</td>\n",
              "      <td>0.00</td>\n",
              "      <td>0.27</td>\n",
              "      <td>0.01</td>\n",
              "      <td>0.27</td>\n",
              "      <td>NaN</td>\n",
              "      <td>0</td>\n",
              "    </tr>\n",
              "    <tr>\n",
              "      <th>6415</th>\n",
              "      <td>Sonic X: Game Boy Advance Video Volume 1</td>\n",
              "      <td>GBA</td>\n",
              "      <td>2004.0</td>\n",
              "      <td>Misc</td>\n",
              "      <td>NaN</td>\n",
              "      <td>0.19</td>\n",
              "      <td>0.07</td>\n",
              "      <td>0.00</td>\n",
              "      <td>0.00</td>\n",
              "      <td>0.27</td>\n",
              "      <td>NaN</td>\n",
              "      <td>0</td>\n",
              "    </tr>\n",
              "    <tr>\n",
              "      <th>6532</th>\n",
              "      <td>Dora the Explorer: Game Boy Advance Video Volu...</td>\n",
              "      <td>GBA</td>\n",
              "      <td>2004.0</td>\n",
              "      <td>Misc</td>\n",
              "      <td>NaN</td>\n",
              "      <td>0.18</td>\n",
              "      <td>0.07</td>\n",
              "      <td>0.00</td>\n",
              "      <td>0.00</td>\n",
              "      <td>0.26</td>\n",
              "      <td>NaN</td>\n",
              "      <td>0</td>\n",
              "    </tr>\n",
              "    <tr>\n",
              "      <th>6626</th>\n",
              "      <td>Cartoon Network Collection: Game Boy Advance V...</td>\n",
              "      <td>GBA</td>\n",
              "      <td>2004.0</td>\n",
              "      <td>Misc</td>\n",
              "      <td>NaN</td>\n",
              "      <td>0.18</td>\n",
              "      <td>0.07</td>\n",
              "      <td>0.00</td>\n",
              "      <td>0.00</td>\n",
              "      <td>0.25</td>\n",
              "      <td>NaN</td>\n",
              "      <td>0</td>\n",
              "    </tr>\n",
              "    <tr>\n",
              "      <th>6831</th>\n",
              "      <td>All Grown Up!: Game Boy Advance Video Volume 1</td>\n",
              "      <td>GBA</td>\n",
              "      <td>2004.0</td>\n",
              "      <td>Misc</td>\n",
              "      <td>NaN</td>\n",
              "      <td>0.17</td>\n",
              "      <td>0.06</td>\n",
              "      <td>0.00</td>\n",
              "      <td>0.00</td>\n",
              "      <td>0.24</td>\n",
              "      <td>NaN</td>\n",
              "      <td>0</td>\n",
              "    </tr>\n",
              "    <tr>\n",
              "      <th>7189</th>\n",
              "      <td>Nicktoons Collection: Game Boy Advance Video V...</td>\n",
              "      <td>GBA</td>\n",
              "      <td>2004.0</td>\n",
              "      <td>Misc</td>\n",
              "      <td>NaN</td>\n",
              "      <td>0.16</td>\n",
              "      <td>0.06</td>\n",
              "      <td>0.00</td>\n",
              "      <td>0.00</td>\n",
              "      <td>0.22</td>\n",
              "      <td>NaN</td>\n",
              "      <td>0</td>\n",
              "    </tr>\n",
              "    <tr>\n",
              "      <th>7333</th>\n",
              "      <td>Yu Yu Hakusho: Dark Tournament</td>\n",
              "      <td>PS2</td>\n",
              "      <td>NaN</td>\n",
              "      <td>Fighting</td>\n",
              "      <td>NaN</td>\n",
              "      <td>0.10</td>\n",
              "      <td>0.08</td>\n",
              "      <td>0.00</td>\n",
              "      <td>0.03</td>\n",
              "      <td>0.21</td>\n",
              "      <td>Digital Fiction</td>\n",
              "      <td>2</td>\n",
              "    </tr>\n",
              "    <tr>\n",
              "      <th>7477</th>\n",
              "      <td>SpongeBob SquarePants: Game Boy Advance Video ...</td>\n",
              "      <td>GBA</td>\n",
              "      <td>2004.0</td>\n",
              "      <td>Misc</td>\n",
              "      <td>NaN</td>\n",
              "      <td>0.15</td>\n",
              "      <td>0.05</td>\n",
              "      <td>0.00</td>\n",
              "      <td>0.00</td>\n",
              "      <td>0.21</td>\n",
              "      <td>NaN</td>\n",
              "      <td>0</td>\n",
              "    </tr>\n",
              "    <tr>\n",
              "      <th>7930</th>\n",
              "      <td>Thomas the Tank Engine &amp; Friends</td>\n",
              "      <td>GBA</td>\n",
              "      <td>2004.0</td>\n",
              "      <td>Adventure</td>\n",
              "      <td>NaN</td>\n",
              "      <td>0.13</td>\n",
              "      <td>0.05</td>\n",
              "      <td>0.00</td>\n",
              "      <td>0.00</td>\n",
              "      <td>0.19</td>\n",
              "      <td>NaN</td>\n",
              "      <td>0</td>\n",
              "    </tr>\n",
              "    <tr>\n",
              "      <th>8317</th>\n",
              "      <td>Dragon Ball GT: Game Boy Advance Video Volume 1</td>\n",
              "      <td>GBA</td>\n",
              "      <td>2004.0</td>\n",
              "      <td>Misc</td>\n",
              "      <td>NaN</td>\n",
              "      <td>0.12</td>\n",
              "      <td>0.05</td>\n",
              "      <td>0.00</td>\n",
              "      <td>0.00</td>\n",
              "      <td>0.17</td>\n",
              "      <td>NaN</td>\n",
              "      <td>0</td>\n",
              "    </tr>\n",
              "    <tr>\n",
              "      <th>8328</th>\n",
              "      <td>Codename: Kids Next Door: Game Boy Advance Vid...</td>\n",
              "      <td>GBA</td>\n",
              "      <td>2004.0</td>\n",
              "      <td>Misc</td>\n",
              "      <td>NaN</td>\n",
              "      <td>0.12</td>\n",
              "      <td>0.05</td>\n",
              "      <td>0.00</td>\n",
              "      <td>0.00</td>\n",
              "      <td>0.17</td>\n",
              "      <td>NaN</td>\n",
              "      <td>0</td>\n",
              "    </tr>\n",
              "    <tr>\n",
              "      <th>8358</th>\n",
              "      <td>Teenage Mutant Ninja Turtles: Game Boy Advance...</td>\n",
              "      <td>GBA</td>\n",
              "      <td>2004.0</td>\n",
              "      <td>Misc</td>\n",
              "      <td>NaN</td>\n",
              "      <td>0.12</td>\n",
              "      <td>0.04</td>\n",
              "      <td>0.00</td>\n",
              "      <td>0.00</td>\n",
              "      <td>0.17</td>\n",
              "      <td>NaN</td>\n",
              "      <td>0</td>\n",
              "    </tr>\n",
              "    <tr>\n",
              "      <th>8494</th>\n",
              "      <td>Stronghold 3</td>\n",
              "      <td>PC</td>\n",
              "      <td>2011.0</td>\n",
              "      <td>Strategy</td>\n",
              "      <td>NaN</td>\n",
              "      <td>0.06</td>\n",
              "      <td>0.10</td>\n",
              "      <td>0.00</td>\n",
              "      <td>0.00</td>\n",
              "      <td>0.16</td>\n",
              "      <td>FireFly Studios</td>\n",
              "      <td>2</td>\n",
              "    </tr>\n",
              "    <tr>\n",
              "      <th>8754</th>\n",
              "      <td>Cartoon Network Collection: Game Boy Advance V...</td>\n",
              "      <td>GBA</td>\n",
              "      <td>2005.0</td>\n",
              "      <td>Misc</td>\n",
              "      <td>NaN</td>\n",
              "      <td>0.11</td>\n",
              "      <td>0.04</td>\n",
              "      <td>0.00</td>\n",
              "      <td>0.00</td>\n",
              "      <td>0.15</td>\n",
              "      <td>NaN</td>\n",
              "      <td>0</td>\n",
              "    </tr>\n",
              "    <tr>\n",
              "      <th>8837</th>\n",
              "      <td>Pokémon: Johto Photo Finish: Game Boy Advance ...</td>\n",
              "      <td>GBA</td>\n",
              "      <td>2004.0</td>\n",
              "      <td>Misc</td>\n",
              "      <td>NaN</td>\n",
              "      <td>0.11</td>\n",
              "      <td>0.04</td>\n",
              "      <td>0.00</td>\n",
              "      <td>0.00</td>\n",
              "      <td>0.15</td>\n",
              "      <td>NaN</td>\n",
              "      <td>0</td>\n",
              "    </tr>\n",
              "    <tr>\n",
              "      <th>8883</th>\n",
              "      <td>Strawberry Shortcake: Game Boy Advance Video V...</td>\n",
              "      <td>GBA</td>\n",
              "      <td>2004.0</td>\n",
              "      <td>Misc</td>\n",
              "      <td>NaN</td>\n",
              "      <td>0.11</td>\n",
              "      <td>0.04</td>\n",
              "      <td>0.00</td>\n",
              "      <td>0.00</td>\n",
              "      <td>0.15</td>\n",
              "      <td>NaN</td>\n",
              "      <td>0</td>\n",
              "    </tr>\n",
              "    <tr>\n",
              "      <th>9511</th>\n",
              "      <td>Farming Simulator 2011</td>\n",
              "      <td>PC</td>\n",
              "      <td>2010.0</td>\n",
              "      <td>Simulation</td>\n",
              "      <td>NaN</td>\n",
              "      <td>0.00</td>\n",
              "      <td>0.13</td>\n",
              "      <td>0.00</td>\n",
              "      <td>0.00</td>\n",
              "      <td>0.13</td>\n",
              "      <td>Giants Software</td>\n",
              "      <td>0</td>\n",
              "    </tr>\n",
              "    <tr>\n",
              "      <th>9739</th>\n",
              "      <td>Super Robot Wars OG Saga: Masou Kishin II - Re...</td>\n",
              "      <td>PSP</td>\n",
              "      <td>NaN</td>\n",
              "      <td>Strategy</td>\n",
              "      <td>NaN</td>\n",
              "      <td>0.00</td>\n",
              "      <td>0.00</td>\n",
              "      <td>0.12</td>\n",
              "      <td>0.00</td>\n",
              "      <td>0.12</td>\n",
              "      <td>NaN</td>\n",
              "      <td>0</td>\n",
              "    </tr>\n",
              "    <tr>\n",
              "      <th>10378</th>\n",
              "      <td>Disney Channel Collection Vol. 1</td>\n",
              "      <td>GBA</td>\n",
              "      <td>2004.0</td>\n",
              "      <td>Misc</td>\n",
              "      <td>NaN</td>\n",
              "      <td>0.08</td>\n",
              "      <td>0.03</td>\n",
              "      <td>0.00</td>\n",
              "      <td>0.00</td>\n",
              "      <td>0.11</td>\n",
              "      <td>NaN</td>\n",
              "      <td>0</td>\n",
              "    </tr>\n",
              "    <tr>\n",
              "      <th>10487</th>\n",
              "      <td>Atsumare! Power Pro Kun no DS Koushien</td>\n",
              "      <td>DS</td>\n",
              "      <td>NaN</td>\n",
              "      <td>Sports</td>\n",
              "      <td>NaN</td>\n",
              "      <td>0.00</td>\n",
              "      <td>0.00</td>\n",
              "      <td>0.10</td>\n",
              "      <td>0.00</td>\n",
              "      <td>0.10</td>\n",
              "      <td>NaN</td>\n",
              "      <td>0</td>\n",
              "    </tr>\n",
              "    <tr>\n",
              "      <th>11093</th>\n",
              "      <td>Action Man-Operation Extreme</td>\n",
              "      <td>PS</td>\n",
              "      <td>NaN</td>\n",
              "      <td>Action</td>\n",
              "      <td>NaN</td>\n",
              "      <td>0.05</td>\n",
              "      <td>0.03</td>\n",
              "      <td>0.00</td>\n",
              "      <td>0.01</td>\n",
              "      <td>0.09</td>\n",
              "      <td>NaN</td>\n",
              "      <td>0</td>\n",
              "    </tr>\n",
              "    <tr>\n",
              "      <th>11546</th>\n",
              "      <td>Cartoon Network Collection: Game Boy Advance V...</td>\n",
              "      <td>GBA</td>\n",
              "      <td>2004.0</td>\n",
              "      <td>Misc</td>\n",
              "      <td>NaN</td>\n",
              "      <td>0.06</td>\n",
              "      <td>0.02</td>\n",
              "      <td>0.00</td>\n",
              "      <td>0.00</td>\n",
              "      <td>0.08</td>\n",
              "      <td>NaN</td>\n",
              "      <td>0</td>\n",
              "    </tr>\n",
              "    <tr>\n",
              "      <th>12525</th>\n",
              "      <td>Chou Soujuu Mecha MG</td>\n",
              "      <td>DS</td>\n",
              "      <td>NaN</td>\n",
              "      <td>Simulation</td>\n",
              "      <td>NaN</td>\n",
              "      <td>0.00</td>\n",
              "      <td>0.00</td>\n",
              "      <td>0.06</td>\n",
              "      <td>0.00</td>\n",
              "      <td>0.06</td>\n",
              "      <td>NaN</td>\n",
              "      <td>0</td>\n",
              "    </tr>\n",
              "    <tr>\n",
              "      <th>12569</th>\n",
              "      <td>Prinny: Can I Really Be The Hero? (US sales)</td>\n",
              "      <td>PSP</td>\n",
              "      <td>NaN</td>\n",
              "      <td>Action</td>\n",
              "      <td>NaN</td>\n",
              "      <td>0.06</td>\n",
              "      <td>0.00</td>\n",
              "      <td>0.00</td>\n",
              "      <td>0.00</td>\n",
              "      <td>0.06</td>\n",
              "      <td>NaN</td>\n",
              "      <td>0</td>\n",
              "    </tr>\n",
              "    <tr>\n",
              "      <th>13318</th>\n",
              "      <td>Monster Hunter Frontier Online</td>\n",
              "      <td>PS3</td>\n",
              "      <td>NaN</td>\n",
              "      <td>Role-Playing</td>\n",
              "      <td>NaN</td>\n",
              "      <td>0.00</td>\n",
              "      <td>0.00</td>\n",
              "      <td>0.05</td>\n",
              "      <td>0.00</td>\n",
              "      <td>0.05</td>\n",
              "      <td>NaN</td>\n",
              "      <td>0</td>\n",
              "    </tr>\n",
              "    <tr>\n",
              "      <th>13712</th>\n",
              "      <td>B.L.U.E.: Legend of Water</td>\n",
              "      <td>PS</td>\n",
              "      <td>NaN</td>\n",
              "      <td>Adventure</td>\n",
              "      <td>NaN</td>\n",
              "      <td>0.00</td>\n",
              "      <td>0.00</td>\n",
              "      <td>0.04</td>\n",
              "      <td>0.00</td>\n",
              "      <td>0.04</td>\n",
              "      <td>NaN</td>\n",
              "      <td>0</td>\n",
              "    </tr>\n",
              "    <tr>\n",
              "      <th>14128</th>\n",
              "      <td>Housekeeping</td>\n",
              "      <td>DS</td>\n",
              "      <td>NaN</td>\n",
              "      <td>Action</td>\n",
              "      <td>NaN</td>\n",
              "      <td>0.00</td>\n",
              "      <td>0.00</td>\n",
              "      <td>0.04</td>\n",
              "      <td>0.00</td>\n",
              "      <td>0.04</td>\n",
              "      <td>NaN</td>\n",
              "      <td>0</td>\n",
              "    </tr>\n",
              "    <tr>\n",
              "      <th>14352</th>\n",
              "      <td>Bikkuriman Daijiten</td>\n",
              "      <td>DS</td>\n",
              "      <td>NaN</td>\n",
              "      <td>Misc</td>\n",
              "      <td>NaN</td>\n",
              "      <td>0.00</td>\n",
              "      <td>0.00</td>\n",
              "      <td>0.03</td>\n",
              "      <td>0.00</td>\n",
              "      <td>0.03</td>\n",
              "      <td>NaN</td>\n",
              "      <td>0</td>\n",
              "    </tr>\n",
              "    <tr>\n",
              "      <th>14687</th>\n",
              "      <td>World of Tanks</td>\n",
              "      <td>X360</td>\n",
              "      <td>NaN</td>\n",
              "      <td>Shooter</td>\n",
              "      <td>NaN</td>\n",
              "      <td>0.00</td>\n",
              "      <td>0.03</td>\n",
              "      <td>0.00</td>\n",
              "      <td>0.00</td>\n",
              "      <td>0.03</td>\n",
              "      <td>Microsoft Game Studios</td>\n",
              "      <td>0</td>\n",
              "    </tr>\n",
              "    <tr>\n",
              "      <th>14772</th>\n",
              "      <td>UK Truck Simulator</td>\n",
              "      <td>PC</td>\n",
              "      <td>2010.0</td>\n",
              "      <td>Simulation</td>\n",
              "      <td>NaN</td>\n",
              "      <td>0.00</td>\n",
              "      <td>0.03</td>\n",
              "      <td>0.00</td>\n",
              "      <td>0.00</td>\n",
              "      <td>0.03</td>\n",
              "      <td>NaN</td>\n",
              "      <td>0</td>\n",
              "    </tr>\n",
              "    <tr>\n",
              "      <th>15024</th>\n",
              "      <td>Umineko no Naku Koro ni San: Shinjitsu to Gens...</td>\n",
              "      <td>PS3</td>\n",
              "      <td>NaN</td>\n",
              "      <td>Adventure</td>\n",
              "      <td>NaN</td>\n",
              "      <td>0.00</td>\n",
              "      <td>0.00</td>\n",
              "      <td>0.02</td>\n",
              "      <td>0.00</td>\n",
              "      <td>0.02</td>\n",
              "      <td>NaN</td>\n",
              "      <td>0</td>\n",
              "    </tr>\n",
              "    <tr>\n",
              "      <th>15340</th>\n",
              "      <td>Mario Tennis</td>\n",
              "      <td>3DS</td>\n",
              "      <td>NaN</td>\n",
              "      <td>Sports</td>\n",
              "      <td>NaN</td>\n",
              "      <td>0.00</td>\n",
              "      <td>0.00</td>\n",
              "      <td>0.02</td>\n",
              "      <td>0.00</td>\n",
              "      <td>0.02</td>\n",
              "      <td>NaN</td>\n",
              "      <td>0</td>\n",
              "    </tr>\n",
              "    <tr>\n",
              "      <th>15417</th>\n",
              "      <td>Nicktoons Collection: Game Boy Advance Video V...</td>\n",
              "      <td>GBA</td>\n",
              "      <td>2005.0</td>\n",
              "      <td>Misc</td>\n",
              "      <td>NaN</td>\n",
              "      <td>0.01</td>\n",
              "      <td>0.01</td>\n",
              "      <td>0.00</td>\n",
              "      <td>0.00</td>\n",
              "      <td>0.02</td>\n",
              "      <td>NaN</td>\n",
              "      <td>0</td>\n",
              "    </tr>\n",
              "    <tr>\n",
              "      <th>15442</th>\n",
              "      <td>Demolition Company: Gold Edition</td>\n",
              "      <td>PC</td>\n",
              "      <td>2011.0</td>\n",
              "      <td>Simulation</td>\n",
              "      <td>NaN</td>\n",
              "      <td>0.00</td>\n",
              "      <td>0.02</td>\n",
              "      <td>0.00</td>\n",
              "      <td>0.00</td>\n",
              "      <td>0.02</td>\n",
              "      <td>Giants Software</td>\n",
              "      <td>0</td>\n",
              "    </tr>\n",
              "    <tr>\n",
              "      <th>15680</th>\n",
              "      <td>Moshi, Kono Sekai ni Kami-sama ga Iru to suru ...</td>\n",
              "      <td>PSV</td>\n",
              "      <td>2016.0</td>\n",
              "      <td>Adventure</td>\n",
              "      <td>NaN</td>\n",
              "      <td>0.00</td>\n",
              "      <td>0.00</td>\n",
              "      <td>0.02</td>\n",
              "      <td>0.00</td>\n",
              "      <td>0.02</td>\n",
              "      <td>NaN</td>\n",
              "      <td>0</td>\n",
              "    </tr>\n",
              "    <tr>\n",
              "      <th>16019</th>\n",
              "      <td>Dream Dancer</td>\n",
              "      <td>DS</td>\n",
              "      <td>NaN</td>\n",
              "      <td>Misc</td>\n",
              "      <td>NaN</td>\n",
              "      <td>0.01</td>\n",
              "      <td>0.00</td>\n",
              "      <td>0.00</td>\n",
              "      <td>0.00</td>\n",
              "      <td>0.02</td>\n",
              "      <td>CyberPlanet Interactive Public Co., Ltd.</td>\n",
              "      <td>0</td>\n",
              "    </tr>\n",
              "    <tr>\n",
              "      <th>16280</th>\n",
              "      <td>Homeworld Remastered Collection</td>\n",
              "      <td>PC</td>\n",
              "      <td>NaN</td>\n",
              "      <td>Strategy</td>\n",
              "      <td>NaN</td>\n",
              "      <td>0.00</td>\n",
              "      <td>0.01</td>\n",
              "      <td>0.00</td>\n",
              "      <td>0.00</td>\n",
              "      <td>0.01</td>\n",
              "      <td>Gearbox Software</td>\n",
              "      <td>3</td>\n",
              "    </tr>\n",
              "    <tr>\n",
              "      <th>16296</th>\n",
              "      <td>AKB1/48: Idol to Guam de Koishitara...</td>\n",
              "      <td>X360</td>\n",
              "      <td>NaN</td>\n",
              "      <td>Misc</td>\n",
              "      <td>NaN</td>\n",
              "      <td>0.00</td>\n",
              "      <td>0.00</td>\n",
              "      <td>0.01</td>\n",
              "      <td>0.00</td>\n",
              "      <td>0.01</td>\n",
              "      <td>NaN</td>\n",
              "      <td>0</td>\n",
              "    </tr>\n",
              "    <tr>\n",
              "      <th>16306</th>\n",
              "      <td>Super Robot Monkey Team: Game Boy Advance Vide...</td>\n",
              "      <td>GBA</td>\n",
              "      <td>2005.0</td>\n",
              "      <td>Misc</td>\n",
              "      <td>NaN</td>\n",
              "      <td>0.01</td>\n",
              "      <td>0.00</td>\n",
              "      <td>0.00</td>\n",
              "      <td>0.00</td>\n",
              "      <td>0.01</td>\n",
              "      <td>NaN</td>\n",
              "      <td>0</td>\n",
              "    </tr>\n",
              "    <tr>\n",
              "      <th>16332</th>\n",
              "      <td>Brothers in Arms: Furious 4</td>\n",
              "      <td>X360</td>\n",
              "      <td>NaN</td>\n",
              "      <td>Shooter</td>\n",
              "      <td>NaN</td>\n",
              "      <td>0.01</td>\n",
              "      <td>0.00</td>\n",
              "      <td>0.00</td>\n",
              "      <td>0.00</td>\n",
              "      <td>0.01</td>\n",
              "      <td>Gearbox Software</td>\n",
              "      <td>1</td>\n",
              "    </tr>\n",
              "    <tr>\n",
              "      <th>16339</th>\n",
              "      <td>Dance with Devils</td>\n",
              "      <td>PSV</td>\n",
              "      <td>2016.0</td>\n",
              "      <td>Action</td>\n",
              "      <td>NaN</td>\n",
              "      <td>0.00</td>\n",
              "      <td>0.00</td>\n",
              "      <td>0.01</td>\n",
              "      <td>0.00</td>\n",
              "      <td>0.01</td>\n",
              "      <td>NaN</td>\n",
              "      <td>0</td>\n",
              "    </tr>\n",
              "    <tr>\n",
              "      <th>16662</th>\n",
              "      <td>Driving Simulator 2011</td>\n",
              "      <td>PC</td>\n",
              "      <td>2011.0</td>\n",
              "      <td>Racing</td>\n",
              "      <td>NaN</td>\n",
              "      <td>0.00</td>\n",
              "      <td>0.01</td>\n",
              "      <td>0.00</td>\n",
              "      <td>0.00</td>\n",
              "      <td>0.01</td>\n",
              "      <td>NaN</td>\n",
              "      <td>0</td>\n",
              "    </tr>\n",
              "  </tbody>\n",
              "</table>\n",
              "</div>"
            ],
            "text/plain": [
              "                                                    Name Platform  \\\n",
              "475                           wwe Smackdown vs. Raw 2006      PS2   \n",
              "1301                                      Triple Play 99       PS   \n",
              "1667        Shrek / Shrek 2 2-in-1 Gameboy Advance Video      GBA   \n",
              "2212                                  Bentley's Hackpack      GBA   \n",
              "3148   Nicktoons Collection: Game Boy Advance Video V...      GBA   \n",
              "3159   SpongeBob SquarePants: Game Boy Advance Video ...      GBA   \n",
              "3755   SpongeBob SquarePants: Game Boy Advance Video ...      GBA   \n",
              "4127                                  Sonic the Hedgehog      PS3   \n",
              "4508   The Fairly Odd Parents: Game Boy Advance Video...      GBA   \n",
              "4615   The Fairly Odd Parents: Game Boy Advance Video...      GBA   \n",
              "5294       Dragon Ball Z: Budokai Tenkaichi 2 (JP sales)      Wii   \n",
              "5633   Cartoon Network Collection: Game Boy Advance V...      GBA   \n",
              "6256   The Legend of Zelda: The Minish Cap(weekly JP ...      GBA   \n",
              "6415            Sonic X: Game Boy Advance Video Volume 1      GBA   \n",
              "6532   Dora the Explorer: Game Boy Advance Video Volu...      GBA   \n",
              "6626   Cartoon Network Collection: Game Boy Advance V...      GBA   \n",
              "6831      All Grown Up!: Game Boy Advance Video Volume 1      GBA   \n",
              "7189   Nicktoons Collection: Game Boy Advance Video V...      GBA   \n",
              "7333                      Yu Yu Hakusho: Dark Tournament      PS2   \n",
              "7477   SpongeBob SquarePants: Game Boy Advance Video ...      GBA   \n",
              "7930                    Thomas the Tank Engine & Friends      GBA   \n",
              "8317     Dragon Ball GT: Game Boy Advance Video Volume 1      GBA   \n",
              "8328   Codename: Kids Next Door: Game Boy Advance Vid...      GBA   \n",
              "8358   Teenage Mutant Ninja Turtles: Game Boy Advance...      GBA   \n",
              "8494                                        Stronghold 3       PC   \n",
              "8754   Cartoon Network Collection: Game Boy Advance V...      GBA   \n",
              "8837   Pokémon: Johto Photo Finish: Game Boy Advance ...      GBA   \n",
              "8883   Strawberry Shortcake: Game Boy Advance Video V...      GBA   \n",
              "9511                              Farming Simulator 2011       PC   \n",
              "9739   Super Robot Wars OG Saga: Masou Kishin II - Re...      PSP   \n",
              "10378                   Disney Channel Collection Vol. 1      GBA   \n",
              "10487             Atsumare! Power Pro Kun no DS Koushien       DS   \n",
              "11093                       Action Man-Operation Extreme       PS   \n",
              "11546  Cartoon Network Collection: Game Boy Advance V...      GBA   \n",
              "12525                               Chou Soujuu Mecha MG       DS   \n",
              "12569       Prinny: Can I Really Be The Hero? (US sales)      PSP   \n",
              "13318                     Monster Hunter Frontier Online      PS3   \n",
              "13712                          B.L.U.E.: Legend of Water       PS   \n",
              "14128                                       Housekeeping       DS   \n",
              "14352                                Bikkuriman Daijiten       DS   \n",
              "14687                                     World of Tanks     X360   \n",
              "14772                                 UK Truck Simulator       PC   \n",
              "15024  Umineko no Naku Koro ni San: Shinjitsu to Gens...      PS3   \n",
              "15340                                       Mario Tennis      3DS   \n",
              "15417  Nicktoons Collection: Game Boy Advance Video V...      GBA   \n",
              "15442                   Demolition Company: Gold Edition       PC   \n",
              "15680  Moshi, Kono Sekai ni Kami-sama ga Iru to suru ...      PSV   \n",
              "16019                                       Dream Dancer       DS   \n",
              "16280                    Homeworld Remastered Collection       PC   \n",
              "16296             AKB1/48: Idol to Guam de Koishitara...     X360   \n",
              "16306  Super Robot Monkey Team: Game Boy Advance Vide...      GBA   \n",
              "16332                        Brothers in Arms: Furious 4     X360   \n",
              "16339                                  Dance with Devils      PSV   \n",
              "16662                             Driving Simulator 2011       PC   \n",
              "\n",
              "       Year_of_Release         Genre Publisher  NA_Sales  EU_Sales  JP_Sales  \\\n",
              "475                NaN      Fighting       NaN      1.57      1.02      0.00   \n",
              "1301               NaN        Sports       NaN      0.81      0.55      0.00   \n",
              "1667            2007.0          Misc       NaN      0.87      0.32      0.00   \n",
              "2212            2005.0          Misc       NaN      0.67      0.25      0.00   \n",
              "3148            2004.0          Misc       NaN      0.46      0.17      0.00   \n",
              "3159            2004.0          Misc       NaN      0.46      0.17      0.00   \n",
              "3755            2004.0          Misc       NaN      0.38      0.14      0.00   \n",
              "4127               NaN      Platform       NaN      0.00      0.48      0.00   \n",
              "4508            2004.0          Misc       NaN      0.31      0.11      0.00   \n",
              "4615            2004.0          Misc       NaN      0.30      0.11      0.00   \n",
              "5294               NaN        Action       NaN      0.15      0.05      0.14   \n",
              "5633            2005.0          Misc       NaN      0.23      0.08      0.00   \n",
              "6256               NaN        Action       NaN      0.00      0.00      0.27   \n",
              "6415            2004.0          Misc       NaN      0.19      0.07      0.00   \n",
              "6532            2004.0          Misc       NaN      0.18      0.07      0.00   \n",
              "6626            2004.0          Misc       NaN      0.18      0.07      0.00   \n",
              "6831            2004.0          Misc       NaN      0.17      0.06      0.00   \n",
              "7189            2004.0          Misc       NaN      0.16      0.06      0.00   \n",
              "7333               NaN      Fighting       NaN      0.10      0.08      0.00   \n",
              "7477            2004.0          Misc       NaN      0.15      0.05      0.00   \n",
              "7930            2004.0     Adventure       NaN      0.13      0.05      0.00   \n",
              "8317            2004.0          Misc       NaN      0.12      0.05      0.00   \n",
              "8328            2004.0          Misc       NaN      0.12      0.05      0.00   \n",
              "8358            2004.0          Misc       NaN      0.12      0.04      0.00   \n",
              "8494            2011.0      Strategy       NaN      0.06      0.10      0.00   \n",
              "8754            2005.0          Misc       NaN      0.11      0.04      0.00   \n",
              "8837            2004.0          Misc       NaN      0.11      0.04      0.00   \n",
              "8883            2004.0          Misc       NaN      0.11      0.04      0.00   \n",
              "9511            2010.0    Simulation       NaN      0.00      0.13      0.00   \n",
              "9739               NaN      Strategy       NaN      0.00      0.00      0.12   \n",
              "10378           2004.0          Misc       NaN      0.08      0.03      0.00   \n",
              "10487              NaN        Sports       NaN      0.00      0.00      0.10   \n",
              "11093              NaN        Action       NaN      0.05      0.03      0.00   \n",
              "11546           2004.0          Misc       NaN      0.06      0.02      0.00   \n",
              "12525              NaN    Simulation       NaN      0.00      0.00      0.06   \n",
              "12569              NaN        Action       NaN      0.06      0.00      0.00   \n",
              "13318              NaN  Role-Playing       NaN      0.00      0.00      0.05   \n",
              "13712              NaN     Adventure       NaN      0.00      0.00      0.04   \n",
              "14128              NaN        Action       NaN      0.00      0.00      0.04   \n",
              "14352              NaN          Misc       NaN      0.00      0.00      0.03   \n",
              "14687              NaN       Shooter       NaN      0.00      0.03      0.00   \n",
              "14772           2010.0    Simulation       NaN      0.00      0.03      0.00   \n",
              "15024              NaN     Adventure       NaN      0.00      0.00      0.02   \n",
              "15340              NaN        Sports       NaN      0.00      0.00      0.02   \n",
              "15417           2005.0          Misc       NaN      0.01      0.01      0.00   \n",
              "15442           2011.0    Simulation       NaN      0.00      0.02      0.00   \n",
              "15680           2016.0     Adventure       NaN      0.00      0.00      0.02   \n",
              "16019              NaN          Misc       NaN      0.01      0.00      0.00   \n",
              "16280              NaN      Strategy       NaN      0.00      0.01      0.00   \n",
              "16296              NaN          Misc       NaN      0.00      0.00      0.01   \n",
              "16306           2005.0          Misc       NaN      0.01      0.00      0.00   \n",
              "16332              NaN       Shooter       NaN      0.01      0.00      0.00   \n",
              "16339           2016.0        Action       NaN      0.00      0.00      0.01   \n",
              "16662           2011.0        Racing       NaN      0.00      0.01      0.00   \n",
              "\n",
              "       Other_Sales  Global_Sales                                 Developer  \\\n",
              "475           0.41          3.00                                       NaN   \n",
              "1301          0.10          1.46                                       NaN   \n",
              "1667          0.02          1.21                                       NaN   \n",
              "2212          0.02          0.93                                       NaN   \n",
              "3148          0.01          0.64                                       NaN   \n",
              "3159          0.01          0.64                                       NaN   \n",
              "3755          0.01          0.53                                       NaN   \n",
              "4127          0.00          0.48                                Sonic Team   \n",
              "4508          0.01          0.43                                       NaN   \n",
              "4615          0.01          0.42                                       NaN   \n",
              "5294          0.01          0.35                                       NaN   \n",
              "5633          0.01          0.32                                       NaN   \n",
              "6256          0.01          0.27                                       NaN   \n",
              "6415          0.00          0.27                                       NaN   \n",
              "6532          0.00          0.26                                       NaN   \n",
              "6626          0.00          0.25                                       NaN   \n",
              "6831          0.00          0.24                                       NaN   \n",
              "7189          0.00          0.22                                       NaN   \n",
              "7333          0.03          0.21                           Digital Fiction   \n",
              "7477          0.00          0.21                                       NaN   \n",
              "7930          0.00          0.19                                       NaN   \n",
              "8317          0.00          0.17                                       NaN   \n",
              "8328          0.00          0.17                                       NaN   \n",
              "8358          0.00          0.17                                       NaN   \n",
              "8494          0.00          0.16                           FireFly Studios   \n",
              "8754          0.00          0.15                                       NaN   \n",
              "8837          0.00          0.15                                       NaN   \n",
              "8883          0.00          0.15                                       NaN   \n",
              "9511          0.00          0.13                           Giants Software   \n",
              "9739          0.00          0.12                                       NaN   \n",
              "10378         0.00          0.11                                       NaN   \n",
              "10487         0.00          0.10                                       NaN   \n",
              "11093         0.01          0.09                                       NaN   \n",
              "11546         0.00          0.08                                       NaN   \n",
              "12525         0.00          0.06                                       NaN   \n",
              "12569         0.00          0.06                                       NaN   \n",
              "13318         0.00          0.05                                       NaN   \n",
              "13712         0.00          0.04                                       NaN   \n",
              "14128         0.00          0.04                                       NaN   \n",
              "14352         0.00          0.03                                       NaN   \n",
              "14687         0.00          0.03                    Microsoft Game Studios   \n",
              "14772         0.00          0.03                                       NaN   \n",
              "15024         0.00          0.02                                       NaN   \n",
              "15340         0.00          0.02                                       NaN   \n",
              "15417         0.00          0.02                                       NaN   \n",
              "15442         0.00          0.02                           Giants Software   \n",
              "15680         0.00          0.02                                       NaN   \n",
              "16019         0.00          0.02  CyberPlanet Interactive Public Co., Ltd.   \n",
              "16280         0.00          0.01                          Gearbox Software   \n",
              "16296         0.00          0.01                                       NaN   \n",
              "16306         0.00          0.01                                       NaN   \n",
              "16332         0.00          0.01                          Gearbox Software   \n",
              "16339         0.00          0.01                                       NaN   \n",
              "16662         0.00          0.01                                       NaN   \n",
              "\n",
              "       Rating  \n",
              "475         0  \n",
              "1301        0  \n",
              "1667        0  \n",
              "2212        0  \n",
              "3148        0  \n",
              "3159        0  \n",
              "3755        0  \n",
              "4127        3  \n",
              "4508        0  \n",
              "4615        0  \n",
              "5294        0  \n",
              "5633        0  \n",
              "6256        0  \n",
              "6415        0  \n",
              "6532        0  \n",
              "6626        0  \n",
              "6831        0  \n",
              "7189        0  \n",
              "7333        2  \n",
              "7477        0  \n",
              "7930        0  \n",
              "8317        0  \n",
              "8328        0  \n",
              "8358        0  \n",
              "8494        2  \n",
              "8754        0  \n",
              "8837        0  \n",
              "8883        0  \n",
              "9511        0  \n",
              "9739        0  \n",
              "10378       0  \n",
              "10487       0  \n",
              "11093       0  \n",
              "11546       0  \n",
              "12525       0  \n",
              "12569       0  \n",
              "13318       0  \n",
              "13712       0  \n",
              "14128       0  \n",
              "14352       0  \n",
              "14687       0  \n",
              "14772       0  \n",
              "15024       0  \n",
              "15340       0  \n",
              "15417       0  \n",
              "15442       0  \n",
              "15680       0  \n",
              "16019       0  \n",
              "16280       3  \n",
              "16296       0  \n",
              "16306       0  \n",
              "16332       1  \n",
              "16339       0  \n",
              "16662       0  "
            ]
          },
          "execution_count": 15,
          "metadata": {},
          "output_type": "execute_result"
        }
      ],
      "source": [
        "video_games[video_games['Publisher'].isnull()]"
      ]
    },
    {
      "cell_type": "markdown",
      "metadata": {
        "id": "XpL_-xtxh3LD"
      },
      "source": [
        "Pesquisando sobre os jogos com publisher null"
      ]
    },
    {
      "cell_type": "code",
      "execution_count": 16,
      "metadata": {
        "colab": {
          "base_uri": "https://localhost:8080/",
          "height": 460
        },
        "collapsed": true,
        "id": "9JgjAyC4k1Pm",
        "outputId": "9e5b0650-8de6-4b34-f3c7-036a330821e6"
      },
      "outputs": [
        {
          "data": {
            "text/plain": [
              "Name               wwe Smackdown vs. Raw 2006\n",
              "Platform                                  PS2\n",
              "Year_of_Release                           NaN\n",
              "Genre                                Fighting\n",
              "Publisher                                 NaN\n",
              "NA_Sales                                 1.57\n",
              "EU_Sales                                 1.02\n",
              "JP_Sales                                  0.0\n",
              "Other_Sales                              0.41\n",
              "Global_Sales                              3.0\n",
              "Developer                                 NaN\n",
              "Rating                                      0\n",
              "Name: 475, dtype: object"
            ]
          },
          "execution_count": 16,
          "metadata": {},
          "output_type": "execute_result"
        }
      ],
      "source": [
        "# https://pt.wikipedia.org/wiki/WWE_SmackDown_vs.*_Raw_2006\n",
        "video_games.loc[475]"
      ]
    },
    {
      "cell_type": "code",
      "execution_count": 17,
      "metadata": {
        "collapsed": true,
        "id": "Uuv58FU6iBFi"
      },
      "outputs": [],
      "source": [
        "# Corrigindo informações da linha 475\n",
        "video_games.loc[475, 'Publisher'] = 'HQ JP'\n",
        "video_games.loc[475, 'Developer'] = \"Yuke's\"\n",
        "video_games.loc[475, 'Year_of_Release'] = 2006.0"
      ]
    },
    {
      "cell_type": "code",
      "execution_count": 18,
      "metadata": {
        "colab": {
          "base_uri": "https://localhost:8080/",
          "height": 460
        },
        "collapsed": true,
        "id": "vuFgwTjFk6Jj",
        "outputId": "7e91ed99-3545-4a77-a6b4-b671616959d0"
      },
      "outputs": [
        {
          "data": {
            "text/plain": [
              "Name               Triple Play 99\n",
              "Platform                       PS\n",
              "Year_of_Release               NaN\n",
              "Genre                      Sports\n",
              "Publisher                     NaN\n",
              "NA_Sales                     0.81\n",
              "EU_Sales                     0.55\n",
              "JP_Sales                      0.0\n",
              "Other_Sales                   0.1\n",
              "Global_Sales                 1.46\n",
              "Developer                     NaN\n",
              "Rating                          0\n",
              "Name: 1301, dtype: object"
            ]
          },
          "execution_count": 18,
          "metadata": {},
          "output_type": "execute_result"
        }
      ],
      "source": [
        "# https://en.wikipedia.org/wiki/Triple_Play_99\n",
        "video_games.loc[1301]"
      ]
    },
    {
      "cell_type": "code",
      "execution_count": 19,
      "metadata": {
        "collapsed": true,
        "id": "8rQD-c-ulAok"
      },
      "outputs": [],
      "source": [
        "# Corrigindo informações da linha 1301\n",
        "video_games.loc[1301, 'Publisher'] = 'EA Sports'\n",
        "video_games.loc[1301, 'Developer'] = \"EA Canada\"\n",
        "video_games.loc[1301, 'Year_of_Release'] = 1998.0"
      ]
    },
    {
      "cell_type": "code",
      "execution_count": 20,
      "metadata": {
        "colab": {
          "base_uri": "https://localhost:8080/",
          "height": 460
        },
        "collapsed": true,
        "id": "_DB31iavnjLu",
        "outputId": "5a3611e0-f64b-4806-87f9-6fa95c556d13"
      },
      "outputs": [
        {
          "data": {
            "text/plain": [
              "Name               Shrek / Shrek 2 2-in-1 Gameboy Advance Video\n",
              "Platform                                                    GBA\n",
              "Year_of_Release                                          2007.0\n",
              "Genre                                                      Misc\n",
              "Publisher                                                   NaN\n",
              "NA_Sales                                                   0.87\n",
              "EU_Sales                                                   0.32\n",
              "JP_Sales                                                    0.0\n",
              "Other_Sales                                                0.02\n",
              "Global_Sales                                               1.21\n",
              "Developer                                                   NaN\n",
              "Rating                                                        0\n",
              "Name: 1667, dtype: object"
            ]
          },
          "execution_count": 20,
          "metadata": {},
          "output_type": "execute_result"
        }
      ],
      "source": [
        "# https://gamefaqs.gamespot.com/gba/934475-game-boy-advance-video-shrek-*2*\n",
        "video_games.loc[1667]"
      ]
    },
    {
      "cell_type": "code",
      "execution_count": 21,
      "metadata": {
        "collapsed": true,
        "id": "9gGu199KpWSY"
      },
      "outputs": [],
      "source": [
        "# Corrigindo informações da linha 1667\n",
        "video_games.loc[1667, 'Publisher'] = 'Majesco'\n",
        "video_games.loc[1667, 'Developer'] = \"Majesco\"\n"
      ]
    },
    {
      "cell_type": "code",
      "execution_count": 22,
      "metadata": {
        "colab": {
          "base_uri": "https://localhost:8080/",
          "height": 460
        },
        "collapsed": true,
        "id": "oFcuY-0Pp6Vc",
        "outputId": "6627929e-0dee-48f7-8110-925d07510f91"
      },
      "outputs": [
        {
          "data": {
            "text/plain": [
              "Name               Nicktoons Collection: Game Boy Advance Video V...\n",
              "Platform                                                         GBA\n",
              "Year_of_Release                                               2004.0\n",
              "Genre                                                           Misc\n",
              "Publisher                                                        NaN\n",
              "NA_Sales                                                        0.46\n",
              "EU_Sales                                                        0.17\n",
              "JP_Sales                                                         0.0\n",
              "Other_Sales                                                     0.01\n",
              "Global_Sales                                                    0.64\n",
              "Developer                                                        NaN\n",
              "Rating                                                             0\n",
              "Name: 3148, dtype: object"
            ]
          },
          "execution_count": 22,
          "metadata": {},
          "output_type": "execute_result"
        }
      ],
      "source": [
        "# https://rugrats.fandom.com/wiki/Nicktoons_Collection:_Volume_1\n",
        "video_games.loc[3148]"
      ]
    },
    {
      "cell_type": "code",
      "execution_count": 23,
      "metadata": {
        "collapsed": true,
        "id": "i-1CIGKoqFB1"
      },
      "outputs": [],
      "source": [
        "# Corrigindo informações da linha 3148\n",
        "video_games.loc[3148, 'Publisher'] = 'Nintendo'\n",
        "video_games.loc[3148, 'Developer'] = 'Majesco'"
      ]
    },
    {
      "cell_type": "code",
      "execution_count": 24,
      "metadata": {
        "colab": {
          "base_uri": "https://localhost:8080/",
          "height": 460
        },
        "collapsed": true,
        "id": "W-wysqKXjds6",
        "outputId": "7e70d096-b8be-4395-b448-15f48bc81ce3"
      },
      "outputs": [
        {
          "data": {
            "text/plain": [
              "Name               SpongeBob SquarePants: Game Boy Advance Video ...\n",
              "Platform                                                         GBA\n",
              "Year_of_Release                                               2004.0\n",
              "Genre                                                           Misc\n",
              "Publisher                                                        NaN\n",
              "NA_Sales                                                        0.46\n",
              "EU_Sales                                                        0.17\n",
              "JP_Sales                                                         0.0\n",
              "Other_Sales                                                     0.01\n",
              "Global_Sales                                                    0.64\n",
              "Developer                                                        NaN\n",
              "Rating                                                             0\n",
              "Name: 3159, dtype: object"
            ]
          },
          "execution_count": 24,
          "metadata": {},
          "output_type": "execute_result"
        }
      ],
      "source": [
        "# https://gba-video.fandom.com/wiki/SpongeBob_SquarePants_Volume_1\n",
        "video_games.loc[3159]"
      ]
    },
    {
      "cell_type": "code",
      "execution_count": 25,
      "metadata": {
        "collapsed": true,
        "id": "r8IPjxtBvzTi"
      },
      "outputs": [],
      "source": [
        "# Corrigindo informações da linha 3159\n",
        "video_games.loc[3159, 'Publisher'] = 'Nintendo'\n",
        "video_games.loc[3159, 'Developer'] = 'Majesco'"
      ]
    },
    {
      "cell_type": "code",
      "execution_count": 26,
      "metadata": {
        "colab": {
          "base_uri": "https://localhost:8080/",
          "height": 460
        },
        "collapsed": true,
        "id": "gTtIUYMCwApN",
        "outputId": "e0012cc0-76c2-4992-ccd1-4e5ba54767e2"
      },
      "outputs": [
        {
          "data": {
            "text/plain": [
              "Name               SpongeBob SquarePants: Game Boy Advance Video ...\n",
              "Platform                                                         GBA\n",
              "Year_of_Release                                               2004.0\n",
              "Genre                                                           Misc\n",
              "Publisher                                                        NaN\n",
              "NA_Sales                                                        0.38\n",
              "EU_Sales                                                        0.14\n",
              "JP_Sales                                                         0.0\n",
              "Other_Sales                                                     0.01\n",
              "Global_Sales                                                    0.53\n",
              "Developer                                                        NaN\n",
              "Rating                                                             0\n",
              "Name: 3755, dtype: object"
            ]
          },
          "execution_count": 26,
          "metadata": {},
          "output_type": "execute_result"
        }
      ],
      "source": [
        "# https://gba-video.fandom.com/wiki/SpongeBob_SquarePants_Volume_2\n",
        "video_games.loc[3755]"
      ]
    },
    {
      "cell_type": "code",
      "execution_count": 27,
      "metadata": {
        "collapsed": true,
        "id": "61U8FLNnzDah"
      },
      "outputs": [],
      "source": [
        "# Corrigindo informações da linha 3755\n",
        "video_games.loc[3755, 'Publisher'] = 'Nintendo'\n",
        "video_games.loc[3755, 'Developer'] = 'Majesco'"
      ]
    },
    {
      "cell_type": "code",
      "execution_count": 28,
      "metadata": {
        "colab": {
          "base_uri": "https://localhost:8080/",
          "height": 460
        },
        "collapsed": true,
        "id": "S6RURiHezjP3",
        "outputId": "10e9d91e-3c2e-4b42-f090-b6eb075da200"
      },
      "outputs": [
        {
          "data": {
            "text/plain": [
              "Name               Sonic the Hedgehog\n",
              "Platform                          PS3\n",
              "Year_of_Release                   NaN\n",
              "Genre                        Platform\n",
              "Publisher                         NaN\n",
              "NA_Sales                          0.0\n",
              "EU_Sales                         0.48\n",
              "JP_Sales                          0.0\n",
              "Other_Sales                       0.0\n",
              "Global_Sales                     0.48\n",
              "Developer                  Sonic Team\n",
              "Rating                              3\n",
              "Name: 4127, dtype: object"
            ]
          },
          "execution_count": 28,
          "metadata": {},
          "output_type": "execute_result"
        }
      ],
      "source": [
        "# https://pt.wikipedia.org/wiki/Sonic_the_Hedgehog_(jogo_eletr%C3%B4nico_de_2006)\n",
        "video_games.loc[4127]"
      ]
    },
    {
      "cell_type": "code",
      "execution_count": 29,
      "metadata": {
        "collapsed": true,
        "id": "dAUIh1GxzxYW"
      },
      "outputs": [],
      "source": [
        "# Corrigindo informações da linha 4127\n",
        "video_games.loc[4121, 'Publisher'] = 'Sega'\n",
        "video_games.loc[4127, 'Year_of_Release'] = 2006.0"
      ]
    },
    {
      "cell_type": "code",
      "execution_count": 30,
      "metadata": {
        "colab": {
          "base_uri": "https://localhost:8080/",
          "height": 460
        },
        "collapsed": true,
        "id": "Brzk8mIr1Kay",
        "outputId": "6f9c50af-05c0-4937-d3a6-2ab4c9303708"
      },
      "outputs": [
        {
          "data": {
            "text/plain": [
              "Name               The Fairly Odd Parents: Game Boy Advance Video...\n",
              "Platform                                                         GBA\n",
              "Year_of_Release                                               2004.0\n",
              "Genre                                                           Misc\n",
              "Publisher                                                        NaN\n",
              "NA_Sales                                                        0.31\n",
              "EU_Sales                                                        0.11\n",
              "JP_Sales                                                         0.0\n",
              "Other_Sales                                                     0.01\n",
              "Global_Sales                                                    0.43\n",
              "Developer                                                        NaN\n",
              "Rating                                                             0\n",
              "Name: 4508, dtype: object"
            ]
          },
          "execution_count": 30,
          "metadata": {},
          "output_type": "execute_result"
        }
      ],
      "source": [
        "# https://gamefaqs.gamespot.com/gba/920485-game-boy-advance-video-the-fairly-oddparents-volume-1\n",
        "video_games.loc[4508]"
      ]
    },
    {
      "cell_type": "code",
      "execution_count": 31,
      "metadata": {
        "collapsed": true,
        "id": "w_TJs3LN1rmb"
      },
      "outputs": [],
      "source": [
        "# Corrigindo informações da linha 4508\n",
        "video_games.loc[4508, 'Publisher'] = 'Majesco'\n",
        "video_games.loc[4508, 'Developer'] = 'Majesco'"
      ]
    },
    {
      "cell_type": "code",
      "execution_count": 32,
      "metadata": {
        "colab": {
          "base_uri": "https://localhost:8080/",
          "height": 460
        },
        "collapsed": true,
        "id": "oqvjNepe18zP",
        "outputId": "836638d2-009c-4c4b-c7ca-ee7d4dd457dc"
      },
      "outputs": [
        {
          "data": {
            "text/plain": [
              "Name               The Fairly Odd Parents: Game Boy Advance Video...\n",
              "Platform                                                         GBA\n",
              "Year_of_Release                                               2004.0\n",
              "Genre                                                           Misc\n",
              "Publisher                                                        NaN\n",
              "NA_Sales                                                         0.3\n",
              "EU_Sales                                                        0.11\n",
              "JP_Sales                                                         0.0\n",
              "Other_Sales                                                     0.01\n",
              "Global_Sales                                                    0.42\n",
              "Developer                                                        NaN\n",
              "Rating                                                             0\n",
              "Name: 4615, dtype: object"
            ]
          },
          "execution_count": 32,
          "metadata": {},
          "output_type": "execute_result"
        }
      ],
      "source": [
        "# https://gamefaqs.gamespot.com/gba/920486-game-boy-advance-video-the-fairly-oddparents-volume-2/data\n",
        "video_games.loc[4615]"
      ]
    },
    {
      "cell_type": "code",
      "execution_count": 33,
      "metadata": {
        "collapsed": true,
        "id": "8lBsJrQ-2ohH"
      },
      "outputs": [],
      "source": [
        "# Corrigindo informações da linha 4615\n",
        "video_games.loc[4615, 'Publisher'] = 'Majesco'\n",
        "video_games.loc[4615, 'Developer'] = 'Majesco'"
      ]
    },
    {
      "cell_type": "code",
      "execution_count": 34,
      "metadata": {
        "colab": {
          "base_uri": "https://localhost:8080/",
          "height": 460
        },
        "collapsed": true,
        "id": "AI6lYDGR2z1k",
        "outputId": "994726ef-a448-48cb-b237-f798d5c23bed"
      },
      "outputs": [
        {
          "data": {
            "text/plain": [
              "Name               Dragon Ball Z: Budokai Tenkaichi 2 (JP sales)\n",
              "Platform                                                     Wii\n",
              "Year_of_Release                                              NaN\n",
              "Genre                                                     Action\n",
              "Publisher                                                    NaN\n",
              "NA_Sales                                                    0.15\n",
              "EU_Sales                                                    0.05\n",
              "JP_Sales                                                    0.14\n",
              "Other_Sales                                                 0.01\n",
              "Global_Sales                                                0.35\n",
              "Developer                                                    NaN\n",
              "Rating                                                         0\n",
              "Name: 5294, dtype: object"
            ]
          },
          "execution_count": 34,
          "metadata": {},
          "output_type": "execute_result"
        }
      ],
      "source": [
        "# https://www.ebay.com/p/54825746\n",
        "# https://en.wikipedia.org/wiki/Dragon_Ball_Z:_Budokai_Tenkaichi\n",
        "video_games.loc[5294]"
      ]
    },
    {
      "cell_type": "code",
      "execution_count": 35,
      "metadata": {
        "collapsed": true,
        "id": "xBqiHKC14aAP"
      },
      "outputs": [],
      "source": [
        "# Corrigindo informações da linha 5294\n",
        "video_games.loc[5294,'Publisher'] = 'Atari Inc.'\n",
        "video_games.loc[5294,'Developer'] = 'Spike'\n",
        "video_games.loc[5294,'Year_of_Release'] = 2006.0"
      ]
    },
    {
      "cell_type": "code",
      "execution_count": 36,
      "metadata": {
        "colab": {
          "base_uri": "https://localhost:8080/",
          "height": 460
        },
        "collapsed": true,
        "id": "DetoxZD15Osc",
        "outputId": "0c5d1d9b-85be-4bd5-c50c-a1d678d912dd"
      },
      "outputs": [
        {
          "data": {
            "text/plain": [
              "Name               Cartoon Network Collection: Game Boy Advance V...\n",
              "Platform                                                         GBA\n",
              "Year_of_Release                                               2005.0\n",
              "Genre                                                           Misc\n",
              "Publisher                                                        NaN\n",
              "NA_Sales                                                        0.23\n",
              "EU_Sales                                                        0.08\n",
              "JP_Sales                                                         0.0\n",
              "Other_Sales                                                     0.01\n",
              "Global_Sales                                                    0.32\n",
              "Developer                                                        NaN\n",
              "Rating                                                             0\n",
              "Name: 5633, dtype: object"
            ]
          },
          "execution_count": 36,
          "metadata": {},
          "output_type": "execute_result"
        }
      ],
      "source": [
        "# https://gamefaqs.gamespot.com/gba/629322-game-boy-advance-video-cartoon-network-collection-platinum\n",
        "video_games.loc[5633]"
      ]
    },
    {
      "cell_type": "code",
      "execution_count": 37,
      "metadata": {
        "collapsed": true,
        "id": "0-sA6H6w5n2U"
      },
      "outputs": [],
      "source": [
        "# Corrigindo informações da linha 5633\n",
        "video_games.loc[5633, 'Publisher'] = 'Majesco'\n",
        "video_games.loc[5633, 'Developer'] = 'Majesco'"
      ]
    },
    {
      "cell_type": "code",
      "execution_count": 38,
      "metadata": {
        "colab": {
          "base_uri": "https://localhost:8080/",
          "height": 460
        },
        "collapsed": true,
        "id": "swnunDEi56Z0",
        "outputId": "c7ebcbf0-4f3b-4aa4-d6d0-d2f66387530d"
      },
      "outputs": [
        {
          "data": {
            "text/plain": [
              "Name               The Legend of Zelda: The Minish Cap(weekly JP ...\n",
              "Platform                                                         GBA\n",
              "Year_of_Release                                                  NaN\n",
              "Genre                                                         Action\n",
              "Publisher                                                        NaN\n",
              "NA_Sales                                                         0.0\n",
              "EU_Sales                                                         0.0\n",
              "JP_Sales                                                        0.27\n",
              "Other_Sales                                                     0.01\n",
              "Global_Sales                                                    0.27\n",
              "Developer                                                        NaN\n",
              "Rating                                                             0\n",
              "Name: 6256, dtype: object"
            ]
          },
          "execution_count": 38,
          "metadata": {},
          "output_type": "execute_result"
        }
      ],
      "source": [
        "# https://zelda.fandom.com/wiki/The_Legend_of_Zelda:_The_Minish_Cap\n",
        "video_games.loc[6256]"
      ]
    },
    {
      "cell_type": "code",
      "execution_count": 39,
      "metadata": {
        "collapsed": true,
        "id": "hxhfQfF26a5Y"
      },
      "outputs": [],
      "source": [
        "# Corrigindo informações da linha 6256\n",
        "video_games.loc[6256, 'Publisher'] = 'Nintendo'\n",
        "video_games.loc[6256, 'Developer'] = 'Capcom'\n",
        "video_games.loc[6256, 'Year_of_Release'] = 2004.0"
      ]
    },
    {
      "cell_type": "code",
      "execution_count": 40,
      "metadata": {
        "colab": {
          "base_uri": "https://localhost:8080/",
          "height": 460
        },
        "collapsed": true,
        "id": "uARtTqxX7egH",
        "outputId": "54c1e2ac-6ba1-448e-f5d6-8aff06c5c95e"
      },
      "outputs": [
        {
          "data": {
            "text/plain": [
              "Name               Sonic X: Game Boy Advance Video Volume 1\n",
              "Platform                                                GBA\n",
              "Year_of_Release                                      2004.0\n",
              "Genre                                                  Misc\n",
              "Publisher                                               NaN\n",
              "NA_Sales                                               0.19\n",
              "EU_Sales                                               0.07\n",
              "JP_Sales                                                0.0\n",
              "Other_Sales                                             0.0\n",
              "Global_Sales                                           0.27\n",
              "Developer                                               NaN\n",
              "Rating                                                    0\n",
              "Name: 6415, dtype: object"
            ]
          },
          "execution_count": 40,
          "metadata": {},
          "output_type": "execute_result"
        }
      ],
      "source": [
        "# https://sonic.fandom.com/wiki/Sonic_X:_A_Super_Sonic_Hero_(Game_Boy_Advance)\n",
        "video_games.loc[6415]"
      ]
    },
    {
      "cell_type": "code",
      "execution_count": 41,
      "metadata": {
        "collapsed": true,
        "id": "50FtEsLd76iM"
      },
      "outputs": [],
      "source": [
        "# Corrigindo informações da linha 6415\n",
        "video_games.loc[6415, 'Publisher'] = 'Majesco'\n",
        "video_games.loc[6415, 'Developer'] = 'Majesco'"
      ]
    },
    {
      "cell_type": "code",
      "execution_count": 42,
      "metadata": {
        "colab": {
          "base_uri": "https://localhost:8080/",
          "height": 460
        },
        "collapsed": true,
        "id": "1wB3OTL67_Na",
        "outputId": "0618bcd1-3bdd-4ab9-af2c-bd9f47ad0178"
      },
      "outputs": [
        {
          "data": {
            "text/plain": [
              "Name               Dora the Explorer: Game Boy Advance Video Volu...\n",
              "Platform                                                         GBA\n",
              "Year_of_Release                                               2004.0\n",
              "Genre                                                           Misc\n",
              "Publisher                                                        NaN\n",
              "NA_Sales                                                        0.18\n",
              "EU_Sales                                                        0.07\n",
              "JP_Sales                                                         0.0\n",
              "Other_Sales                                                      0.0\n",
              "Global_Sales                                                    0.26\n",
              "Developer                                                        NaN\n",
              "Rating                                                             0\n",
              "Name: 6532, dtype: object"
            ]
          },
          "execution_count": 42,
          "metadata": {},
          "output_type": "execute_result"
        }
      ],
      "source": [
        "# https://gba-video.fandom.com/wiki/Dora_the_Explorer_Volume_1\n",
        "video_games.loc[6532]"
      ]
    },
    {
      "cell_type": "code",
      "execution_count": 43,
      "metadata": {
        "collapsed": true,
        "id": "nwDc_H2S8QoL"
      },
      "outputs": [],
      "source": [
        "# Corrigindo informações da linha 6532\n",
        "video_games.loc[6532, 'Publisher'] = 'Nintendo'\n",
        "video_games.loc[6532, 'Developer'] = 'Majesco'"
      ]
    },
    {
      "cell_type": "code",
      "execution_count": 44,
      "metadata": {
        "colab": {
          "base_uri": "https://localhost:8080/",
          "height": 460
        },
        "collapsed": true,
        "id": "fVLkEAuk8en7",
        "outputId": "c166fe55-03a6-47e4-91d7-654bb39e306e"
      },
      "outputs": [
        {
          "data": {
            "text/plain": [
              "Name               Cartoon Network Collection: Game Boy Advance V...\n",
              "Platform                                                         GBA\n",
              "Year_of_Release                                               2004.0\n",
              "Genre                                                           Misc\n",
              "Publisher                                                        NaN\n",
              "NA_Sales                                                        0.18\n",
              "EU_Sales                                                        0.07\n",
              "JP_Sales                                                         0.0\n",
              "Other_Sales                                                      0.0\n",
              "Global_Sales                                                    0.25\n",
              "Developer                                                        NaN\n",
              "Rating                                                             0\n",
              "Name: 6626, dtype: object"
            ]
          },
          "execution_count": 44,
          "metadata": {},
          "output_type": "execute_result"
        }
      ],
      "source": [
        "# https://gba-video.fandom.com/wiki/Cartoon_Network_Collection_Volume_1\n",
        "video_games.loc[6626]"
      ]
    },
    {
      "cell_type": "code",
      "execution_count": 45,
      "metadata": {
        "collapsed": true,
        "id": "mez5fcwK8xr7"
      },
      "outputs": [],
      "source": [
        "# Corrigindo informações da linha 6626\n",
        "video_games.loc[6626, 'Publisher'] = 'Nintendo'\n",
        "video_games.loc[6626, 'Developer'] = 'Majesco'"
      ]
    },
    {
      "cell_type": "code",
      "execution_count": 46,
      "metadata": {
        "colab": {
          "base_uri": "https://localhost:8080/",
          "height": 460
        },
        "collapsed": true,
        "id": "lgv5jSrL84Qh",
        "outputId": "b642173e-6b70-4328-e5d2-360ac6e1fde9"
      },
      "outputs": [
        {
          "data": {
            "text/plain": [
              "Name               All Grown Up!: Game Boy Advance Video Volume 1\n",
              "Platform                                                      GBA\n",
              "Year_of_Release                                            2004.0\n",
              "Genre                                                        Misc\n",
              "Publisher                                                     NaN\n",
              "NA_Sales                                                     0.17\n",
              "EU_Sales                                                     0.06\n",
              "JP_Sales                                                      0.0\n",
              "Other_Sales                                                   0.0\n",
              "Global_Sales                                                 0.24\n",
              "Developer                                                     NaN\n",
              "Rating                                                          0\n",
              "Name: 6831, dtype: object"
            ]
          },
          "execution_count": 46,
          "metadata": {},
          "output_type": "execute_result"
        }
      ],
      "source": [
        "# https://rugrats.fandom.com/wiki/All_Grown_Up!:_Volume_1\n",
        "video_games.loc[6831]"
      ]
    },
    {
      "cell_type": "code",
      "execution_count": 47,
      "metadata": {
        "collapsed": true,
        "id": "pE6Lo3xG9Nh2"
      },
      "outputs": [],
      "source": [
        "# Corrigindo informações da linha 6831\n",
        "video_games.loc[6831, 'Publisher'] = 'Nintendo'\n",
        "video_games.loc[6831, 'Developer'] = 'Majesco'"
      ]
    },
    {
      "cell_type": "code",
      "execution_count": 48,
      "metadata": {
        "colab": {
          "base_uri": "https://localhost:8080/",
          "height": 460
        },
        "collapsed": true,
        "id": "fHmkFzqg9m3i",
        "outputId": "619a357f-a624-42d6-c7ea-1b55485767ff"
      },
      "outputs": [
        {
          "data": {
            "text/plain": [
              "Name               Nicktoons Collection: Game Boy Advance Video V...\n",
              "Platform                                                         GBA\n",
              "Year_of_Release                                               2004.0\n",
              "Genre                                                           Misc\n",
              "Publisher                                                        NaN\n",
              "NA_Sales                                                        0.16\n",
              "EU_Sales                                                        0.06\n",
              "JP_Sales                                                         0.0\n",
              "Other_Sales                                                      0.0\n",
              "Global_Sales                                                    0.22\n",
              "Developer                                                        NaN\n",
              "Rating                                                             0\n",
              "Name: 7189, dtype: object"
            ]
          },
          "execution_count": 48,
          "metadata": {},
          "output_type": "execute_result"
        }
      ],
      "source": [
        "# https://gamefaqs.gamespot.com/gba/924902-game-boy-advance-video-nicktoons-collection-volume-2\n",
        "video_games.loc[7189]"
      ]
    },
    {
      "cell_type": "code",
      "execution_count": 49,
      "metadata": {
        "id": "XqA-vjeR-Gkl"
      },
      "outputs": [],
      "source": [
        "# Corrigindo informações da linha 7189\n",
        "video_games.loc[7189, 'Publisher'] = 'Majesco'\n",
        "video_games.loc[7189, 'Developer'] = 'Majesco'"
      ]
    },
    {
      "cell_type": "code",
      "execution_count": 50,
      "metadata": {
        "colab": {
          "base_uri": "https://localhost:8080/",
          "height": 460
        },
        "collapsed": true,
        "id": "pGG5ytro-Vnz",
        "outputId": "1a13d636-a829-4e8e-9f11-577523ea668b"
      },
      "outputs": [
        {
          "data": {
            "text/plain": [
              "Name               Yu Yu Hakusho: Dark Tournament\n",
              "Platform                                      PS2\n",
              "Year_of_Release                               NaN\n",
              "Genre                                    Fighting\n",
              "Publisher                                     NaN\n",
              "NA_Sales                                      0.1\n",
              "EU_Sales                                     0.08\n",
              "JP_Sales                                      0.0\n",
              "Other_Sales                                  0.03\n",
              "Global_Sales                                 0.21\n",
              "Developer                         Digital Fiction\n",
              "Rating                                          2\n",
              "Name: 7333, dtype: object"
            ]
          },
          "execution_count": 50,
          "metadata": {},
          "output_type": "execute_result"
        }
      ],
      "source": [
        "# https://en.wikipedia.org/wiki/Yu_Yu_Hakusho:_Dark_Tournament\n",
        "video_games.loc[7333]"
      ]
    },
    {
      "cell_type": "code",
      "execution_count": 51,
      "metadata": {
        "collapsed": true,
        "id": "vG77Brdw-aug"
      },
      "outputs": [],
      "source": [
        "# Corrigindo informações da linha 7333\n",
        "video_games.loc[7333, 'Publisher'] = 'Atari'\n",
        "video_games.loc[7333, 'Developer'] = 'Digital Fiction'\n",
        "video_games.loc[7333, 'Year_of_Release'] = 2004.0"
      ]
    },
    {
      "cell_type": "code",
      "execution_count": 52,
      "metadata": {
        "colab": {
          "base_uri": "https://localhost:8080/",
          "height": 460
        },
        "collapsed": true,
        "id": "ieSIoOH5-9TE",
        "outputId": "5d0fd22a-2e17-4035-d75c-38a43c24002a"
      },
      "outputs": [
        {
          "data": {
            "text/plain": [
              "Name               SpongeBob SquarePants: Game Boy Advance Video ...\n",
              "Platform                                                         GBA\n",
              "Year_of_Release                                               2004.0\n",
              "Genre                                                           Misc\n",
              "Publisher                                                        NaN\n",
              "NA_Sales                                                        0.15\n",
              "EU_Sales                                                        0.05\n",
              "JP_Sales                                                         0.0\n",
              "Other_Sales                                                      0.0\n",
              "Global_Sales                                                    0.21\n",
              "Developer                                                        NaN\n",
              "Rating                                                             0\n",
              "Name: 7477, dtype: object"
            ]
          },
          "execution_count": 52,
          "metadata": {},
          "output_type": "execute_result"
        }
      ],
      "source": [
        "# https://gba-video.fandom.com/wiki/SpongeBob_SquarePants_Volume_3\n",
        "video_games.loc[7477]"
      ]
    },
    {
      "cell_type": "code",
      "execution_count": 53,
      "metadata": {
        "collapsed": true,
        "id": "UVgbPzzu_VEH"
      },
      "outputs": [],
      "source": [
        "# Corrigindo informações da linha 7477\n",
        "video_games.loc[7477, 'Publisher'] = 'Nintendo'\n",
        "video_games.loc[7477, 'Developer'] = 'Majesco'"
      ]
    },
    {
      "cell_type": "code",
      "execution_count": 54,
      "metadata": {
        "colab": {
          "base_uri": "https://localhost:8080/",
          "height": 460
        },
        "collapsed": true,
        "id": "253y_MLnAQzK",
        "outputId": "cc754e48-f1ac-467d-c427-73f07a963574"
      },
      "outputs": [
        {
          "data": {
            "text/plain": [
              "Name               Thomas the Tank Engine & Friends\n",
              "Platform                                        GBA\n",
              "Year_of_Release                              2004.0\n",
              "Genre                                     Adventure\n",
              "Publisher                                       NaN\n",
              "NA_Sales                                       0.13\n",
              "EU_Sales                                       0.05\n",
              "JP_Sales                                        0.0\n",
              "Other_Sales                                     0.0\n",
              "Global_Sales                                   0.19\n",
              "Developer                                       NaN\n",
              "Rating                                            0\n",
              "Name: 7930, dtype: object"
            ]
          },
          "execution_count": 54,
          "metadata": {},
          "output_type": "execute_result"
        }
      ],
      "source": [
        "# https://gamefaqs.gamespot.com/snes/588788-thomas-the-tank-engine-and-friends/boxes/39058\n",
        "video_games.loc[7930]"
      ]
    },
    {
      "cell_type": "code",
      "execution_count": 55,
      "metadata": {
        "collapsed": true,
        "id": "I9sWLQAWAZH5"
      },
      "outputs": [],
      "source": [
        "# Corrigindo informações da linha 7930\n",
        "video_games.loc[7930, 'Publisher'] = 'THQ'\n",
        "video_games.loc[7930, 'Developer'] = 'Software Creations'"
      ]
    },
    {
      "cell_type": "code",
      "execution_count": 56,
      "metadata": {
        "colab": {
          "base_uri": "https://localhost:8080/",
          "height": 460
        },
        "collapsed": true,
        "id": "Vr2Y0mD5Alz-",
        "outputId": "b41df056-5caf-455d-a6c6-264102f66780"
      },
      "outputs": [
        {
          "data": {
            "text/plain": [
              "Name               Dragon Ball GT: Game Boy Advance Video Volume 1\n",
              "Platform                                                       GBA\n",
              "Year_of_Release                                             2004.0\n",
              "Genre                                                         Misc\n",
              "Publisher                                                      NaN\n",
              "NA_Sales                                                      0.12\n",
              "EU_Sales                                                      0.05\n",
              "JP_Sales                                                       0.0\n",
              "Other_Sales                                                    0.0\n",
              "Global_Sales                                                  0.17\n",
              "Developer                                                      NaN\n",
              "Rating                                                           0\n",
              "Name: 8317, dtype: object"
            ]
          },
          "execution_count": 56,
          "metadata": {},
          "output_type": "execute_result"
        }
      ],
      "source": [
        "# https://gba-video.fandom.com/wiki/Dragon_Ball_GT_Volume_1\n",
        "video_games.loc[8317]"
      ]
    },
    {
      "cell_type": "code",
      "execution_count": 57,
      "metadata": {
        "collapsed": true,
        "id": "a_sSAhGVA3cp"
      },
      "outputs": [],
      "source": [
        "# Corrigindo informações da linha 8317\n",
        "video_games.loc[8317, 'Publisher'] = 'Nintendo'\n",
        "video_games.loc[8317, 'Developer'] = 'Majesco'"
      ]
    },
    {
      "cell_type": "code",
      "execution_count": 58,
      "metadata": {
        "colab": {
          "base_uri": "https://localhost:8080/",
          "height": 460
        },
        "collapsed": true,
        "id": "zpCSZBOKCEPf",
        "outputId": "3e28ba90-c265-4fe8-acbe-0364248b4854"
      },
      "outputs": [
        {
          "data": {
            "text/plain": [
              "Name               Codename: Kids Next Door: Game Boy Advance Vid...\n",
              "Platform                                                         GBA\n",
              "Year_of_Release                                               2004.0\n",
              "Genre                                                           Misc\n",
              "Publisher                                                        NaN\n",
              "NA_Sales                                                        0.12\n",
              "EU_Sales                                                        0.05\n",
              "JP_Sales                                                         0.0\n",
              "Other_Sales                                                      0.0\n",
              "Global_Sales                                                    0.17\n",
              "Developer                                                        NaN\n",
              "Rating                                                             0\n",
              "Name: 8328, dtype: object"
            ]
          },
          "execution_count": 58,
          "metadata": {},
          "output_type": "execute_result"
        }
      ],
      "source": [
        "# https://gamefaqs.gamespot.com/gba/920483-game-boy-advance-video-codename-kids-next-door-volume-1\n",
        "video_games.loc[8328]"
      ]
    },
    {
      "cell_type": "code",
      "execution_count": 59,
      "metadata": {
        "collapsed": true,
        "id": "E4fHZGjQCfxO"
      },
      "outputs": [],
      "source": [
        "# Corrigindo informações da linha 8328\n",
        "video_games.loc[8328, 'Publisher'] = 'Majesco'\n",
        "video_games.loc[8328, 'Developer'] = 'Majesco'"
      ]
    },
    {
      "cell_type": "code",
      "execution_count": 60,
      "metadata": {
        "colab": {
          "base_uri": "https://localhost:8080/",
          "height": 460
        },
        "collapsed": true,
        "id": "WYHMEETGCpjb",
        "outputId": "316f90f4-3414-4d1e-9c4e-5d4e3282a17a"
      },
      "outputs": [
        {
          "data": {
            "text/plain": [
              "Name               Teenage Mutant Ninja Turtles: Game Boy Advance...\n",
              "Platform                                                         GBA\n",
              "Year_of_Release                                               2004.0\n",
              "Genre                                                           Misc\n",
              "Publisher                                                        NaN\n",
              "NA_Sales                                                        0.12\n",
              "EU_Sales                                                        0.04\n",
              "JP_Sales                                                         0.0\n",
              "Other_Sales                                                      0.0\n",
              "Global_Sales                                                    0.17\n",
              "Developer                                                        NaN\n",
              "Rating                                                             0\n",
              "Name: 8358, dtype: object"
            ]
          },
          "execution_count": 60,
          "metadata": {},
          "output_type": "execute_result"
        }
      ],
      "source": [
        "# https://gba-video.fandom.com/wiki/Teenage_Mutant_Ninja_Turtles_Volume_1\n",
        "video_games.loc[8358]"
      ]
    },
    {
      "cell_type": "code",
      "execution_count": 61,
      "metadata": {
        "collapsed": true,
        "id": "eIkmmVZuC2wQ"
      },
      "outputs": [],
      "source": [
        "# Corrigindo informações da linha 8358\n",
        "video_games.loc[8358, 'Publisher'] = 'Nintendo'\n",
        "video_games.loc[8358, 'Developer'] = 'Majesco'"
      ]
    },
    {
      "cell_type": "code",
      "execution_count": 62,
      "metadata": {
        "colab": {
          "base_uri": "https://localhost:8080/",
          "height": 460
        },
        "collapsed": true,
        "id": "1UguY6v9DQZf",
        "outputId": "a20e14eb-caa8-4ed3-d649-9a9982150056"
      },
      "outputs": [
        {
          "data": {
            "text/plain": [
              "Name                  Stronghold 3\n",
              "Platform                        PC\n",
              "Year_of_Release             2011.0\n",
              "Genre                     Strategy\n",
              "Publisher                      NaN\n",
              "NA_Sales                      0.06\n",
              "EU_Sales                       0.1\n",
              "JP_Sales                       0.0\n",
              "Other_Sales                    0.0\n",
              "Global_Sales                  0.16\n",
              "Developer          FireFly Studios\n",
              "Rating                           2\n",
              "Name: 8494, dtype: object"
            ]
          },
          "execution_count": 62,
          "metadata": {},
          "output_type": "execute_result"
        }
      ],
      "source": [
        "# https://pt.wikipedia.org/wiki/Stronghold_3\n",
        "video_games.loc[8494]"
      ]
    },
    {
      "cell_type": "code",
      "execution_count": 63,
      "metadata": {
        "collapsed": true,
        "id": "T44c4QE3DZB0"
      },
      "outputs": [],
      "source": [
        "# Corrigindo informações da linha 8494\n",
        "video_games.loc[8494, 'Publisher'] = 'SouthPeak Games'"
      ]
    },
    {
      "cell_type": "code",
      "execution_count": 64,
      "metadata": {
        "colab": {
          "base_uri": "https://localhost:8080/",
          "height": 460
        },
        "collapsed": true,
        "id": "mJtbjXu4Dm9u",
        "outputId": "314bcb0f-a254-4095-82d1-7b1169867a35"
      },
      "outputs": [
        {
          "data": {
            "text/plain": [
              "Name               Cartoon Network Collection: Game Boy Advance V...\n",
              "Platform                                                         GBA\n",
              "Year_of_Release                                               2005.0\n",
              "Genre                                                           Misc\n",
              "Publisher                                                        NaN\n",
              "NA_Sales                                                        0.11\n",
              "EU_Sales                                                        0.04\n",
              "JP_Sales                                                         0.0\n",
              "Other_Sales                                                      0.0\n",
              "Global_Sales                                                    0.15\n",
              "Developer                                                        NaN\n",
              "Rating                                                             0\n",
              "Name: 8754, dtype: object"
            ]
          },
          "execution_count": 64,
          "metadata": {},
          "output_type": "execute_result"
        }
      ],
      "source": [
        "# https://gamefaqs.gamespot.com/gba/629324-game-boy-advance-video-cartoon-network-collection-special\n",
        "video_games.loc[8754]"
      ]
    },
    {
      "cell_type": "code",
      "execution_count": 65,
      "metadata": {
        "collapsed": true,
        "id": "37Qt8CtnD7zI"
      },
      "outputs": [],
      "source": [
        "# Corrigindo informações da linha 8754\n",
        "video_games.loc[8754, 'Publisher'] = 'Majesco'\n",
        "video_games.loc[8754, 'Developer'] = 'Majesco'"
      ]
    },
    {
      "cell_type": "code",
      "execution_count": 66,
      "metadata": {
        "colab": {
          "base_uri": "https://localhost:8080/",
          "height": 460
        },
        "collapsed": true,
        "id": "v_AENszYEGML",
        "outputId": "96f96ff5-e1f0-4d09-c403-649ea654e241"
      },
      "outputs": [
        {
          "data": {
            "text/plain": [
              "Name               Pokémon: Johto Photo Finish: Game Boy Advance ...\n",
              "Platform                                                         GBA\n",
              "Year_of_Release                                               2004.0\n",
              "Genre                                                           Misc\n",
              "Publisher                                                        NaN\n",
              "NA_Sales                                                        0.11\n",
              "EU_Sales                                                        0.04\n",
              "JP_Sales                                                         0.0\n",
              "Other_Sales                                                      0.0\n",
              "Global_Sales                                                    0.15\n",
              "Developer                                                        NaN\n",
              "Rating                                                             0\n",
              "Name: 8837, dtype: object"
            ]
          },
          "execution_count": 66,
          "metadata": {},
          "output_type": "execute_result"
        }
      ],
      "source": [
        "# https://gamefaqs.gamespot.com/gba/922010-game-boy-advance-video-pokemon-johto-photo-finish\n",
        "video_games.loc[8837]"
      ]
    },
    {
      "cell_type": "code",
      "execution_count": 67,
      "metadata": {
        "collapsed": true,
        "id": "-H-pFhFSEbFg"
      },
      "outputs": [],
      "source": [
        "# Corrigindo informações da linha 8837\n",
        "video_games.loc[8837, 'Publisher'] = 'Nintendo'\n",
        "video_games.loc[8837, 'Developer'] = 'Nintendo'"
      ]
    },
    {
      "cell_type": "code",
      "execution_count": 68,
      "metadata": {
        "colab": {
          "base_uri": "https://localhost:8080/",
          "height": 460
        },
        "collapsed": true,
        "id": "6Pw4BUo1Eynr",
        "outputId": "830d678f-2e9e-458d-9b5c-487ed57fedfa"
      },
      "outputs": [
        {
          "data": {
            "text/plain": [
              "Name               Strawberry Shortcake: Game Boy Advance Video V...\n",
              "Platform                                                         GBA\n",
              "Year_of_Release                                               2004.0\n",
              "Genre                                                           Misc\n",
              "Publisher                                                        NaN\n",
              "NA_Sales                                                        0.11\n",
              "EU_Sales                                                        0.04\n",
              "JP_Sales                                                         0.0\n",
              "Other_Sales                                                      0.0\n",
              "Global_Sales                                                    0.15\n",
              "Developer                                                        NaN\n",
              "Rating                                                             0\n",
              "Name: 8883, dtype: object"
            ]
          },
          "execution_count": 68,
          "metadata": {},
          "output_type": "execute_result"
        }
      ],
      "source": [
        "# https://gamefaqs.gamespot.com/gba/921950-game-boy-advance-video-strawberry-shortcake-volume-1\n",
        "video_games.loc[8883]"
      ]
    },
    {
      "cell_type": "code",
      "execution_count": 69,
      "metadata": {
        "collapsed": true,
        "id": "W7pOIQ0NFQPo"
      },
      "outputs": [],
      "source": [
        "# Corrigindo informações da linha 8883\n",
        "video_games.loc[8883, 'Publisher'] = 'Majesco'\n",
        "video_games.loc[8883, 'Developer'] = 'Majesco'"
      ]
    },
    {
      "cell_type": "code",
      "execution_count": 70,
      "metadata": {
        "colab": {
          "base_uri": "https://localhost:8080/",
          "height": 460
        },
        "collapsed": true,
        "id": "1h7D5hc3FUpA",
        "outputId": "42e6d4ba-e1bb-4f67-90d7-b1aaf9729cdd"
      },
      "outputs": [
        {
          "data": {
            "text/plain": [
              "Name               Farming Simulator 2011\n",
              "Platform                               PC\n",
              "Year_of_Release                    2010.0\n",
              "Genre                          Simulation\n",
              "Publisher                             NaN\n",
              "NA_Sales                              0.0\n",
              "EU_Sales                             0.13\n",
              "JP_Sales                              0.0\n",
              "Other_Sales                           0.0\n",
              "Global_Sales                         0.13\n",
              "Developer                 Giants Software\n",
              "Rating                                  0\n",
              "Name: 9511, dtype: object"
            ]
          },
          "execution_count": 70,
          "metadata": {},
          "output_type": "execute_result"
        }
      ],
      "source": [
        "# https://www.greenmangaming.com/pt/games/farming-simulator-2011-pc/?srsltid=AfmBOoo_3I-Lrj_aSMB0mm4NPIo4F8vQrJlQlKpTxczhkKnnFESsQhIO\n",
        "video_games.loc[9511]"
      ]
    },
    {
      "cell_type": "code",
      "execution_count": 71,
      "metadata": {
        "collapsed": true,
        "id": "cE6TLtAuF8Rg"
      },
      "outputs": [],
      "source": [
        "# Corrigindo informações da linha 9511\n",
        "video_games.loc[9511, 'Publisher'] = 'Giants Software'"
      ]
    },
    {
      "cell_type": "code",
      "execution_count": 72,
      "metadata": {
        "colab": {
          "base_uri": "https://localhost:8080/",
          "height": 460
        },
        "collapsed": true,
        "id": "mGoaiNdDGInw",
        "outputId": "d0322239-fa16-474e-91b3-058c77f66b8b"
      },
      "outputs": [
        {
          "data": {
            "text/plain": [
              "Name               Super Robot Wars OG Saga: Masou Kishin II - Re...\n",
              "Platform                                                         PSP\n",
              "Year_of_Release                                                  NaN\n",
              "Genre                                                       Strategy\n",
              "Publisher                                                        NaN\n",
              "NA_Sales                                                         0.0\n",
              "EU_Sales                                                         0.0\n",
              "JP_Sales                                                        0.12\n",
              "Other_Sales                                                      0.0\n",
              "Global_Sales                                                    0.12\n",
              "Developer                                                        NaN\n",
              "Rating                                                             0\n",
              "Name: 9739, dtype: object"
            ]
          },
          "execution_count": 72,
          "metadata": {},
          "output_type": "execute_result"
        }
      ],
      "source": [
        "# https://gamefaqs.gamespot.com/psp/647928-super-robot-taisen-og-saga-masou-kishin-ii-revelation-of\n",
        "video_games.loc[9739]"
      ]
    },
    {
      "cell_type": "code",
      "execution_count": 73,
      "metadata": {
        "collapsed": true,
        "id": "cyBBdyrCGX0a"
      },
      "outputs": [],
      "source": [
        "# Corrigindo informações da linha 9739\n",
        "video_games.loc[9739, 'Publisher'] = 'Bandai Namco Games'\n",
        "video_games.loc[9739, 'Developer'] = 'WinkySoft'\n",
        "video_games.loc[9739, 'Year_of_Release'] = 2012.0"
      ]
    },
    {
      "cell_type": "code",
      "execution_count": 74,
      "metadata": {
        "colab": {
          "base_uri": "https://localhost:8080/",
          "height": 460
        },
        "collapsed": true,
        "id": "hQaHIHu3GsEE",
        "outputId": "6ecb61ce-594a-4fb6-f1b0-5ee3e1d6a06c"
      },
      "outputs": [
        {
          "data": {
            "text/plain": [
              "Name               Disney Channel Collection Vol. 1\n",
              "Platform                                        GBA\n",
              "Year_of_Release                              2004.0\n",
              "Genre                                          Misc\n",
              "Publisher                                       NaN\n",
              "NA_Sales                                       0.08\n",
              "EU_Sales                                       0.03\n",
              "JP_Sales                                        0.0\n",
              "Other_Sales                                     0.0\n",
              "Global_Sales                                   0.11\n",
              "Developer                                       NaN\n",
              "Rating                                            0\n",
              "Name: 10378, dtype: object"
            ]
          },
          "execution_count": 74,
          "metadata": {},
          "output_type": "execute_result"
        }
      ],
      "source": [
        "# https://gamefaqs.gamespot.com/gba/925330-game-boy-advance-video-disney-channel-collection-volume-1\n",
        "video_games.loc[10378]"
      ]
    },
    {
      "cell_type": "code",
      "execution_count": 75,
      "metadata": {
        "collapsed": true,
        "id": "aNm279F9Hgvc"
      },
      "outputs": [],
      "source": [
        "# Corrigindo informações da linha 10378\n",
        "video_games.loc[10378, 'Publisher'] = 'Majesco'\n",
        "video_games.loc[10378, 'Developer'] = 'Disney Interactive Studios'"
      ]
    },
    {
      "cell_type": "code",
      "execution_count": 76,
      "metadata": {
        "colab": {
          "base_uri": "https://localhost:8080/",
          "height": 460
        },
        "collapsed": true,
        "id": "KDu4ymbcIU3i",
        "outputId": "43ae8cfc-01c3-40d5-b8bd-94b8f09b55d5"
      },
      "outputs": [
        {
          "data": {
            "text/plain": [
              "Name               Atsumare! Power Pro Kun no DS Koushien\n",
              "Platform                                               DS\n",
              "Year_of_Release                                       NaN\n",
              "Genre                                              Sports\n",
              "Publisher                                             NaN\n",
              "NA_Sales                                              0.0\n",
              "EU_Sales                                              0.0\n",
              "JP_Sales                                              0.1\n",
              "Other_Sales                                           0.0\n",
              "Global_Sales                                          0.1\n",
              "Developer                                             NaN\n",
              "Rating                                                  0\n",
              "Name: 10487, dtype: object"
            ]
          },
          "execution_count": 76,
          "metadata": {},
          "output_type": "execute_result"
        }
      ],
      "source": [
        "# https://gamefaqs.gamespot.com/ds/933405-atsumare-power-pro-kun-no-ds-koushien\n",
        "video_games.loc[10487]"
      ]
    },
    {
      "cell_type": "code",
      "execution_count": 77,
      "metadata": {
        "collapsed": true,
        "id": "a0qKz1zBIfvh"
      },
      "outputs": [],
      "source": [
        "# Corrigindo informações da linha 10487\n",
        "video_games.loc[10487, 'Publisher'] = 'Konami'\n",
        "video_games.loc[10487, 'Developer'] = 'Konami'\n",
        "video_games.loc[10487, 'Year_of_Release'] = 2006.0"
      ]
    },
    {
      "cell_type": "code",
      "execution_count": 78,
      "metadata": {
        "colab": {
          "base_uri": "https://localhost:8080/",
          "height": 460
        },
        "collapsed": true,
        "id": "nSqlxzaiIssz",
        "outputId": "f0751119-3fdc-4b46-89f2-4119355252be"
      },
      "outputs": [
        {
          "data": {
            "text/plain": [
              "Name               Action Man-Operation Extreme\n",
              "Platform                                     PS\n",
              "Year_of_Release                             NaN\n",
              "Genre                                    Action\n",
              "Publisher                                   NaN\n",
              "NA_Sales                                   0.05\n",
              "EU_Sales                                   0.03\n",
              "JP_Sales                                    0.0\n",
              "Other_Sales                                0.01\n",
              "Global_Sales                               0.09\n",
              "Developer                                   NaN\n",
              "Rating                                        0\n",
              "Name: 11093, dtype: object"
            ]
          },
          "execution_count": 78,
          "metadata": {},
          "output_type": "execute_result"
        }
      ],
      "source": [
        "# https://gamefaqs.gamespot.com/ps/196539-action-man-operation-extreme\n",
        "video_games.loc[11093]"
      ]
    },
    {
      "cell_type": "code",
      "execution_count": 79,
      "metadata": {
        "collapsed": true,
        "id": "a6Z_JGdKI27S"
      },
      "outputs": [],
      "source": [
        "# Corrigindo informações da linha 11093\n",
        "video_games.loc[11093, 'Publisher'] = 'Hasbro Interactive'\n",
        "video_games.loc[11093, 'Developer'] = 'Blitz Games'\n",
        "video_games.loc[11093, 'Year_of_Release'] = 2000.0"
      ]
    },
    {
      "cell_type": "code",
      "execution_count": 80,
      "metadata": {
        "colab": {
          "base_uri": "https://localhost:8080/",
          "height": 460
        },
        "collapsed": true,
        "id": "E0WNqFK7JEDh",
        "outputId": "10518948-b6e4-4f20-e7cc-e317ed99208f"
      },
      "outputs": [
        {
          "data": {
            "text/plain": [
              "Name               Cartoon Network Collection: Game Boy Advance V...\n",
              "Platform                                                         GBA\n",
              "Year_of_Release                                               2004.0\n",
              "Genre                                                           Misc\n",
              "Publisher                                                        NaN\n",
              "NA_Sales                                                        0.06\n",
              "EU_Sales                                                        0.02\n",
              "JP_Sales                                                         0.0\n",
              "Other_Sales                                                      0.0\n",
              "Global_Sales                                                    0.08\n",
              "Developer                                                        NaN\n",
              "Rating                                                             0\n",
              "Name: 11546, dtype: object"
            ]
          },
          "execution_count": 80,
          "metadata": {},
          "output_type": "execute_result"
        }
      ],
      "source": [
        "# https://gamefaqs.gamespot.com/gba/924901-game-boy-advance-video-cartoon-network-collection-volume-2\n",
        "video_games.loc[11546]"
      ]
    },
    {
      "cell_type": "code",
      "execution_count": 81,
      "metadata": {
        "collapsed": true,
        "id": "LFoCrfr3JRnA"
      },
      "outputs": [],
      "source": [
        "# Corrigindo informações da linha 11546\n",
        "video_games.loc[11546, 'Publisher'] = 'Majesco'\n",
        "video_games.loc[11546, 'Developer'] = 'Majesco'\n"
      ]
    },
    {
      "cell_type": "code",
      "execution_count": 82,
      "metadata": {
        "colab": {
          "base_uri": "https://localhost:8080/",
          "height": 460
        },
        "collapsed": true,
        "id": "_epMaa8qJqns",
        "outputId": "3423451a-e760-4719-b343-fd9aa5d059e9"
      },
      "outputs": [
        {
          "data": {
            "text/plain": [
              "Name               Chou Soujuu Mecha MG\n",
              "Platform                             DS\n",
              "Year_of_Release                     NaN\n",
              "Genre                        Simulation\n",
              "Publisher                           NaN\n",
              "NA_Sales                            0.0\n",
              "EU_Sales                            0.0\n",
              "JP_Sales                           0.06\n",
              "Other_Sales                         0.0\n",
              "Global_Sales                       0.06\n",
              "Developer                           NaN\n",
              "Rating                                0\n",
              "Name: 12525, dtype: object"
            ]
          },
          "execution_count": 82,
          "metadata": {},
          "output_type": "execute_result"
        }
      ],
      "source": [
        "# https://gamefaqs.gamespot.com/ds/934355-chou-soujuu-mecha-mg/reviews/170076\n",
        "video_games.loc[12525]"
      ]
    },
    {
      "cell_type": "code",
      "execution_count": 83,
      "metadata": {
        "collapsed": true,
        "id": "7hEAYXipJ0LH"
      },
      "outputs": [],
      "source": [
        "# Corrigindo informações da linha 12525\n",
        "video_games.loc[12525, 'Publisher'] = 'Nintendo'\n",
        "video_games.loc[12525, 'Developer'] = 'Sandlot'\n",
        "video_games.loc[12525, 'Year_of_Release'] = 2006.0"
      ]
    },
    {
      "cell_type": "code",
      "execution_count": 84,
      "metadata": {
        "colab": {
          "base_uri": "https://localhost:8080/",
          "height": 460
        },
        "collapsed": true,
        "id": "cZiDUzk5J9yk",
        "outputId": "f86b938b-2d1c-49dd-bcc3-dfcd9095fb5d"
      },
      "outputs": [
        {
          "data": {
            "text/plain": [
              "Name               Prinny: Can I Really Be The Hero? (US sales)\n",
              "Platform                                                    PSP\n",
              "Year_of_Release                                             NaN\n",
              "Genre                                                    Action\n",
              "Publisher                                                   NaN\n",
              "NA_Sales                                                   0.06\n",
              "EU_Sales                                                    0.0\n",
              "JP_Sales                                                    0.0\n",
              "Other_Sales                                                 0.0\n",
              "Global_Sales                                               0.06\n",
              "Developer                                                   NaN\n",
              "Rating                                                        0\n",
              "Name: 12569, dtype: object"
            ]
          },
          "execution_count": 84,
          "metadata": {},
          "output_type": "execute_result"
        }
      ],
      "source": [
        "# https://en.wikipedia.org/wiki/Prinny:_Can_I_Really_Be_the_Hero%3F\n",
        "video_games.loc[12569]"
      ]
    },
    {
      "cell_type": "code",
      "execution_count": 85,
      "metadata": {
        "collapsed": true,
        "id": "EEhiJXtjKQr-"
      },
      "outputs": [],
      "source": [
        "# Corrigindo informações da linha 12569\n",
        "video_games.loc[12569, 'Publisher'] = 'Nippon Ichi Software'\n",
        "video_games.loc[12569, 'Developer'] = 'Nippon Ichi Software'\n",
        "video_games.loc[12569, 'Year_of_Release'] = 2009.0"
      ]
    },
    {
      "cell_type": "code",
      "execution_count": 86,
      "metadata": {
        "colab": {
          "base_uri": "https://localhost:8080/",
          "height": 460
        },
        "collapsed": true,
        "id": "m9Cv1ViTaHIj",
        "outputId": "2e68d6cb-fcbc-4926-9bea-a940ac545b45"
      },
      "outputs": [
        {
          "data": {
            "text/plain": [
              "Name               Monster Hunter Frontier Online\n",
              "Platform                                      PS3\n",
              "Year_of_Release                               NaN\n",
              "Genre                                Role-Playing\n",
              "Publisher                                     NaN\n",
              "NA_Sales                                      0.0\n",
              "EU_Sales                                      0.0\n",
              "JP_Sales                                     0.05\n",
              "Other_Sales                                   0.0\n",
              "Global_Sales                                 0.05\n",
              "Developer                                     NaN\n",
              "Rating                                          0\n",
              "Name: 13318, dtype: object"
            ]
          },
          "execution_count": 86,
          "metadata": {},
          "output_type": "execute_result"
        }
      ],
      "source": [
        "# https://en.wikipedia.org/wiki/Monster_Hunter_Frontier_G\n",
        "video_games.loc[13318]"
      ]
    },
    {
      "cell_type": "code",
      "execution_count": 87,
      "metadata": {
        "collapsed": true,
        "id": "cqbfnVLiaIBC"
      },
      "outputs": [],
      "source": [
        "# Corrigindo informações da linha 13318\n",
        "video_games.loc[13318, 'Publisher'] = 'Capcom'\n",
        "video_games.loc[13318, 'Developer'] = 'Capcom'\n",
        "video_games.loc[13318, 'Year_of_Release'] = 2013.0"
      ]
    },
    {
      "cell_type": "code",
      "execution_count": 88,
      "metadata": {
        "colab": {
          "base_uri": "https://localhost:8080/",
          "height": 460
        },
        "collapsed": true,
        "id": "bvWaECjMamjD",
        "outputId": "2738e37d-ca4e-49c7-d0af-2ab08148e8b5"
      },
      "outputs": [
        {
          "data": {
            "text/plain": [
              "Name               B.L.U.E.: Legend of Water\n",
              "Platform                                  PS\n",
              "Year_of_Release                          NaN\n",
              "Genre                              Adventure\n",
              "Publisher                                NaN\n",
              "NA_Sales                                 0.0\n",
              "EU_Sales                                 0.0\n",
              "JP_Sales                                0.04\n",
              "Other_Sales                              0.0\n",
              "Global_Sales                            0.04\n",
              "Developer                                NaN\n",
              "Rating                                     0\n",
              "Name: 13712, dtype: object"
            ]
          },
          "execution_count": 88,
          "metadata": {},
          "output_type": "execute_result"
        }
      ],
      "source": [
        "# https://gamefaqs.gamespot.com/ps/572662-blue-legend-of-water\n",
        "video_games.loc[13712]"
      ]
    },
    {
      "cell_type": "code",
      "execution_count": 89,
      "metadata": {
        "collapsed": true,
        "id": "mYXPzrU3a6PO"
      },
      "outputs": [],
      "source": [
        "# Corrigindo informações da linha 13712\n",
        "video_games.loc[13712, 'Publisher'] = 'Hudson'\n",
        "video_games.loc[13712, 'Developer'] = 'CAProduction'\n",
        "video_games.loc[13712, 'Year_of_Release'] = 1998.0"
      ]
    },
    {
      "cell_type": "code",
      "execution_count": 90,
      "metadata": {
        "colab": {
          "base_uri": "https://localhost:8080/",
          "height": 460
        },
        "collapsed": true,
        "id": "ExP-PwUZbLvp",
        "outputId": "085ea80e-74c6-4df1-88f7-c83edb9c415d"
      },
      "outputs": [
        {
          "data": {
            "text/plain": [
              "Name               Bikkuriman Daijiten\n",
              "Platform                            DS\n",
              "Year_of_Release                    NaN\n",
              "Genre                             Misc\n",
              "Publisher                          NaN\n",
              "NA_Sales                           0.0\n",
              "EU_Sales                           0.0\n",
              "JP_Sales                          0.03\n",
              "Other_Sales                        0.0\n",
              "Global_Sales                      0.03\n",
              "Developer                          NaN\n",
              "Rating                               0\n",
              "Name: 14352, dtype: object"
            ]
          },
          "execution_count": 90,
          "metadata": {},
          "output_type": "execute_result"
        }
      ],
      "source": [
        "# https://gamefaqs.gamespot.com/ds/939478-bikkuriman-daijiten\n",
        "video_games.loc[14352]"
      ]
    },
    {
      "cell_type": "code",
      "execution_count": 91,
      "metadata": {
        "collapsed": true,
        "id": "nHKYYp9VblY-"
      },
      "outputs": [],
      "source": [
        "# Corrigindo informações da linha 14352\n",
        "video_games.loc[14352, 'Publisher'] = \"3 O'Clock\"\n",
        "video_games.loc[14352, 'Developer'] = \"3 O'Clock\"\n",
        "video_games.loc[14352, 'Year_of_Release'] = 2007.0"
      ]
    },
    {
      "cell_type": "code",
      "execution_count": 92,
      "metadata": {
        "colab": {
          "base_uri": "https://localhost:8080/",
          "height": 460
        },
        "collapsed": true,
        "id": "4WE3h4sdc4EO",
        "outputId": "d8cf5577-d01f-4448-f56a-903f107b2a22"
      },
      "outputs": [
        {
          "data": {
            "text/plain": [
              "Name                       World of Tanks\n",
              "Platform                             X360\n",
              "Year_of_Release                       NaN\n",
              "Genre                             Shooter\n",
              "Publisher                             NaN\n",
              "NA_Sales                              0.0\n",
              "EU_Sales                             0.03\n",
              "JP_Sales                              0.0\n",
              "Other_Sales                           0.0\n",
              "Global_Sales                         0.03\n",
              "Developer          Microsoft Game Studios\n",
              "Rating                                  0\n",
              "Name: 14687, dtype: object"
            ]
          },
          "execution_count": 92,
          "metadata": {},
          "output_type": "execute_result"
        }
      ],
      "source": [
        "# https://pt.wikipedia.org/wiki/World_of_Tanks\n",
        "video_games.loc[14687]"
      ]
    },
    {
      "cell_type": "code",
      "execution_count": 93,
      "metadata": {
        "collapsed": true,
        "id": "KViaTdrzdKvg"
      },
      "outputs": [],
      "source": [
        "# Corrigindo informações da linha 14687\n",
        "video_games.loc[14687, 'Publisher'] = 'Microsoft Game Studios'\n",
        "video_games.loc[14687, 'Year_of_Release'] = 2014.0"
      ]
    },
    {
      "cell_type": "code",
      "execution_count": 94,
      "metadata": {
        "colab": {
          "base_uri": "https://localhost:8080/",
          "height": 460
        },
        "collapsed": true,
        "id": "iXzRIRm1gd7Z",
        "outputId": "29750353-dcd9-48fb-b4da-213b60ecd8c1"
      },
      "outputs": [
        {
          "data": {
            "text/plain": [
              "Name               UK Truck Simulator\n",
              "Platform                           PC\n",
              "Year_of_Release                2010.0\n",
              "Genre                      Simulation\n",
              "Publisher                         NaN\n",
              "NA_Sales                          0.0\n",
              "EU_Sales                         0.03\n",
              "JP_Sales                          0.0\n",
              "Other_Sales                       0.0\n",
              "Global_Sales                     0.03\n",
              "Developer                         NaN\n",
              "Rating                              0\n",
              "Name: 14772, dtype: object"
            ]
          },
          "execution_count": 94,
          "metadata": {},
          "output_type": "execute_result"
        }
      ],
      "source": [
        "# https://gamefaqs.gamespot.com/pc/981331-uk-truck-simulator/data\n",
        "video_games.loc[14772]"
      ]
    },
    {
      "cell_type": "code",
      "execution_count": 95,
      "metadata": {
        "collapsed": true,
        "id": "d40cISpCgpOH"
      },
      "outputs": [],
      "source": [
        "# Corrigindo informações da linha 14772\n",
        "video_games.loc[14772, 'Publisher'] = 'Excalibur Publishing'\n",
        "video_games.loc[14772, 'Developer'] = 'SCS Software'"
      ]
    },
    {
      "cell_type": "code",
      "execution_count": 96,
      "metadata": {
        "colab": {
          "base_uri": "https://localhost:8080/",
          "height": 460
        },
        "collapsed": true,
        "id": "-P2Ck79sgyQH",
        "outputId": "bca68f71-2f8b-4f77-c18b-586a420b3269"
      },
      "outputs": [
        {
          "data": {
            "text/plain": [
              "Name               Umineko no Naku Koro ni San: Shinjitsu to Gens...\n",
              "Platform                                                         PS3\n",
              "Year_of_Release                                                  NaN\n",
              "Genre                                                      Adventure\n",
              "Publisher                                                        NaN\n",
              "NA_Sales                                                         0.0\n",
              "EU_Sales                                                         0.0\n",
              "JP_Sales                                                        0.02\n",
              "Other_Sales                                                      0.0\n",
              "Global_Sales                                                    0.02\n",
              "Developer                                                        NaN\n",
              "Rating                                                             0\n",
              "Name: 15024, dtype: object"
            ]
          },
          "execution_count": 96,
          "metadata": {},
          "output_type": "execute_result"
        }
      ],
      "source": [
        "# https://gamefaqs.gamespot.com/ps3/637324-umineko-no-naku-koro-ni-san-shinjitsu-to-gensou-no\n",
        "video_games.loc[15024]"
      ]
    },
    {
      "cell_type": "code",
      "execution_count": 97,
      "metadata": {
        "collapsed": true,
        "id": "1gu0FMf9hFG7"
      },
      "outputs": [],
      "source": [
        "# Corrigindo informações da linha 15024\n",
        "video_games.loc[15024, 'Publisher'] = 'Alchemist'\n",
        "video_games.loc[15024, 'Developer'] = '07th Expansion'\n",
        "video_games.loc[15024, 'Year_of_Release'] = 2011.0"
      ]
    },
    {
      "cell_type": "code",
      "execution_count": 98,
      "metadata": {
        "colab": {
          "base_uri": "https://localhost:8080/",
          "height": 460
        },
        "collapsed": true,
        "id": "nX-frGd-hRS1",
        "outputId": "833ef971-6104-4233-f2e0-ef3e1a5d8d40"
      },
      "outputs": [
        {
          "data": {
            "text/plain": [
              "Name               Mario Tennis\n",
              "Platform                    3DS\n",
              "Year_of_Release             NaN\n",
              "Genre                    Sports\n",
              "Publisher                   NaN\n",
              "NA_Sales                    0.0\n",
              "EU_Sales                    0.0\n",
              "JP_Sales                   0.02\n",
              "Other_Sales                 0.0\n",
              "Global_Sales               0.02\n",
              "Developer                   NaN\n",
              "Rating                        0\n",
              "Name: 15340, dtype: object"
            ]
          },
          "execution_count": 98,
          "metadata": {},
          "output_type": "execute_result"
        }
      ],
      "source": [
        "# https://en.wikipedia.org/wiki/Mario_Tennis_Open\n",
        "video_games.loc[15340]"
      ]
    },
    {
      "cell_type": "code",
      "execution_count": 99,
      "metadata": {
        "collapsed": true,
        "id": "mrQCRBbDhpcy"
      },
      "outputs": [],
      "source": [
        "# Corrigindo informações da linha 15340\n",
        "video_games.loc[15340, 'Publisher'] = 'Nintendo'\n",
        "video_games.loc[15340, 'Developer'] = 'Camelot Software Planning'\n",
        "video_games.loc[15340, 'Year_of_Release'] = 2012.0"
      ]
    },
    {
      "cell_type": "code",
      "execution_count": 100,
      "metadata": {
        "colab": {
          "base_uri": "https://localhost:8080/",
          "height": 460
        },
        "collapsed": true,
        "id": "JAci_oVUiEF9",
        "outputId": "47e7a638-dca8-4c2b-81da-ffda84d7afdc"
      },
      "outputs": [
        {
          "data": {
            "text/plain": [
              "Name               Nicktoons Collection: Game Boy Advance Video V...\n",
              "Platform                                                         GBA\n",
              "Year_of_Release                                               2005.0\n",
              "Genre                                                           Misc\n",
              "Publisher                                                        NaN\n",
              "NA_Sales                                                        0.01\n",
              "EU_Sales                                                        0.01\n",
              "JP_Sales                                                         0.0\n",
              "Other_Sales                                                      0.0\n",
              "Global_Sales                                                    0.02\n",
              "Developer                                                        NaN\n",
              "Rating                                                             0\n",
              "Name: 15417, dtype: object"
            ]
          },
          "execution_count": 100,
          "metadata": {},
          "output_type": "execute_result"
        }
      ],
      "source": [
        "# https://gamefaqs.gamespot.com/gba/927237-game-boy-advance-video-nicktoons-collection-volume-3/data\n",
        "video_games.loc[15417]"
      ]
    },
    {
      "cell_type": "code",
      "execution_count": 101,
      "metadata": {
        "id": "wm9ldig3biJI"
      },
      "outputs": [],
      "source": [
        "# Corrigindo informações da linha 15417\n",
        "video_games.loc[15417, 'Publisher'] = 'Majesco'\n",
        "video_games.loc[15417, 'Developer'] = 'Majesco'"
      ]
    },
    {
      "cell_type": "code",
      "execution_count": 102,
      "metadata": {
        "colab": {
          "base_uri": "https://localhost:8080/",
          "height": 460
        },
        "collapsed": true,
        "id": "6eU4iD07j6dN",
        "outputId": "15adb6fb-ea01-41f3-f965-c246a51dd683"
      },
      "outputs": [
        {
          "data": {
            "text/plain": [
              "Name               Demolition Company: Gold Edition\n",
              "Platform                                         PC\n",
              "Year_of_Release                              2011.0\n",
              "Genre                                    Simulation\n",
              "Publisher                                       NaN\n",
              "NA_Sales                                        0.0\n",
              "EU_Sales                                       0.02\n",
              "JP_Sales                                        0.0\n",
              "Other_Sales                                     0.0\n",
              "Global_Sales                                   0.02\n",
              "Developer                           Giants Software\n",
              "Rating                                            0\n",
              "Name: 15442, dtype: object"
            ]
          },
          "execution_count": 102,
          "metadata": {},
          "output_type": "execute_result"
        }
      ],
      "source": [
        "# https://www.gamersgate.com/product/demolition-company-gold-edition/?srsltid=AfmBOorVKxhnFfTw8dqy8AgSBeBmXFbCcSb1z2EL2m86qBhuEf9cRo8u\n",
        "video_games.loc[15442]"
      ]
    },
    {
      "cell_type": "code",
      "execution_count": 103,
      "metadata": {
        "collapsed": true,
        "id": "VALtnNK4kFMT"
      },
      "outputs": [],
      "source": [
        "# Corrigindo informações da linha 15442\n",
        "video_games.loc[15442, 'Publisher'] = 'GIANTS Software GmbH'"
      ]
    },
    {
      "cell_type": "code",
      "execution_count": 104,
      "metadata": {
        "colab": {
          "base_uri": "https://localhost:8080/",
          "height": 460
        },
        "collapsed": true,
        "id": "IZmZCGLakQJ1",
        "outputId": "afca6b08-2cf7-466b-c1da-a975b2df1da5"
      },
      "outputs": [
        {
          "data": {
            "text/plain": [
              "Name               Moshi, Kono Sekai ni Kami-sama ga Iru to suru ...\n",
              "Platform                                                         PSV\n",
              "Year_of_Release                                               2016.0\n",
              "Genre                                                      Adventure\n",
              "Publisher                                                        NaN\n",
              "NA_Sales                                                         0.0\n",
              "EU_Sales                                                         0.0\n",
              "JP_Sales                                                        0.02\n",
              "Other_Sales                                                      0.0\n",
              "Global_Sales                                                    0.02\n",
              "Developer                                                        NaN\n",
              "Rating                                                             0\n",
              "Name: 15680, dtype: object"
            ]
          },
          "execution_count": 104,
          "metadata": {},
          "output_type": "execute_result"
        }
      ],
      "source": [
        "# https://otomeorganization.fandom.com/wiki/Moshi,_Kono_Sekai_ni_Kami-sama_ga_Iru_to_Suru_Naraba.\n",
        "video_games.loc[15680]"
      ]
    },
    {
      "cell_type": "code",
      "execution_count": 105,
      "metadata": {
        "collapsed": true,
        "id": "zMA7_Ztekfr7"
      },
      "outputs": [],
      "source": [
        "# Corrigindo informações da linha 15680\n",
        "video_games.loc[15680, 'Publisher'] = 'Rejet'\n",
        "video_games.loc[15680, 'Developer'] = 'Rejet'"
      ]
    },
    {
      "cell_type": "code",
      "execution_count": 106,
      "metadata": {
        "colab": {
          "base_uri": "https://localhost:8080/",
          "height": 460
        },
        "collapsed": true,
        "id": "hanX1kZnkrss",
        "outputId": "00ede4bd-6334-439a-dc62-8805fdba44c2"
      },
      "outputs": [
        {
          "data": {
            "text/plain": [
              "Name                                           Dream Dancer\n",
              "Platform                                                 DS\n",
              "Year_of_Release                                         NaN\n",
              "Genre                                                  Misc\n",
              "Publisher                                               NaN\n",
              "NA_Sales                                               0.01\n",
              "EU_Sales                                                0.0\n",
              "JP_Sales                                                0.0\n",
              "Other_Sales                                             0.0\n",
              "Global_Sales                                           0.02\n",
              "Developer          CyberPlanet Interactive Public Co., Ltd.\n",
              "Rating                                                    0\n",
              "Name: 16019, dtype: object"
            ]
          },
          "execution_count": 106,
          "metadata": {},
          "output_type": "execute_result"
        }
      ],
      "source": [
        "# https://gamefaqs.gamespot.com/ds/973034-dream-dancer\n",
        "video_games.loc[16019]"
      ]
    },
    {
      "cell_type": "code",
      "execution_count": 107,
      "metadata": {
        "collapsed": true,
        "id": "rz1QpTQckyOR"
      },
      "outputs": [],
      "source": [
        "# Corrigindo informações da linha 16019\n",
        "video_games.loc[16019, 'Publisher'] = 'Zoo Games'\n",
        "video_games.loc[16019, 'Year_of_Release'] = 2009.0"
      ]
    },
    {
      "cell_type": "code",
      "execution_count": 108,
      "metadata": {
        "colab": {
          "base_uri": "https://localhost:8080/",
          "height": 460
        },
        "collapsed": true,
        "id": "LhGgp5Uik9po",
        "outputId": "7c054c24-f673-4f4e-81d8-36a6f4880806"
      },
      "outputs": [
        {
          "data": {
            "text/plain": [
              "Name               Homeworld Remastered Collection\n",
              "Platform                                        PC\n",
              "Year_of_Release                                NaN\n",
              "Genre                                     Strategy\n",
              "Publisher                                      NaN\n",
              "NA_Sales                                       0.0\n",
              "EU_Sales                                      0.01\n",
              "JP_Sales                                       0.0\n",
              "Other_Sales                                    0.0\n",
              "Global_Sales                                  0.01\n",
              "Developer                         Gearbox Software\n",
              "Rating                                           3\n",
              "Name: 16280, dtype: object"
            ]
          },
          "execution_count": 108,
          "metadata": {},
          "output_type": "execute_result"
        }
      ],
      "source": [
        "# https://www.pcgamebenchmark.com/homeworld-remastered-collection-system-requirements\n",
        "video_games.loc[16280]"
      ]
    },
    {
      "cell_type": "code",
      "execution_count": 109,
      "metadata": {
        "collapsed": true,
        "id": "DToLzaKWlPhG"
      },
      "outputs": [],
      "source": [
        "# Corrigindo informações da linha 16280\n",
        "video_games.loc[16289, 'Publisher'] = 'Gearbox Software'\n",
        "video_games.loc[16289, 'Year_of_Release'] = 2015.0"
      ]
    },
    {
      "cell_type": "code",
      "execution_count": 110,
      "metadata": {
        "colab": {
          "base_uri": "https://localhost:8080/",
          "height": 460
        },
        "collapsed": true,
        "id": "CqjWndbdlfTe",
        "outputId": "5c3b0333-2d0a-4118-90b3-ad364c35c28e"
      },
      "outputs": [
        {
          "data": {
            "text/plain": [
              "Name               AKB1/48: Idol to Guam de Koishitara...\n",
              "Platform                                             X360\n",
              "Year_of_Release                                       NaN\n",
              "Genre                                                Misc\n",
              "Publisher                                             NaN\n",
              "NA_Sales                                              0.0\n",
              "EU_Sales                                              0.0\n",
              "JP_Sales                                             0.01\n",
              "Other_Sales                                           0.0\n",
              "Global_Sales                                         0.01\n",
              "Developer                                             NaN\n",
              "Rating                                                  0\n",
              "Name: 16296, dtype: object"
            ]
          },
          "execution_count": 110,
          "metadata": {},
          "output_type": "execute_result"
        }
      ],
      "source": [
        "# https://gamefaqs.gamespot.com/psp/635168-akb1-48-idol-to-guam-de-koishitara/cheats\n",
        "video_games.loc[16296]"
      ]
    },
    {
      "cell_type": "code",
      "execution_count": 111,
      "metadata": {
        "collapsed": true,
        "id": "BpGrsuTMl9U3"
      },
      "outputs": [],
      "source": [
        "# Corrigindo informações da linha 16296\n",
        "video_games.loc[16296, 'Publisher'] = 'Bandai Namco Games'\n",
        "video_games.loc[16296, 'Developer'] = 'Bandai Namco Games'\n",
        "video_games.loc[16296, 'Year_of_Release'] = 2011.0"
      ]
    },
    {
      "cell_type": "code",
      "execution_count": 112,
      "metadata": {
        "colab": {
          "base_uri": "https://localhost:8080/",
          "height": 460
        },
        "collapsed": true,
        "id": "2_aHWouTmGM4",
        "outputId": "722a8b26-2388-4145-c4a3-0fd45cf09cb7"
      },
      "outputs": [
        {
          "data": {
            "text/plain": [
              "Name               Super Robot Monkey Team: Game Boy Advance Vide...\n",
              "Platform                                                         GBA\n",
              "Year_of_Release                                               2005.0\n",
              "Genre                                                           Misc\n",
              "Publisher                                                        NaN\n",
              "NA_Sales                                                        0.01\n",
              "EU_Sales                                                         0.0\n",
              "JP_Sales                                                         0.0\n",
              "Other_Sales                                                      0.0\n",
              "Global_Sales                                                    0.01\n",
              "Developer                                                        NaN\n",
              "Rating                                                             0\n",
              "Name: 16306, dtype: object"
            ]
          },
          "execution_count": 112,
          "metadata": {},
          "output_type": "execute_result"
        }
      ],
      "source": [
        "# https://gamefaqs.gamespot.com/gba/927238-game-boy-advance-video-super-robot-monkey-team-hyper-force\n",
        "video_games.loc[16306]"
      ]
    },
    {
      "cell_type": "code",
      "execution_count": 113,
      "metadata": {
        "collapsed": true,
        "id": "58eH5EzvmS-i"
      },
      "outputs": [],
      "source": [
        "# Corrigindo informações da linha 16306\n",
        "video_games.loc[16306, 'Publisher'] = 'Majesco'\n",
        "video_games.loc[16306, 'Developer'] = 'Majesco'"
      ]
    },
    {
      "cell_type": "code",
      "execution_count": 114,
      "metadata": {
        "colab": {
          "base_uri": "https://localhost:8080/",
          "height": 547
        },
        "collapsed": true,
        "id": "flclNWSGmkAb",
        "outputId": "8e2c6a7a-f28d-437f-9fac-ae0ef8c9a639"
      },
      "outputs": [
        {
          "data": {
            "text/plain": [
              "Name               Brothers in Arms: Furious 4\n",
              "Platform                                  X360\n",
              "Year_of_Release                            NaN\n",
              "Genre                                  Shooter\n",
              "Publisher                                  NaN\n",
              "NA_Sales                                  0.01\n",
              "EU_Sales                                   0.0\n",
              "JP_Sales                                   0.0\n",
              "Other_Sales                                0.0\n",
              "Global_Sales                              0.01\n",
              "Developer                     Gearbox Software\n",
              "Rating                                       1\n",
              "Name: 16332, dtype: object"
            ]
          },
          "execution_count": 114,
          "metadata": {},
          "output_type": "execute_result"
        }
      ],
      "source": [
        "# https://en.wikipedia.org/wiki/Brothers_in_Arms:_Furious_4\n",
        "video_games.loc[16332]"
      ]
    },
    {
      "cell_type": "code",
      "execution_count": 115,
      "metadata": {
        "id": "S9lX0usdmu3t"
      },
      "outputs": [],
      "source": [
        "# O Jogo foi cancelado\n",
        "video_games = video_games.drop(16332)"
      ]
    },
    {
      "cell_type": "code",
      "execution_count": 116,
      "metadata": {
        "colab": {
          "base_uri": "https://localhost:8080/",
          "height": 460
        },
        "collapsed": true,
        "id": "VGP_4vBVnNGB",
        "outputId": "17221ba0-5232-4695-dbb4-8d611e64b0cc"
      },
      "outputs": [
        {
          "data": {
            "text/plain": [
              "Name               Dance with Devils\n",
              "Platform                         PSV\n",
              "Year_of_Release               2016.0\n",
              "Genre                         Action\n",
              "Publisher                        NaN\n",
              "NA_Sales                         0.0\n",
              "EU_Sales                         0.0\n",
              "JP_Sales                        0.01\n",
              "Other_Sales                      0.0\n",
              "Global_Sales                    0.01\n",
              "Developer                        NaN\n",
              "Rating                             0\n",
              "Name: 16339, dtype: object"
            ]
          },
          "execution_count": 116,
          "metadata": {},
          "output_type": "execute_result"
        }
      ],
      "source": [
        "# https://otome-games.fandom.com/wiki/Dance_with_Devils\n",
        "video_games.loc[16339]"
      ]
    },
    {
      "cell_type": "code",
      "execution_count": 117,
      "metadata": {
        "collapsed": true,
        "id": "QRQTvrMcnT8y"
      },
      "outputs": [],
      "source": [
        "# Corrigindo informações da linha 16339\n",
        "video_games.loc[16339, 'Publisher'] = 'Rejet'\n",
        "video_games.loc[16339, 'Developer'] = 'Rejet'"
      ]
    },
    {
      "cell_type": "code",
      "execution_count": 118,
      "metadata": {
        "colab": {
          "base_uri": "https://localhost:8080/",
          "height": 460
        },
        "collapsed": true,
        "id": "fIuKdtNFnpiC",
        "outputId": "2cc6dc99-57c5-4420-fe4d-c3db06800991"
      },
      "outputs": [
        {
          "data": {
            "text/plain": [
              "Name               Driving Simulator 2011\n",
              "Platform                               PC\n",
              "Year_of_Release                    2011.0\n",
              "Genre                              Racing\n",
              "Publisher                             NaN\n",
              "NA_Sales                              0.0\n",
              "EU_Sales                             0.01\n",
              "JP_Sales                              0.0\n",
              "Other_Sales                           0.0\n",
              "Global_Sales                         0.01\n",
              "Developer                             NaN\n",
              "Rating                                  0\n",
              "Name: 16662, dtype: object"
            ]
          },
          "execution_count": 118,
          "metadata": {},
          "output_type": "execute_result"
        }
      ],
      "source": [
        "# https://gamefaqs.gamespot.com/pc/621443-driving-simulator-2011\n",
        "video_games.loc[16662]"
      ]
    },
    {
      "cell_type": "code",
      "execution_count": 119,
      "metadata": {
        "collapsed": true,
        "id": "Slh9YHdanoIa"
      },
      "outputs": [],
      "source": [
        "# Corrigindo informações da linha 16662\n",
        "video_games.loc[16662, 'Publisher'] = 'Excalibur Publishing'\n",
        "video_games.loc[16662, 'Developer'] = 'Excalibur Publishing'"
      ]
    },
    {
      "cell_type": "code",
      "execution_count": 120,
      "metadata": {
        "id": "JRGVXx7An1K-"
      },
      "outputs": [],
      "source": [
        "# Apagando jogos que não encontramos informações\n",
        "video_games = video_games.drop(2212)\n",
        "video_games = video_games.drop(14128)"
      ]
    },
    {
      "cell_type": "code",
      "execution_count": 121,
      "metadata": {
        "id": "MMfPilVhoWDI"
      },
      "outputs": [],
      "source": [
        "# Remove as linhas que contém os dados faltantes, por se tratar de uma pequena quantia em relação a base\n",
        "video_games = video_games.dropna(subset=['Year_of_Release']).copy()\n",
        "# Converter 'Year_of_Release' para numérico, forçando erros para NaN\n",
        "video_games.loc[:, 'Year_of_Release'] = pd.to_numeric(video_games['Year_of_Release'], errors='coerce')"
      ]
    },
    {
      "cell_type": "code",
      "execution_count": 122,
      "metadata": {
        "collapsed": true,
        "id": "wC9OAC1vpfw4"
      },
      "outputs": [],
      "source": [
        "# Preencher valores nulos em 'Publisher' com uma categoria 'Unknown', pois o valor exato pode não ser crítico\n",
        "video_games.fillna({'Publisher': 'Unknown'}, inplace=True)"
      ]
    },
    {
      "cell_type": "code",
      "execution_count": 123,
      "metadata": {
        "id": "ksw2l_Dd3V7l"
      },
      "outputs": [],
      "source": [
        "# Preencher valores nulos em 'Developer' com uma categoria 'Unknown', pois o valor exato pode não ser crítico\n",
        "video_games.fillna({'Developer': 'Unknown'}, inplace=True)"
      ]
    },
    {
      "cell_type": "code",
      "execution_count": 124,
      "metadata": {
        "colab": {
          "base_uri": "https://localhost:8080/",
          "height": 460
        },
        "id": "0DIHKcPWXw3_",
        "outputId": "93642a5f-fa7d-4e1e-828a-4b5cfe5aaa7c"
      },
      "outputs": [
        {
          "data": {
            "text/plain": [
              "Name               0\n",
              "Platform           0\n",
              "Year_of_Release    0\n",
              "Genre              0\n",
              "Publisher          0\n",
              "NA_Sales           0\n",
              "EU_Sales           0\n",
              "JP_Sales           0\n",
              "Other_Sales        0\n",
              "Global_Sales       0\n",
              "Developer          0\n",
              "Rating             0\n",
              "dtype: int64"
            ]
          },
          "execution_count": 124,
          "metadata": {},
          "output_type": "execute_result"
        }
      ],
      "source": [
        "video_games.isnull().sum()"
      ]
    },
    {
      "cell_type": "code",
      "execution_count": 125,
      "metadata": {
        "colab": {
          "base_uri": "https://localhost:8080/"
        },
        "id": "ioT5H5boqBrY",
        "outputId": "8e9096dd-8c8d-476b-aaf7-67230e48ca60"
      },
      "outputs": [
        {
          "name": "stdout",
          "output_type": "stream",
          "text": [
            "<class 'pandas.core.frame.DataFrame'>\n",
            "Index: 16466 entries, 0 to 16718\n",
            "Data columns (total 12 columns):\n",
            " #   Column           Non-Null Count  Dtype  \n",
            "---  ------           --------------  -----  \n",
            " 0   Name             16466 non-null  object \n",
            " 1   Platform         16466 non-null  object \n",
            " 2   Year_of_Release  16466 non-null  float64\n",
            " 3   Genre            16466 non-null  object \n",
            " 4   Publisher        16466 non-null  object \n",
            " 5   NA_Sales         16466 non-null  float64\n",
            " 6   EU_Sales         16466 non-null  float64\n",
            " 7   JP_Sales         16466 non-null  float64\n",
            " 8   Other_Sales      16466 non-null  float64\n",
            " 9   Global_Sales     16466 non-null  float64\n",
            " 10  Developer        16466 non-null  object \n",
            " 11  Rating           16466 non-null  int64  \n",
            "dtypes: float64(6), int64(1), object(5)\n",
            "memory usage: 1.6+ MB\n"
          ]
        }
      ],
      "source": [
        "video_games.info()"
      ]
    },
    {
      "cell_type": "code",
      "execution_count": 126,
      "metadata": {
        "colab": {
          "base_uri": "https://localhost:8080/",
          "height": 300
        },
        "id": "w5DFrxZVqMKb",
        "outputId": "32a4726b-a389-4381-d17a-3de09e5037a4"
      },
      "outputs": [
        {
          "data": {
            "text/html": [
              "<div>\n",
              "<style scoped>\n",
              "    .dataframe tbody tr th:only-of-type {\n",
              "        vertical-align: middle;\n",
              "    }\n",
              "\n",
              "    .dataframe tbody tr th {\n",
              "        vertical-align: top;\n",
              "    }\n",
              "\n",
              "    .dataframe thead th {\n",
              "        text-align: right;\n",
              "    }\n",
              "</style>\n",
              "<table border=\"1\" class=\"dataframe\">\n",
              "  <thead>\n",
              "    <tr style=\"text-align: right;\">\n",
              "      <th></th>\n",
              "      <th>Year_of_Release</th>\n",
              "      <th>NA_Sales</th>\n",
              "      <th>EU_Sales</th>\n",
              "      <th>JP_Sales</th>\n",
              "      <th>Other_Sales</th>\n",
              "      <th>Global_Sales</th>\n",
              "      <th>Rating</th>\n",
              "    </tr>\n",
              "  </thead>\n",
              "  <tbody>\n",
              "    <tr>\n",
              "      <th>count</th>\n",
              "      <td>16466.000000</td>\n",
              "      <td>16466.000000</td>\n",
              "      <td>16466.000000</td>\n",
              "      <td>16466.000000</td>\n",
              "      <td>16466.000000</td>\n",
              "      <td>16466.000000</td>\n",
              "      <td>16466.000000</td>\n",
              "    </tr>\n",
              "    <tr>\n",
              "      <th>mean</th>\n",
              "      <td>2006.489979</td>\n",
              "      <td>0.263802</td>\n",
              "      <td>0.145856</td>\n",
              "      <td>0.078438</td>\n",
              "      <td>0.047565</td>\n",
              "      <td>0.535917</td>\n",
              "      <td>0.704178</td>\n",
              "    </tr>\n",
              "    <tr>\n",
              "      <th>std</th>\n",
              "      <td>5.876721</td>\n",
              "      <td>0.817945</td>\n",
              "      <td>0.506462</td>\n",
              "      <td>0.310904</td>\n",
              "      <td>0.187908</td>\n",
              "      <td>1.557804</td>\n",
              "      <td>1.041911</td>\n",
              "    </tr>\n",
              "    <tr>\n",
              "      <th>min</th>\n",
              "      <td>1980.000000</td>\n",
              "      <td>0.000000</td>\n",
              "      <td>0.000000</td>\n",
              "      <td>0.000000</td>\n",
              "      <td>0.000000</td>\n",
              "      <td>0.010000</td>\n",
              "      <td>0.000000</td>\n",
              "    </tr>\n",
              "    <tr>\n",
              "      <th>25%</th>\n",
              "      <td>2003.000000</td>\n",
              "      <td>0.000000</td>\n",
              "      <td>0.000000</td>\n",
              "      <td>0.000000</td>\n",
              "      <td>0.000000</td>\n",
              "      <td>0.060000</td>\n",
              "      <td>0.000000</td>\n",
              "    </tr>\n",
              "    <tr>\n",
              "      <th>50%</th>\n",
              "      <td>2007.000000</td>\n",
              "      <td>0.080000</td>\n",
              "      <td>0.020000</td>\n",
              "      <td>0.000000</td>\n",
              "      <td>0.010000</td>\n",
              "      <td>0.170000</td>\n",
              "      <td>0.000000</td>\n",
              "    </tr>\n",
              "    <tr>\n",
              "      <th>75%</th>\n",
              "      <td>2010.000000</td>\n",
              "      <td>0.240000</td>\n",
              "      <td>0.110000</td>\n",
              "      <td>0.040000</td>\n",
              "      <td>0.030000</td>\n",
              "      <td>0.470000</td>\n",
              "      <td>2.000000</td>\n",
              "    </tr>\n",
              "    <tr>\n",
              "      <th>max</th>\n",
              "      <td>2020.000000</td>\n",
              "      <td>41.360000</td>\n",
              "      <td>28.960000</td>\n",
              "      <td>10.220000</td>\n",
              "      <td>10.570000</td>\n",
              "      <td>82.530000</td>\n",
              "      <td>7.000000</td>\n",
              "    </tr>\n",
              "  </tbody>\n",
              "</table>\n",
              "</div>"
            ],
            "text/plain": [
              "       Year_of_Release      NA_Sales      EU_Sales      JP_Sales  \\\n",
              "count     16466.000000  16466.000000  16466.000000  16466.000000   \n",
              "mean       2006.489979      0.263802      0.145856      0.078438   \n",
              "std           5.876721      0.817945      0.506462      0.310904   \n",
              "min        1980.000000      0.000000      0.000000      0.000000   \n",
              "25%        2003.000000      0.000000      0.000000      0.000000   \n",
              "50%        2007.000000      0.080000      0.020000      0.000000   \n",
              "75%        2010.000000      0.240000      0.110000      0.040000   \n",
              "max        2020.000000     41.360000     28.960000     10.220000   \n",
              "\n",
              "        Other_Sales  Global_Sales        Rating  \n",
              "count  16466.000000  16466.000000  16466.000000  \n",
              "mean       0.047565      0.535917      0.704178  \n",
              "std        0.187908      1.557804      1.041911  \n",
              "min        0.000000      0.010000      0.000000  \n",
              "25%        0.000000      0.060000      0.000000  \n",
              "50%        0.010000      0.170000      0.000000  \n",
              "75%        0.030000      0.470000      2.000000  \n",
              "max       10.570000     82.530000      7.000000  "
            ]
          },
          "execution_count": 126,
          "metadata": {},
          "output_type": "execute_result"
        }
      ],
      "source": [
        "video_games.describe()"
      ]
    },
    {
      "cell_type": "code",
      "execution_count": 127,
      "metadata": {
        "colab": {
          "base_uri": "https://localhost:8080/",
          "height": 1000
        },
        "id": "k3JYKH4qq5aV",
        "outputId": "0c4fe159-3a50-4b3d-e4b5-d79dc7ca8008"
      },
      "outputs": [
        {
          "data": {
            "text/html": [
              "<div>\n",
              "<style scoped>\n",
              "    .dataframe tbody tr th:only-of-type {\n",
              "        vertical-align: middle;\n",
              "    }\n",
              "\n",
              "    .dataframe tbody tr th {\n",
              "        vertical-align: top;\n",
              "    }\n",
              "\n",
              "    .dataframe thead th {\n",
              "        text-align: right;\n",
              "    }\n",
              "</style>\n",
              "<table border=\"1\" class=\"dataframe\">\n",
              "  <thead>\n",
              "    <tr style=\"text-align: right;\">\n",
              "      <th></th>\n",
              "      <th>Name</th>\n",
              "      <th>Platform</th>\n",
              "      <th>Year_of_Release</th>\n",
              "      <th>Genre</th>\n",
              "      <th>Publisher</th>\n",
              "      <th>NA_Sales</th>\n",
              "      <th>EU_Sales</th>\n",
              "      <th>JP_Sales</th>\n",
              "      <th>Other_Sales</th>\n",
              "      <th>Global_Sales</th>\n",
              "      <th>Developer</th>\n",
              "      <th>Rating</th>\n",
              "    </tr>\n",
              "  </thead>\n",
              "  <tbody>\n",
              "    <tr>\n",
              "      <th>0</th>\n",
              "      <td>Wii Sports</td>\n",
              "      <td>Wii</td>\n",
              "      <td>2006.0</td>\n",
              "      <td>Sports</td>\n",
              "      <td>Nintendo</td>\n",
              "      <td>41.36</td>\n",
              "      <td>28.96</td>\n",
              "      <td>3.77</td>\n",
              "      <td>8.45</td>\n",
              "      <td>82.53</td>\n",
              "      <td>Nintendo</td>\n",
              "      <td>0</td>\n",
              "    </tr>\n",
              "    <tr>\n",
              "      <th>1</th>\n",
              "      <td>Super Mario Bros.</td>\n",
              "      <td>NES</td>\n",
              "      <td>1985.0</td>\n",
              "      <td>Platform</td>\n",
              "      <td>Nintendo</td>\n",
              "      <td>29.08</td>\n",
              "      <td>3.58</td>\n",
              "      <td>6.81</td>\n",
              "      <td>0.77</td>\n",
              "      <td>40.24</td>\n",
              "      <td>Unknown</td>\n",
              "      <td>0</td>\n",
              "    </tr>\n",
              "    <tr>\n",
              "      <th>2</th>\n",
              "      <td>Mario Kart Wii</td>\n",
              "      <td>Wii</td>\n",
              "      <td>2008.0</td>\n",
              "      <td>Racing</td>\n",
              "      <td>Nintendo</td>\n",
              "      <td>15.68</td>\n",
              "      <td>12.76</td>\n",
              "      <td>3.79</td>\n",
              "      <td>3.29</td>\n",
              "      <td>35.52</td>\n",
              "      <td>Nintendo</td>\n",
              "      <td>0</td>\n",
              "    </tr>\n",
              "    <tr>\n",
              "      <th>3</th>\n",
              "      <td>Wii Sports Resort</td>\n",
              "      <td>Wii</td>\n",
              "      <td>2009.0</td>\n",
              "      <td>Sports</td>\n",
              "      <td>Nintendo</td>\n",
              "      <td>15.61</td>\n",
              "      <td>10.93</td>\n",
              "      <td>3.28</td>\n",
              "      <td>2.95</td>\n",
              "      <td>32.77</td>\n",
              "      <td>Nintendo</td>\n",
              "      <td>0</td>\n",
              "    </tr>\n",
              "    <tr>\n",
              "      <th>4</th>\n",
              "      <td>Pokemon Red/Pokemon Blue</td>\n",
              "      <td>GB</td>\n",
              "      <td>1996.0</td>\n",
              "      <td>Role-Playing</td>\n",
              "      <td>Nintendo</td>\n",
              "      <td>11.27</td>\n",
              "      <td>8.89</td>\n",
              "      <td>10.22</td>\n",
              "      <td>1.00</td>\n",
              "      <td>31.37</td>\n",
              "      <td>Unknown</td>\n",
              "      <td>0</td>\n",
              "    </tr>\n",
              "    <tr>\n",
              "      <th>5</th>\n",
              "      <td>Tetris</td>\n",
              "      <td>GB</td>\n",
              "      <td>1989.0</td>\n",
              "      <td>Puzzle</td>\n",
              "      <td>Nintendo</td>\n",
              "      <td>23.20</td>\n",
              "      <td>2.26</td>\n",
              "      <td>4.22</td>\n",
              "      <td>0.58</td>\n",
              "      <td>30.26</td>\n",
              "      <td>Unknown</td>\n",
              "      <td>0</td>\n",
              "    </tr>\n",
              "    <tr>\n",
              "      <th>6</th>\n",
              "      <td>New Super Mario Bros.</td>\n",
              "      <td>DS</td>\n",
              "      <td>2006.0</td>\n",
              "      <td>Platform</td>\n",
              "      <td>Nintendo</td>\n",
              "      <td>11.28</td>\n",
              "      <td>9.14</td>\n",
              "      <td>6.50</td>\n",
              "      <td>2.88</td>\n",
              "      <td>29.80</td>\n",
              "      <td>Nintendo</td>\n",
              "      <td>0</td>\n",
              "    </tr>\n",
              "    <tr>\n",
              "      <th>7</th>\n",
              "      <td>Wii Play</td>\n",
              "      <td>Wii</td>\n",
              "      <td>2006.0</td>\n",
              "      <td>Misc</td>\n",
              "      <td>Nintendo</td>\n",
              "      <td>13.96</td>\n",
              "      <td>9.18</td>\n",
              "      <td>2.93</td>\n",
              "      <td>2.84</td>\n",
              "      <td>28.92</td>\n",
              "      <td>Nintendo</td>\n",
              "      <td>0</td>\n",
              "    </tr>\n",
              "    <tr>\n",
              "      <th>8</th>\n",
              "      <td>New Super Mario Bros. Wii</td>\n",
              "      <td>Wii</td>\n",
              "      <td>2009.0</td>\n",
              "      <td>Platform</td>\n",
              "      <td>Nintendo</td>\n",
              "      <td>14.44</td>\n",
              "      <td>6.94</td>\n",
              "      <td>4.70</td>\n",
              "      <td>2.24</td>\n",
              "      <td>28.32</td>\n",
              "      <td>Nintendo</td>\n",
              "      <td>0</td>\n",
              "    </tr>\n",
              "    <tr>\n",
              "      <th>9</th>\n",
              "      <td>Duck Hunt</td>\n",
              "      <td>NES</td>\n",
              "      <td>1984.0</td>\n",
              "      <td>Shooter</td>\n",
              "      <td>Nintendo</td>\n",
              "      <td>26.93</td>\n",
              "      <td>0.63</td>\n",
              "      <td>0.28</td>\n",
              "      <td>0.47</td>\n",
              "      <td>28.31</td>\n",
              "      <td>Unknown</td>\n",
              "      <td>0</td>\n",
              "    </tr>\n",
              "    <tr>\n",
              "      <th>10</th>\n",
              "      <td>Nintendogs</td>\n",
              "      <td>DS</td>\n",
              "      <td>2005.0</td>\n",
              "      <td>Simulation</td>\n",
              "      <td>Nintendo</td>\n",
              "      <td>9.05</td>\n",
              "      <td>10.95</td>\n",
              "      <td>1.93</td>\n",
              "      <td>2.74</td>\n",
              "      <td>24.67</td>\n",
              "      <td>Unknown</td>\n",
              "      <td>0</td>\n",
              "    </tr>\n",
              "    <tr>\n",
              "      <th>11</th>\n",
              "      <td>Mario Kart DS</td>\n",
              "      <td>DS</td>\n",
              "      <td>2005.0</td>\n",
              "      <td>Racing</td>\n",
              "      <td>Nintendo</td>\n",
              "      <td>9.71</td>\n",
              "      <td>7.47</td>\n",
              "      <td>4.13</td>\n",
              "      <td>1.90</td>\n",
              "      <td>23.21</td>\n",
              "      <td>Nintendo</td>\n",
              "      <td>0</td>\n",
              "    </tr>\n",
              "    <tr>\n",
              "      <th>12</th>\n",
              "      <td>Pokemon Gold/Pokemon Silver</td>\n",
              "      <td>GB</td>\n",
              "      <td>1999.0</td>\n",
              "      <td>Role-Playing</td>\n",
              "      <td>Nintendo</td>\n",
              "      <td>9.00</td>\n",
              "      <td>6.18</td>\n",
              "      <td>7.20</td>\n",
              "      <td>0.71</td>\n",
              "      <td>23.10</td>\n",
              "      <td>Unknown</td>\n",
              "      <td>0</td>\n",
              "    </tr>\n",
              "    <tr>\n",
              "      <th>13</th>\n",
              "      <td>Wii Fit</td>\n",
              "      <td>Wii</td>\n",
              "      <td>2007.0</td>\n",
              "      <td>Sports</td>\n",
              "      <td>Nintendo</td>\n",
              "      <td>8.92</td>\n",
              "      <td>8.03</td>\n",
              "      <td>3.60</td>\n",
              "      <td>2.15</td>\n",
              "      <td>22.70</td>\n",
              "      <td>Nintendo</td>\n",
              "      <td>0</td>\n",
              "    </tr>\n",
              "    <tr>\n",
              "      <th>14</th>\n",
              "      <td>Kinect Adventures!</td>\n",
              "      <td>X360</td>\n",
              "      <td>2010.0</td>\n",
              "      <td>Misc</td>\n",
              "      <td>Microsoft Game Studios</td>\n",
              "      <td>15.00</td>\n",
              "      <td>4.89</td>\n",
              "      <td>0.24</td>\n",
              "      <td>1.69</td>\n",
              "      <td>21.81</td>\n",
              "      <td>Good Science Studio</td>\n",
              "      <td>0</td>\n",
              "    </tr>\n",
              "    <tr>\n",
              "      <th>15</th>\n",
              "      <td>Wii Fit Plus</td>\n",
              "      <td>Wii</td>\n",
              "      <td>2009.0</td>\n",
              "      <td>Sports</td>\n",
              "      <td>Nintendo</td>\n",
              "      <td>9.01</td>\n",
              "      <td>8.49</td>\n",
              "      <td>2.53</td>\n",
              "      <td>1.77</td>\n",
              "      <td>21.79</td>\n",
              "      <td>Nintendo</td>\n",
              "      <td>0</td>\n",
              "    </tr>\n",
              "    <tr>\n",
              "      <th>16</th>\n",
              "      <td>Grand Theft Auto V</td>\n",
              "      <td>PS3</td>\n",
              "      <td>2013.0</td>\n",
              "      <td>Action</td>\n",
              "      <td>Take-Two Interactive</td>\n",
              "      <td>7.02</td>\n",
              "      <td>9.09</td>\n",
              "      <td>0.98</td>\n",
              "      <td>3.96</td>\n",
              "      <td>21.04</td>\n",
              "      <td>Rockstar North</td>\n",
              "      <td>1</td>\n",
              "    </tr>\n",
              "    <tr>\n",
              "      <th>17</th>\n",
              "      <td>Grand Theft Auto: San Andreas</td>\n",
              "      <td>PS2</td>\n",
              "      <td>2004.0</td>\n",
              "      <td>Action</td>\n",
              "      <td>Take-Two Interactive</td>\n",
              "      <td>9.43</td>\n",
              "      <td>0.40</td>\n",
              "      <td>0.41</td>\n",
              "      <td>10.57</td>\n",
              "      <td>20.81</td>\n",
              "      <td>Rockstar North</td>\n",
              "      <td>1</td>\n",
              "    </tr>\n",
              "    <tr>\n",
              "      <th>18</th>\n",
              "      <td>Super Mario World</td>\n",
              "      <td>SNES</td>\n",
              "      <td>1990.0</td>\n",
              "      <td>Platform</td>\n",
              "      <td>Nintendo</td>\n",
              "      <td>12.78</td>\n",
              "      <td>3.75</td>\n",
              "      <td>3.54</td>\n",
              "      <td>0.55</td>\n",
              "      <td>20.61</td>\n",
              "      <td>Unknown</td>\n",
              "      <td>0</td>\n",
              "    </tr>\n",
              "    <tr>\n",
              "      <th>19</th>\n",
              "      <td>Brain Age: Train Your Brain in Minutes a Day</td>\n",
              "      <td>DS</td>\n",
              "      <td>2005.0</td>\n",
              "      <td>Misc</td>\n",
              "      <td>Nintendo</td>\n",
              "      <td>4.74</td>\n",
              "      <td>9.20</td>\n",
              "      <td>4.16</td>\n",
              "      <td>2.04</td>\n",
              "      <td>20.15</td>\n",
              "      <td>Nintendo</td>\n",
              "      <td>0</td>\n",
              "    </tr>\n",
              "    <tr>\n",
              "      <th>20</th>\n",
              "      <td>Pokemon Diamond/Pokemon Pearl</td>\n",
              "      <td>DS</td>\n",
              "      <td>2006.0</td>\n",
              "      <td>Role-Playing</td>\n",
              "      <td>Nintendo</td>\n",
              "      <td>6.38</td>\n",
              "      <td>4.46</td>\n",
              "      <td>6.04</td>\n",
              "      <td>1.36</td>\n",
              "      <td>18.25</td>\n",
              "      <td>Unknown</td>\n",
              "      <td>0</td>\n",
              "    </tr>\n",
              "    <tr>\n",
              "      <th>21</th>\n",
              "      <td>Super Mario Land</td>\n",
              "      <td>GB</td>\n",
              "      <td>1989.0</td>\n",
              "      <td>Platform</td>\n",
              "      <td>Nintendo</td>\n",
              "      <td>10.83</td>\n",
              "      <td>2.71</td>\n",
              "      <td>4.18</td>\n",
              "      <td>0.42</td>\n",
              "      <td>18.14</td>\n",
              "      <td>Unknown</td>\n",
              "      <td>0</td>\n",
              "    </tr>\n",
              "    <tr>\n",
              "      <th>22</th>\n",
              "      <td>Super Mario Bros. 3</td>\n",
              "      <td>NES</td>\n",
              "      <td>1988.0</td>\n",
              "      <td>Platform</td>\n",
              "      <td>Nintendo</td>\n",
              "      <td>9.54</td>\n",
              "      <td>3.44</td>\n",
              "      <td>3.84</td>\n",
              "      <td>0.46</td>\n",
              "      <td>17.28</td>\n",
              "      <td>Unknown</td>\n",
              "      <td>0</td>\n",
              "    </tr>\n",
              "    <tr>\n",
              "      <th>23</th>\n",
              "      <td>Grand Theft Auto V</td>\n",
              "      <td>X360</td>\n",
              "      <td>2013.0</td>\n",
              "      <td>Action</td>\n",
              "      <td>Take-Two Interactive</td>\n",
              "      <td>9.66</td>\n",
              "      <td>5.14</td>\n",
              "      <td>0.06</td>\n",
              "      <td>1.41</td>\n",
              "      <td>16.27</td>\n",
              "      <td>Rockstar North</td>\n",
              "      <td>1</td>\n",
              "    </tr>\n",
              "    <tr>\n",
              "      <th>24</th>\n",
              "      <td>Grand Theft Auto: Vice City</td>\n",
              "      <td>PS2</td>\n",
              "      <td>2002.0</td>\n",
              "      <td>Action</td>\n",
              "      <td>Take-Two Interactive</td>\n",
              "      <td>8.41</td>\n",
              "      <td>5.49</td>\n",
              "      <td>0.47</td>\n",
              "      <td>1.78</td>\n",
              "      <td>16.15</td>\n",
              "      <td>Rockstar North</td>\n",
              "      <td>1</td>\n",
              "    </tr>\n",
              "    <tr>\n",
              "      <th>25</th>\n",
              "      <td>Pokemon Ruby/Pokemon Sapphire</td>\n",
              "      <td>GBA</td>\n",
              "      <td>2002.0</td>\n",
              "      <td>Role-Playing</td>\n",
              "      <td>Nintendo</td>\n",
              "      <td>6.06</td>\n",
              "      <td>3.90</td>\n",
              "      <td>5.38</td>\n",
              "      <td>0.50</td>\n",
              "      <td>15.85</td>\n",
              "      <td>Unknown</td>\n",
              "      <td>0</td>\n",
              "    </tr>\n",
              "    <tr>\n",
              "      <th>26</th>\n",
              "      <td>Brain Age 2: More Training in Minutes a Day</td>\n",
              "      <td>DS</td>\n",
              "      <td>2005.0</td>\n",
              "      <td>Puzzle</td>\n",
              "      <td>Nintendo</td>\n",
              "      <td>3.43</td>\n",
              "      <td>5.35</td>\n",
              "      <td>5.32</td>\n",
              "      <td>1.18</td>\n",
              "      <td>15.29</td>\n",
              "      <td>Nintendo</td>\n",
              "      <td>0</td>\n",
              "    </tr>\n",
              "    <tr>\n",
              "      <th>27</th>\n",
              "      <td>Pokemon Black/Pokemon White</td>\n",
              "      <td>DS</td>\n",
              "      <td>2010.0</td>\n",
              "      <td>Role-Playing</td>\n",
              "      <td>Nintendo</td>\n",
              "      <td>5.51</td>\n",
              "      <td>3.17</td>\n",
              "      <td>5.65</td>\n",
              "      <td>0.80</td>\n",
              "      <td>15.14</td>\n",
              "      <td>Unknown</td>\n",
              "      <td>0</td>\n",
              "    </tr>\n",
              "    <tr>\n",
              "      <th>28</th>\n",
              "      <td>Gran Turismo 3: A-Spec</td>\n",
              "      <td>PS2</td>\n",
              "      <td>2001.0</td>\n",
              "      <td>Racing</td>\n",
              "      <td>Sony Computer Entertainment</td>\n",
              "      <td>6.85</td>\n",
              "      <td>5.09</td>\n",
              "      <td>1.87</td>\n",
              "      <td>1.16</td>\n",
              "      <td>14.98</td>\n",
              "      <td>Polyphony Digital</td>\n",
              "      <td>0</td>\n",
              "    </tr>\n",
              "    <tr>\n",
              "      <th>29</th>\n",
              "      <td>Call of Duty: Modern Warfare 3</td>\n",
              "      <td>X360</td>\n",
              "      <td>2011.0</td>\n",
              "      <td>Shooter</td>\n",
              "      <td>Activision</td>\n",
              "      <td>9.04</td>\n",
              "      <td>4.24</td>\n",
              "      <td>0.13</td>\n",
              "      <td>1.32</td>\n",
              "      <td>14.73</td>\n",
              "      <td>Infinity Ward, Sledgehammer Games</td>\n",
              "      <td>1</td>\n",
              "    </tr>\n",
              "    <tr>\n",
              "      <th>30</th>\n",
              "      <td>Pokémon Yellow: Special Pikachu Edition</td>\n",
              "      <td>GB</td>\n",
              "      <td>1998.0</td>\n",
              "      <td>Role-Playing</td>\n",
              "      <td>Nintendo</td>\n",
              "      <td>5.89</td>\n",
              "      <td>5.04</td>\n",
              "      <td>3.12</td>\n",
              "      <td>0.59</td>\n",
              "      <td>14.64</td>\n",
              "      <td>Unknown</td>\n",
              "      <td>0</td>\n",
              "    </tr>\n",
              "    <tr>\n",
              "      <th>31</th>\n",
              "      <td>Call of Duty: Black Ops 3</td>\n",
              "      <td>PS4</td>\n",
              "      <td>2015.0</td>\n",
              "      <td>Shooter</td>\n",
              "      <td>Activision</td>\n",
              "      <td>6.03</td>\n",
              "      <td>5.86</td>\n",
              "      <td>0.36</td>\n",
              "      <td>2.38</td>\n",
              "      <td>14.63</td>\n",
              "      <td>Unknown</td>\n",
              "      <td>0</td>\n",
              "    </tr>\n",
              "    <tr>\n",
              "      <th>32</th>\n",
              "      <td>Call of Duty: Black Ops</td>\n",
              "      <td>X360</td>\n",
              "      <td>2010.0</td>\n",
              "      <td>Shooter</td>\n",
              "      <td>Activision</td>\n",
              "      <td>9.70</td>\n",
              "      <td>3.68</td>\n",
              "      <td>0.11</td>\n",
              "      <td>1.13</td>\n",
              "      <td>14.61</td>\n",
              "      <td>Treyarch</td>\n",
              "      <td>1</td>\n",
              "    </tr>\n",
              "    <tr>\n",
              "      <th>33</th>\n",
              "      <td>Pokemon X/Pokemon Y</td>\n",
              "      <td>3DS</td>\n",
              "      <td>2013.0</td>\n",
              "      <td>Role-Playing</td>\n",
              "      <td>Nintendo</td>\n",
              "      <td>5.28</td>\n",
              "      <td>4.19</td>\n",
              "      <td>4.35</td>\n",
              "      <td>0.78</td>\n",
              "      <td>14.60</td>\n",
              "      <td>Unknown</td>\n",
              "      <td>0</td>\n",
              "    </tr>\n",
              "    <tr>\n",
              "      <th>34</th>\n",
              "      <td>Call of Duty: Black Ops II</td>\n",
              "      <td>PS3</td>\n",
              "      <td>2012.0</td>\n",
              "      <td>Shooter</td>\n",
              "      <td>Activision</td>\n",
              "      <td>4.99</td>\n",
              "      <td>5.73</td>\n",
              "      <td>0.65</td>\n",
              "      <td>2.42</td>\n",
              "      <td>13.79</td>\n",
              "      <td>Treyarch</td>\n",
              "      <td>1</td>\n",
              "    </tr>\n",
              "    <tr>\n",
              "      <th>35</th>\n",
              "      <td>Call of Duty: Black Ops II</td>\n",
              "      <td>X360</td>\n",
              "      <td>2012.0</td>\n",
              "      <td>Shooter</td>\n",
              "      <td>Activision</td>\n",
              "      <td>8.25</td>\n",
              "      <td>4.24</td>\n",
              "      <td>0.07</td>\n",
              "      <td>1.12</td>\n",
              "      <td>13.67</td>\n",
              "      <td>Treyarch</td>\n",
              "      <td>1</td>\n",
              "    </tr>\n",
              "    <tr>\n",
              "      <th>36</th>\n",
              "      <td>Call of Duty: Modern Warfare 2</td>\n",
              "      <td>X360</td>\n",
              "      <td>2009.0</td>\n",
              "      <td>Shooter</td>\n",
              "      <td>Activision</td>\n",
              "      <td>8.52</td>\n",
              "      <td>3.59</td>\n",
              "      <td>0.08</td>\n",
              "      <td>1.28</td>\n",
              "      <td>13.47</td>\n",
              "      <td>Infinity Ward</td>\n",
              "      <td>1</td>\n",
              "    </tr>\n",
              "    <tr>\n",
              "      <th>37</th>\n",
              "      <td>Call of Duty: Modern Warfare 3</td>\n",
              "      <td>PS3</td>\n",
              "      <td>2011.0</td>\n",
              "      <td>Shooter</td>\n",
              "      <td>Activision</td>\n",
              "      <td>5.54</td>\n",
              "      <td>5.73</td>\n",
              "      <td>0.49</td>\n",
              "      <td>1.57</td>\n",
              "      <td>13.32</td>\n",
              "      <td>Infinity Ward, Sledgehammer Games</td>\n",
              "      <td>1</td>\n",
              "    </tr>\n",
              "    <tr>\n",
              "      <th>38</th>\n",
              "      <td>Grand Theft Auto III</td>\n",
              "      <td>PS2</td>\n",
              "      <td>2001.0</td>\n",
              "      <td>Action</td>\n",
              "      <td>Take-Two Interactive</td>\n",
              "      <td>6.99</td>\n",
              "      <td>4.51</td>\n",
              "      <td>0.30</td>\n",
              "      <td>1.30</td>\n",
              "      <td>13.10</td>\n",
              "      <td>DMA Design</td>\n",
              "      <td>1</td>\n",
              "    </tr>\n",
              "    <tr>\n",
              "      <th>39</th>\n",
              "      <td>Super Smash Bros. Brawl</td>\n",
              "      <td>Wii</td>\n",
              "      <td>2008.0</td>\n",
              "      <td>Fighting</td>\n",
              "      <td>Nintendo</td>\n",
              "      <td>6.62</td>\n",
              "      <td>2.55</td>\n",
              "      <td>2.66</td>\n",
              "      <td>1.01</td>\n",
              "      <td>12.84</td>\n",
              "      <td>Game Arts</td>\n",
              "      <td>2</td>\n",
              "    </tr>\n",
              "    <tr>\n",
              "      <th>40</th>\n",
              "      <td>Mario Kart 7</td>\n",
              "      <td>3DS</td>\n",
              "      <td>2011.0</td>\n",
              "      <td>Racing</td>\n",
              "      <td>Nintendo</td>\n",
              "      <td>5.03</td>\n",
              "      <td>4.02</td>\n",
              "      <td>2.69</td>\n",
              "      <td>0.91</td>\n",
              "      <td>12.66</td>\n",
              "      <td>Retro Studios, Entertainment Analysis &amp; Develo...</td>\n",
              "      <td>0</td>\n",
              "    </tr>\n",
              "    <tr>\n",
              "      <th>41</th>\n",
              "      <td>Call of Duty: Black Ops</td>\n",
              "      <td>PS3</td>\n",
              "      <td>2010.0</td>\n",
              "      <td>Shooter</td>\n",
              "      <td>Activision</td>\n",
              "      <td>5.99</td>\n",
              "      <td>4.37</td>\n",
              "      <td>0.48</td>\n",
              "      <td>1.79</td>\n",
              "      <td>12.63</td>\n",
              "      <td>Treyarch</td>\n",
              "      <td>1</td>\n",
              "    </tr>\n",
              "    <tr>\n",
              "      <th>42</th>\n",
              "      <td>Grand Theft Auto V</td>\n",
              "      <td>PS4</td>\n",
              "      <td>2014.0</td>\n",
              "      <td>Action</td>\n",
              "      <td>Take-Two Interactive</td>\n",
              "      <td>3.96</td>\n",
              "      <td>6.31</td>\n",
              "      <td>0.38</td>\n",
              "      <td>1.97</td>\n",
              "      <td>12.61</td>\n",
              "      <td>Rockstar North</td>\n",
              "      <td>1</td>\n",
              "    </tr>\n",
              "    <tr>\n",
              "      <th>43</th>\n",
              "      <td>Animal Crossing: Wild World</td>\n",
              "      <td>DS</td>\n",
              "      <td>2005.0</td>\n",
              "      <td>Simulation</td>\n",
              "      <td>Nintendo</td>\n",
              "      <td>2.50</td>\n",
              "      <td>3.45</td>\n",
              "      <td>5.33</td>\n",
              "      <td>0.86</td>\n",
              "      <td>12.13</td>\n",
              "      <td>Nintendo</td>\n",
              "      <td>0</td>\n",
              "    </tr>\n",
              "    <tr>\n",
              "      <th>44</th>\n",
              "      <td>Halo 3</td>\n",
              "      <td>X360</td>\n",
              "      <td>2007.0</td>\n",
              "      <td>Shooter</td>\n",
              "      <td>Microsoft Game Studios</td>\n",
              "      <td>7.97</td>\n",
              "      <td>2.81</td>\n",
              "      <td>0.13</td>\n",
              "      <td>1.21</td>\n",
              "      <td>12.12</td>\n",
              "      <td>Bungie Software, Bungie</td>\n",
              "      <td>1</td>\n",
              "    </tr>\n",
              "    <tr>\n",
              "      <th>45</th>\n",
              "      <td>Super Mario 64</td>\n",
              "      <td>N64</td>\n",
              "      <td>1996.0</td>\n",
              "      <td>Platform</td>\n",
              "      <td>Nintendo</td>\n",
              "      <td>6.91</td>\n",
              "      <td>2.85</td>\n",
              "      <td>1.91</td>\n",
              "      <td>0.23</td>\n",
              "      <td>11.89</td>\n",
              "      <td>Unknown</td>\n",
              "      <td>0</td>\n",
              "    </tr>\n",
              "    <tr>\n",
              "      <th>46</th>\n",
              "      <td>Pokemon HeartGold/Pokemon SoulSilver</td>\n",
              "      <td>DS</td>\n",
              "      <td>2009.0</td>\n",
              "      <td>Action</td>\n",
              "      <td>Nintendo</td>\n",
              "      <td>4.34</td>\n",
              "      <td>2.71</td>\n",
              "      <td>3.96</td>\n",
              "      <td>0.76</td>\n",
              "      <td>11.77</td>\n",
              "      <td>Unknown</td>\n",
              "      <td>0</td>\n",
              "    </tr>\n",
              "    <tr>\n",
              "      <th>47</th>\n",
              "      <td>Pokemon Omega Ruby/Pokemon Alpha Sapphire</td>\n",
              "      <td>3DS</td>\n",
              "      <td>2014.0</td>\n",
              "      <td>Role-Playing</td>\n",
              "      <td>Nintendo</td>\n",
              "      <td>4.35</td>\n",
              "      <td>3.49</td>\n",
              "      <td>3.10</td>\n",
              "      <td>0.74</td>\n",
              "      <td>11.68</td>\n",
              "      <td>Unknown</td>\n",
              "      <td>0</td>\n",
              "    </tr>\n",
              "    <tr>\n",
              "      <th>48</th>\n",
              "      <td>Gran Turismo 4</td>\n",
              "      <td>PS2</td>\n",
              "      <td>2004.0</td>\n",
              "      <td>Racing</td>\n",
              "      <td>Sony Computer Entertainment</td>\n",
              "      <td>3.01</td>\n",
              "      <td>0.01</td>\n",
              "      <td>1.10</td>\n",
              "      <td>7.53</td>\n",
              "      <td>11.66</td>\n",
              "      <td>Polyphony Digital</td>\n",
              "      <td>0</td>\n",
              "    </tr>\n",
              "    <tr>\n",
              "      <th>49</th>\n",
              "      <td>Super Mario Galaxy</td>\n",
              "      <td>Wii</td>\n",
              "      <td>2007.0</td>\n",
              "      <td>Platform</td>\n",
              "      <td>Nintendo</td>\n",
              "      <td>6.06</td>\n",
              "      <td>3.35</td>\n",
              "      <td>1.20</td>\n",
              "      <td>0.74</td>\n",
              "      <td>11.35</td>\n",
              "      <td>Nintendo</td>\n",
              "      <td>0</td>\n",
              "    </tr>\n",
              "    <tr>\n",
              "      <th>50</th>\n",
              "      <td>Super Mario Land 2: 6 Golden Coins</td>\n",
              "      <td>GB</td>\n",
              "      <td>1992.0</td>\n",
              "      <td>Adventure</td>\n",
              "      <td>Nintendo</td>\n",
              "      <td>6.16</td>\n",
              "      <td>2.04</td>\n",
              "      <td>2.69</td>\n",
              "      <td>0.29</td>\n",
              "      <td>11.18</td>\n",
              "      <td>Unknown</td>\n",
              "      <td>0</td>\n",
              "    </tr>\n",
              "    <tr>\n",
              "      <th>51</th>\n",
              "      <td>Grand Theft Auto IV</td>\n",
              "      <td>X360</td>\n",
              "      <td>2008.0</td>\n",
              "      <td>Action</td>\n",
              "      <td>Take-Two Interactive</td>\n",
              "      <td>6.76</td>\n",
              "      <td>3.07</td>\n",
              "      <td>0.14</td>\n",
              "      <td>1.03</td>\n",
              "      <td>11.01</td>\n",
              "      <td>Rockstar North</td>\n",
              "      <td>1</td>\n",
              "    </tr>\n",
              "    <tr>\n",
              "      <th>52</th>\n",
              "      <td>Gran Turismo</td>\n",
              "      <td>PS</td>\n",
              "      <td>1997.0</td>\n",
              "      <td>Racing</td>\n",
              "      <td>Sony Computer Entertainment</td>\n",
              "      <td>4.02</td>\n",
              "      <td>3.87</td>\n",
              "      <td>2.54</td>\n",
              "      <td>0.52</td>\n",
              "      <td>10.95</td>\n",
              "      <td>Polyphony Digital</td>\n",
              "      <td>0</td>\n",
              "    </tr>\n",
              "    <tr>\n",
              "      <th>53</th>\n",
              "      <td>Super Mario 3D Land</td>\n",
              "      <td>3DS</td>\n",
              "      <td>2011.0</td>\n",
              "      <td>Platform</td>\n",
              "      <td>Nintendo</td>\n",
              "      <td>4.89</td>\n",
              "      <td>3.00</td>\n",
              "      <td>2.14</td>\n",
              "      <td>0.78</td>\n",
              "      <td>10.81</td>\n",
              "      <td>Nintendo</td>\n",
              "      <td>0</td>\n",
              "    </tr>\n",
              "    <tr>\n",
              "      <th>54</th>\n",
              "      <td>Gran Turismo 5</td>\n",
              "      <td>PS3</td>\n",
              "      <td>2010.0</td>\n",
              "      <td>Racing</td>\n",
              "      <td>Sony Computer Entertainment</td>\n",
              "      <td>2.96</td>\n",
              "      <td>4.82</td>\n",
              "      <td>0.81</td>\n",
              "      <td>2.11</td>\n",
              "      <td>10.70</td>\n",
              "      <td>Polyphony Digital</td>\n",
              "      <td>0</td>\n",
              "    </tr>\n",
              "    <tr>\n",
              "      <th>55</th>\n",
              "      <td>Call of Duty: Modern Warfare 2</td>\n",
              "      <td>PS3</td>\n",
              "      <td>2009.0</td>\n",
              "      <td>Shooter</td>\n",
              "      <td>Activision</td>\n",
              "      <td>4.99</td>\n",
              "      <td>3.64</td>\n",
              "      <td>0.38</td>\n",
              "      <td>1.60</td>\n",
              "      <td>10.60</td>\n",
              "      <td>Infinity Ward</td>\n",
              "      <td>1</td>\n",
              "    </tr>\n",
              "    <tr>\n",
              "      <th>56</th>\n",
              "      <td>Super Mario All-Stars</td>\n",
              "      <td>SNES</td>\n",
              "      <td>1993.0</td>\n",
              "      <td>Platform</td>\n",
              "      <td>Nintendo</td>\n",
              "      <td>5.99</td>\n",
              "      <td>2.15</td>\n",
              "      <td>2.12</td>\n",
              "      <td>0.29</td>\n",
              "      <td>10.55</td>\n",
              "      <td>Unknown</td>\n",
              "      <td>0</td>\n",
              "    </tr>\n",
              "    <tr>\n",
              "      <th>57</th>\n",
              "      <td>Grand Theft Auto IV</td>\n",
              "      <td>PS3</td>\n",
              "      <td>2008.0</td>\n",
              "      <td>Action</td>\n",
              "      <td>Take-Two Interactive</td>\n",
              "      <td>4.76</td>\n",
              "      <td>3.69</td>\n",
              "      <td>0.44</td>\n",
              "      <td>1.61</td>\n",
              "      <td>10.50</td>\n",
              "      <td>Rockstar North</td>\n",
              "      <td>1</td>\n",
              "    </tr>\n",
              "    <tr>\n",
              "      <th>58</th>\n",
              "      <td>Pokemon FireRed/Pokemon LeafGreen</td>\n",
              "      <td>GBA</td>\n",
              "      <td>2004.0</td>\n",
              "      <td>Role-Playing</td>\n",
              "      <td>Nintendo</td>\n",
              "      <td>4.34</td>\n",
              "      <td>2.65</td>\n",
              "      <td>3.15</td>\n",
              "      <td>0.35</td>\n",
              "      <td>10.49</td>\n",
              "      <td>Unknown</td>\n",
              "      <td>0</td>\n",
              "    </tr>\n",
              "    <tr>\n",
              "      <th>59</th>\n",
              "      <td>Super Mario 64</td>\n",
              "      <td>DS</td>\n",
              "      <td>2004.0</td>\n",
              "      <td>Platform</td>\n",
              "      <td>Nintendo</td>\n",
              "      <td>5.01</td>\n",
              "      <td>3.07</td>\n",
              "      <td>1.25</td>\n",
              "      <td>0.97</td>\n",
              "      <td>10.30</td>\n",
              "      <td>Unknown</td>\n",
              "      <td>0</td>\n",
              "    </tr>\n",
              "  </tbody>\n",
              "</table>\n",
              "</div>"
            ],
            "text/plain": [
              "                                            Name Platform  Year_of_Release  \\\n",
              "0                                     Wii Sports      Wii           2006.0   \n",
              "1                              Super Mario Bros.      NES           1985.0   \n",
              "2                                 Mario Kart Wii      Wii           2008.0   \n",
              "3                              Wii Sports Resort      Wii           2009.0   \n",
              "4                       Pokemon Red/Pokemon Blue       GB           1996.0   \n",
              "5                                         Tetris       GB           1989.0   \n",
              "6                          New Super Mario Bros.       DS           2006.0   \n",
              "7                                       Wii Play      Wii           2006.0   \n",
              "8                      New Super Mario Bros. Wii      Wii           2009.0   \n",
              "9                                      Duck Hunt      NES           1984.0   \n",
              "10                                    Nintendogs       DS           2005.0   \n",
              "11                                 Mario Kart DS       DS           2005.0   \n",
              "12                   Pokemon Gold/Pokemon Silver       GB           1999.0   \n",
              "13                                       Wii Fit      Wii           2007.0   \n",
              "14                            Kinect Adventures!     X360           2010.0   \n",
              "15                                  Wii Fit Plus      Wii           2009.0   \n",
              "16                            Grand Theft Auto V      PS3           2013.0   \n",
              "17                 Grand Theft Auto: San Andreas      PS2           2004.0   \n",
              "18                             Super Mario World     SNES           1990.0   \n",
              "19  Brain Age: Train Your Brain in Minutes a Day       DS           2005.0   \n",
              "20                 Pokemon Diamond/Pokemon Pearl       DS           2006.0   \n",
              "21                              Super Mario Land       GB           1989.0   \n",
              "22                           Super Mario Bros. 3      NES           1988.0   \n",
              "23                            Grand Theft Auto V     X360           2013.0   \n",
              "24                   Grand Theft Auto: Vice City      PS2           2002.0   \n",
              "25                 Pokemon Ruby/Pokemon Sapphire      GBA           2002.0   \n",
              "26   Brain Age 2: More Training in Minutes a Day       DS           2005.0   \n",
              "27                   Pokemon Black/Pokemon White       DS           2010.0   \n",
              "28                        Gran Turismo 3: A-Spec      PS2           2001.0   \n",
              "29                Call of Duty: Modern Warfare 3     X360           2011.0   \n",
              "30       Pokémon Yellow: Special Pikachu Edition       GB           1998.0   \n",
              "31                     Call of Duty: Black Ops 3      PS4           2015.0   \n",
              "32                       Call of Duty: Black Ops     X360           2010.0   \n",
              "33                           Pokemon X/Pokemon Y      3DS           2013.0   \n",
              "34                    Call of Duty: Black Ops II      PS3           2012.0   \n",
              "35                    Call of Duty: Black Ops II     X360           2012.0   \n",
              "36                Call of Duty: Modern Warfare 2     X360           2009.0   \n",
              "37                Call of Duty: Modern Warfare 3      PS3           2011.0   \n",
              "38                          Grand Theft Auto III      PS2           2001.0   \n",
              "39                       Super Smash Bros. Brawl      Wii           2008.0   \n",
              "40                                  Mario Kart 7      3DS           2011.0   \n",
              "41                       Call of Duty: Black Ops      PS3           2010.0   \n",
              "42                            Grand Theft Auto V      PS4           2014.0   \n",
              "43                   Animal Crossing: Wild World       DS           2005.0   \n",
              "44                                        Halo 3     X360           2007.0   \n",
              "45                                Super Mario 64      N64           1996.0   \n",
              "46          Pokemon HeartGold/Pokemon SoulSilver       DS           2009.0   \n",
              "47     Pokemon Omega Ruby/Pokemon Alpha Sapphire      3DS           2014.0   \n",
              "48                                Gran Turismo 4      PS2           2004.0   \n",
              "49                            Super Mario Galaxy      Wii           2007.0   \n",
              "50            Super Mario Land 2: 6 Golden Coins       GB           1992.0   \n",
              "51                           Grand Theft Auto IV     X360           2008.0   \n",
              "52                                  Gran Turismo       PS           1997.0   \n",
              "53                           Super Mario 3D Land      3DS           2011.0   \n",
              "54                                Gran Turismo 5      PS3           2010.0   \n",
              "55                Call of Duty: Modern Warfare 2      PS3           2009.0   \n",
              "56                         Super Mario All-Stars     SNES           1993.0   \n",
              "57                           Grand Theft Auto IV      PS3           2008.0   \n",
              "58             Pokemon FireRed/Pokemon LeafGreen      GBA           2004.0   \n",
              "59                                Super Mario 64       DS           2004.0   \n",
              "\n",
              "           Genre                    Publisher  NA_Sales  EU_Sales  JP_Sales  \\\n",
              "0         Sports                     Nintendo     41.36     28.96      3.77   \n",
              "1       Platform                     Nintendo     29.08      3.58      6.81   \n",
              "2         Racing                     Nintendo     15.68     12.76      3.79   \n",
              "3         Sports                     Nintendo     15.61     10.93      3.28   \n",
              "4   Role-Playing                     Nintendo     11.27      8.89     10.22   \n",
              "5         Puzzle                     Nintendo     23.20      2.26      4.22   \n",
              "6       Platform                     Nintendo     11.28      9.14      6.50   \n",
              "7           Misc                     Nintendo     13.96      9.18      2.93   \n",
              "8       Platform                     Nintendo     14.44      6.94      4.70   \n",
              "9        Shooter                     Nintendo     26.93      0.63      0.28   \n",
              "10    Simulation                     Nintendo      9.05     10.95      1.93   \n",
              "11        Racing                     Nintendo      9.71      7.47      4.13   \n",
              "12  Role-Playing                     Nintendo      9.00      6.18      7.20   \n",
              "13        Sports                     Nintendo      8.92      8.03      3.60   \n",
              "14          Misc       Microsoft Game Studios     15.00      4.89      0.24   \n",
              "15        Sports                     Nintendo      9.01      8.49      2.53   \n",
              "16        Action         Take-Two Interactive      7.02      9.09      0.98   \n",
              "17        Action         Take-Two Interactive      9.43      0.40      0.41   \n",
              "18      Platform                     Nintendo     12.78      3.75      3.54   \n",
              "19          Misc                     Nintendo      4.74      9.20      4.16   \n",
              "20  Role-Playing                     Nintendo      6.38      4.46      6.04   \n",
              "21      Platform                     Nintendo     10.83      2.71      4.18   \n",
              "22      Platform                     Nintendo      9.54      3.44      3.84   \n",
              "23        Action         Take-Two Interactive      9.66      5.14      0.06   \n",
              "24        Action         Take-Two Interactive      8.41      5.49      0.47   \n",
              "25  Role-Playing                     Nintendo      6.06      3.90      5.38   \n",
              "26        Puzzle                     Nintendo      3.43      5.35      5.32   \n",
              "27  Role-Playing                     Nintendo      5.51      3.17      5.65   \n",
              "28        Racing  Sony Computer Entertainment      6.85      5.09      1.87   \n",
              "29       Shooter                   Activision      9.04      4.24      0.13   \n",
              "30  Role-Playing                     Nintendo      5.89      5.04      3.12   \n",
              "31       Shooter                   Activision      6.03      5.86      0.36   \n",
              "32       Shooter                   Activision      9.70      3.68      0.11   \n",
              "33  Role-Playing                     Nintendo      5.28      4.19      4.35   \n",
              "34       Shooter                   Activision      4.99      5.73      0.65   \n",
              "35       Shooter                   Activision      8.25      4.24      0.07   \n",
              "36       Shooter                   Activision      8.52      3.59      0.08   \n",
              "37       Shooter                   Activision      5.54      5.73      0.49   \n",
              "38        Action         Take-Two Interactive      6.99      4.51      0.30   \n",
              "39      Fighting                     Nintendo      6.62      2.55      2.66   \n",
              "40        Racing                     Nintendo      5.03      4.02      2.69   \n",
              "41       Shooter                   Activision      5.99      4.37      0.48   \n",
              "42        Action         Take-Two Interactive      3.96      6.31      0.38   \n",
              "43    Simulation                     Nintendo      2.50      3.45      5.33   \n",
              "44       Shooter       Microsoft Game Studios      7.97      2.81      0.13   \n",
              "45      Platform                     Nintendo      6.91      2.85      1.91   \n",
              "46        Action                     Nintendo      4.34      2.71      3.96   \n",
              "47  Role-Playing                     Nintendo      4.35      3.49      3.10   \n",
              "48        Racing  Sony Computer Entertainment      3.01      0.01      1.10   \n",
              "49      Platform                     Nintendo      6.06      3.35      1.20   \n",
              "50     Adventure                     Nintendo      6.16      2.04      2.69   \n",
              "51        Action         Take-Two Interactive      6.76      3.07      0.14   \n",
              "52        Racing  Sony Computer Entertainment      4.02      3.87      2.54   \n",
              "53      Platform                     Nintendo      4.89      3.00      2.14   \n",
              "54        Racing  Sony Computer Entertainment      2.96      4.82      0.81   \n",
              "55       Shooter                   Activision      4.99      3.64      0.38   \n",
              "56      Platform                     Nintendo      5.99      2.15      2.12   \n",
              "57        Action         Take-Two Interactive      4.76      3.69      0.44   \n",
              "58  Role-Playing                     Nintendo      4.34      2.65      3.15   \n",
              "59      Platform                     Nintendo      5.01      3.07      1.25   \n",
              "\n",
              "    Other_Sales  Global_Sales  \\\n",
              "0          8.45         82.53   \n",
              "1          0.77         40.24   \n",
              "2          3.29         35.52   \n",
              "3          2.95         32.77   \n",
              "4          1.00         31.37   \n",
              "5          0.58         30.26   \n",
              "6          2.88         29.80   \n",
              "7          2.84         28.92   \n",
              "8          2.24         28.32   \n",
              "9          0.47         28.31   \n",
              "10         2.74         24.67   \n",
              "11         1.90         23.21   \n",
              "12         0.71         23.10   \n",
              "13         2.15         22.70   \n",
              "14         1.69         21.81   \n",
              "15         1.77         21.79   \n",
              "16         3.96         21.04   \n",
              "17        10.57         20.81   \n",
              "18         0.55         20.61   \n",
              "19         2.04         20.15   \n",
              "20         1.36         18.25   \n",
              "21         0.42         18.14   \n",
              "22         0.46         17.28   \n",
              "23         1.41         16.27   \n",
              "24         1.78         16.15   \n",
              "25         0.50         15.85   \n",
              "26         1.18         15.29   \n",
              "27         0.80         15.14   \n",
              "28         1.16         14.98   \n",
              "29         1.32         14.73   \n",
              "30         0.59         14.64   \n",
              "31         2.38         14.63   \n",
              "32         1.13         14.61   \n",
              "33         0.78         14.60   \n",
              "34         2.42         13.79   \n",
              "35         1.12         13.67   \n",
              "36         1.28         13.47   \n",
              "37         1.57         13.32   \n",
              "38         1.30         13.10   \n",
              "39         1.01         12.84   \n",
              "40         0.91         12.66   \n",
              "41         1.79         12.63   \n",
              "42         1.97         12.61   \n",
              "43         0.86         12.13   \n",
              "44         1.21         12.12   \n",
              "45         0.23         11.89   \n",
              "46         0.76         11.77   \n",
              "47         0.74         11.68   \n",
              "48         7.53         11.66   \n",
              "49         0.74         11.35   \n",
              "50         0.29         11.18   \n",
              "51         1.03         11.01   \n",
              "52         0.52         10.95   \n",
              "53         0.78         10.81   \n",
              "54         2.11         10.70   \n",
              "55         1.60         10.60   \n",
              "56         0.29         10.55   \n",
              "57         1.61         10.50   \n",
              "58         0.35         10.49   \n",
              "59         0.97         10.30   \n",
              "\n",
              "                                            Developer  Rating  \n",
              "0                                            Nintendo       0  \n",
              "1                                             Unknown       0  \n",
              "2                                            Nintendo       0  \n",
              "3                                            Nintendo       0  \n",
              "4                                             Unknown       0  \n",
              "5                                             Unknown       0  \n",
              "6                                            Nintendo       0  \n",
              "7                                            Nintendo       0  \n",
              "8                                            Nintendo       0  \n",
              "9                                             Unknown       0  \n",
              "10                                            Unknown       0  \n",
              "11                                           Nintendo       0  \n",
              "12                                            Unknown       0  \n",
              "13                                           Nintendo       0  \n",
              "14                                Good Science Studio       0  \n",
              "15                                           Nintendo       0  \n",
              "16                                     Rockstar North       1  \n",
              "17                                     Rockstar North       1  \n",
              "18                                            Unknown       0  \n",
              "19                                           Nintendo       0  \n",
              "20                                            Unknown       0  \n",
              "21                                            Unknown       0  \n",
              "22                                            Unknown       0  \n",
              "23                                     Rockstar North       1  \n",
              "24                                     Rockstar North       1  \n",
              "25                                            Unknown       0  \n",
              "26                                           Nintendo       0  \n",
              "27                                            Unknown       0  \n",
              "28                                  Polyphony Digital       0  \n",
              "29                  Infinity Ward, Sledgehammer Games       1  \n",
              "30                                            Unknown       0  \n",
              "31                                            Unknown       0  \n",
              "32                                           Treyarch       1  \n",
              "33                                            Unknown       0  \n",
              "34                                           Treyarch       1  \n",
              "35                                           Treyarch       1  \n",
              "36                                      Infinity Ward       1  \n",
              "37                  Infinity Ward, Sledgehammer Games       1  \n",
              "38                                         DMA Design       1  \n",
              "39                                          Game Arts       2  \n",
              "40  Retro Studios, Entertainment Analysis & Develo...       0  \n",
              "41                                           Treyarch       1  \n",
              "42                                     Rockstar North       1  \n",
              "43                                           Nintendo       0  \n",
              "44                            Bungie Software, Bungie       1  \n",
              "45                                            Unknown       0  \n",
              "46                                            Unknown       0  \n",
              "47                                            Unknown       0  \n",
              "48                                  Polyphony Digital       0  \n",
              "49                                           Nintendo       0  \n",
              "50                                            Unknown       0  \n",
              "51                                     Rockstar North       1  \n",
              "52                                  Polyphony Digital       0  \n",
              "53                                           Nintendo       0  \n",
              "54                                  Polyphony Digital       0  \n",
              "55                                      Infinity Ward       1  \n",
              "56                                            Unknown       0  \n",
              "57                                     Rockstar North       1  \n",
              "58                                            Unknown       0  \n",
              "59                                            Unknown       0  "
            ]
          },
          "execution_count": 127,
          "metadata": {},
          "output_type": "execute_result"
        }
      ],
      "source": [
        "video_games.head(60)"
      ]
    },
    {
      "cell_type": "code",
      "execution_count": 128,
      "metadata": {},
      "outputs": [],
      "source": [
        "video_games.to_csv('./data/Clear_Video_Games.csv' , index=False)"
      ]
    }
  ],
  "metadata": {
    "colab": {
      "provenance": []
    },
    "kernelspec": {
      "display_name": "venv",
      "language": "python",
      "name": "python3"
    },
    "language_info": {
      "codemirror_mode": {
        "name": "ipython",
        "version": 3
      },
      "file_extension": ".py",
      "mimetype": "text/x-python",
      "name": "python",
      "nbconvert_exporter": "python",
      "pygments_lexer": "ipython3",
      "version": "3.10.12"
    }
  },
  "nbformat": 4,
  "nbformat_minor": 0
}
